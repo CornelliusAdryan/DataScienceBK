{
 "cells": [
  {
   "cell_type": "markdown",
   "id": "81b2c076",
   "metadata": {},
   "source": [
    " Table of Contens\n",
    "1. Pengumpulan Data\n",
    "2. Menelaah Data\n",
    "3. Validasi Data\n",
    "4. Menentukan Object Data\n",
    "5. Membersihkan Data\n",
    "6. Konstruksi Data\n",
    "7. Modeling\n",
    "8. Evaluasi\n",
    "9. Streamlit\n",
    "10. Kesimpulan"
   ]
  },
  {
   "cell_type": "markdown",
   "id": "05d2fc99",
   "metadata": {},
   "source": [
    "## Pengumpulan Data\n",
    "Dataset yang digunakan adalah dataset yang bersumber dari link berikut : https://archive.ics.uci.edu/dataset/45/heart+disease\n",
    "Dataset yang dipakai adalah dataset dengan nama file \"Hungarian.data\" diharapkan sebelum memakai dataset tersebut anda dapat membaca\n",
    "deskripsi dataset yang ada di dalam file \"heart-disease.names\""
   ]
  },
  {
   "cell_type": "markdown",
   "id": "be665ce0",
   "metadata": {},
   "source": [
    "## Menelaah Data"
   ]
  },
  {
   "cell_type": "code",
   "execution_count": 1,
   "id": "d9905990",
   "metadata": {},
   "outputs": [],
   "source": [
    "import pandas as pd\n",
    "import re\n",
    "import numpy as np\n",
    "import itertools"
   ]
  },
  {
   "cell_type": "markdown",
   "id": "550ef94d",
   "metadata": {},
   "source": [
    "Coding diatas merupakan</br>\n",
    "Import pandas as pd digunakan untuk melakukan membaca, menganalisis, dan menulis data dalam format DataFrame.</br>\n",
    "Import re digunakan untuk melakukan operasi pencocokan dan mengoperasi string dengan menggunakan pola – pola tertentu.</br>\n",
    "Import numpy as np digunakan untuk kegiatan mengoperasikan matematika dan dalam mengoperasikan tipe data array.</br>\n",
    "Import intertools digunakan untuk menghasilkan iterasi secara efisien, digunakan seperti kombinasi atau permutasi dari elemen – elemen yang digunakan.\n"
   ]
  },
  {
   "cell_type": "markdown",
   "id": "8969c351",
   "metadata": {},
   "source": [
    "### Load Data"
   ]
  },
  {
   "cell_type": "markdown",
   "id": "8769f563",
   "metadata": {},
   "source": [
    "masukkan dataset yang dibutuhkan dengan alamat penyimpanan yang tepat dan simpan kedalam sebuah variabel"
   ]
  },
  {
   "cell_type": "code",
   "execution_count": 2,
   "id": "e15707b7",
   "metadata": {},
   "outputs": [],
   "source": [
    "dir = 'hungarian.data'"
   ]
  },
  {
   "cell_type": "markdown",
   "id": "08b280f0",
   "metadata": {},
   "source": [
    "Memasukkan data yang akan diolah yaitu hungarian.data dengan menggunakan variabel directory."
   ]
  },
  {
   "cell_type": "code",
   "execution_count": 3,
   "id": "336cc6a6",
   "metadata": {},
   "outputs": [
    {
     "data": {
      "text/plain": [
       "['1254 0 40 1 1 0 0',\n",
       " '-9 2 140 0 289 -9 -9 -9',\n",
       " '0 -9 -9 0 12 16 84 0',\n",
       " '0 0 0 0 150 18 -9 7',\n",
       " '172 86 200 110 140 86 0 0',\n",
       " '0 -9 26 20 -9 -9 -9 -9',\n",
       " '-9 -9 -9 -9 -9 -9 -9 12',\n",
       " '20 84 0 -9 -9 -9 -9 -9',\n",
       " '-9 -9 -9 -9 -9 1 1 1',\n",
       " '1 1 -9. -9. name']"
      ]
     },
     "execution_count": 3,
     "metadata": {},
     "output_type": "execute_result"
    }
   ],
   "source": [
    "#buatlah iterasi untuk membaca dataset\n",
    "with open(dir, encoding='Latin1') as file:\n",
    "    lines = [line.strip() for line in file]\n",
    "\n",
    "lines[0:10]"
   ]
  },
  {
   "cell_type": "markdown",
   "id": "35805eaf",
   "metadata": {},
   "source": [
    "Coding diatas </br>\n",
    "Membuat iterasi untuk membaca dataset kemudian setelah membaca file dan memproses setiap barisnya, kode berikutnya mencetak 10 baris pertama dari list lines menggunakan slicing (lines[0:10]). Ini berarti kita hanya akan melihat elemen-elemen dari indeks 0 hingga 9 (10 baris pertama)."
   ]
  },
  {
   "cell_type": "code",
   "execution_count": 4,
   "id": "e4e962c1",
   "metadata": {},
   "outputs": [
    {
     "data": {
      "text/html": [
       "<div>\n",
       "<style scoped>\n",
       "    .dataframe tbody tr th:only-of-type {\n",
       "        vertical-align: middle;\n",
       "    }\n",
       "\n",
       "    .dataframe tbody tr th {\n",
       "        vertical-align: top;\n",
       "    }\n",
       "\n",
       "    .dataframe thead th {\n",
       "        text-align: right;\n",
       "    }\n",
       "</style>\n",
       "<table border=\"1\" class=\"dataframe\">\n",
       "  <thead>\n",
       "    <tr style=\"text-align: right;\">\n",
       "      <th></th>\n",
       "      <th>0</th>\n",
       "      <th>1</th>\n",
       "      <th>2</th>\n",
       "      <th>3</th>\n",
       "      <th>4</th>\n",
       "      <th>5</th>\n",
       "      <th>6</th>\n",
       "      <th>7</th>\n",
       "      <th>8</th>\n",
       "      <th>9</th>\n",
       "      <th>...</th>\n",
       "      <th>66</th>\n",
       "      <th>67</th>\n",
       "      <th>68</th>\n",
       "      <th>69</th>\n",
       "      <th>70</th>\n",
       "      <th>71</th>\n",
       "      <th>72</th>\n",
       "      <th>73</th>\n",
       "      <th>74</th>\n",
       "      <th>75</th>\n",
       "    </tr>\n",
       "  </thead>\n",
       "  <tbody>\n",
       "    <tr>\n",
       "      <th>0</th>\n",
       "      <td>1254</td>\n",
       "      <td>0</td>\n",
       "      <td>40</td>\n",
       "      <td>1</td>\n",
       "      <td>1</td>\n",
       "      <td>0</td>\n",
       "      <td>0</td>\n",
       "      <td>-9</td>\n",
       "      <td>2</td>\n",
       "      <td>140</td>\n",
       "      <td>...</td>\n",
       "      <td>-9</td>\n",
       "      <td>-9</td>\n",
       "      <td>1</td>\n",
       "      <td>1</td>\n",
       "      <td>1</td>\n",
       "      <td>1</td>\n",
       "      <td>1</td>\n",
       "      <td>-9.</td>\n",
       "      <td>-9.</td>\n",
       "      <td>name</td>\n",
       "    </tr>\n",
       "    <tr>\n",
       "      <th>1</th>\n",
       "      <td>1255</td>\n",
       "      <td>0</td>\n",
       "      <td>49</td>\n",
       "      <td>0</td>\n",
       "      <td>1</td>\n",
       "      <td>0</td>\n",
       "      <td>0</td>\n",
       "      <td>-9</td>\n",
       "      <td>3</td>\n",
       "      <td>160</td>\n",
       "      <td>...</td>\n",
       "      <td>-9</td>\n",
       "      <td>-9</td>\n",
       "      <td>1</td>\n",
       "      <td>1</td>\n",
       "      <td>1</td>\n",
       "      <td>1</td>\n",
       "      <td>1</td>\n",
       "      <td>-9.</td>\n",
       "      <td>-9.</td>\n",
       "      <td>name</td>\n",
       "    </tr>\n",
       "    <tr>\n",
       "      <th>2</th>\n",
       "      <td>1256</td>\n",
       "      <td>0</td>\n",
       "      <td>37</td>\n",
       "      <td>1</td>\n",
       "      <td>1</td>\n",
       "      <td>0</td>\n",
       "      <td>0</td>\n",
       "      <td>-9</td>\n",
       "      <td>2</td>\n",
       "      <td>130</td>\n",
       "      <td>...</td>\n",
       "      <td>-9</td>\n",
       "      <td>-9</td>\n",
       "      <td>1</td>\n",
       "      <td>1</td>\n",
       "      <td>1</td>\n",
       "      <td>1</td>\n",
       "      <td>1</td>\n",
       "      <td>-9.</td>\n",
       "      <td>-9.</td>\n",
       "      <td>name</td>\n",
       "    </tr>\n",
       "    <tr>\n",
       "      <th>3</th>\n",
       "      <td>1257</td>\n",
       "      <td>0</td>\n",
       "      <td>48</td>\n",
       "      <td>0</td>\n",
       "      <td>1</td>\n",
       "      <td>1</td>\n",
       "      <td>1</td>\n",
       "      <td>-9</td>\n",
       "      <td>4</td>\n",
       "      <td>138</td>\n",
       "      <td>...</td>\n",
       "      <td>2</td>\n",
       "      <td>-9</td>\n",
       "      <td>1</td>\n",
       "      <td>1</td>\n",
       "      <td>1</td>\n",
       "      <td>1</td>\n",
       "      <td>1</td>\n",
       "      <td>-9.</td>\n",
       "      <td>-9.</td>\n",
       "      <td>name</td>\n",
       "    </tr>\n",
       "    <tr>\n",
       "      <th>4</th>\n",
       "      <td>1258</td>\n",
       "      <td>0</td>\n",
       "      <td>54</td>\n",
       "      <td>1</td>\n",
       "      <td>1</td>\n",
       "      <td>0</td>\n",
       "      <td>1</td>\n",
       "      <td>-9</td>\n",
       "      <td>3</td>\n",
       "      <td>150</td>\n",
       "      <td>...</td>\n",
       "      <td>1</td>\n",
       "      <td>-9</td>\n",
       "      <td>1</td>\n",
       "      <td>1</td>\n",
       "      <td>1</td>\n",
       "      <td>1</td>\n",
       "      <td>1</td>\n",
       "      <td>-9.</td>\n",
       "      <td>-9.</td>\n",
       "      <td>name</td>\n",
       "    </tr>\n",
       "  </tbody>\n",
       "</table>\n",
       "<p>5 rows × 76 columns</p>\n",
       "</div>"
      ],
      "text/plain": [
       "     0  1   2  3  4  5  6   7  8    9   ...  66  67 68 69 70 71 72   73   74  \\\n",
       "0  1254  0  40  1  1  0  0  -9  2  140  ...  -9  -9  1  1  1  1  1  -9.  -9.   \n",
       "1  1255  0  49  0  1  0  0  -9  3  160  ...  -9  -9  1  1  1  1  1  -9.  -9.   \n",
       "2  1256  0  37  1  1  0  0  -9  2  130  ...  -9  -9  1  1  1  1  1  -9.  -9.   \n",
       "3  1257  0  48  0  1  1  1  -9  4  138  ...   2  -9  1  1  1  1  1  -9.  -9.   \n",
       "4  1258  0  54  1  1  0  1  -9  3  150  ...   1  -9  1  1  1  1  1  -9.  -9.   \n",
       "\n",
       "     75  \n",
       "0  name  \n",
       "1  name  \n",
       "2  name  \n",
       "3  name  \n",
       "4  name  \n",
       "\n",
       "[5 rows x 76 columns]"
      ]
     },
     "execution_count": 4,
     "metadata": {},
     "output_type": "execute_result"
    }
   ],
   "source": [
    "data = itertools.takewhile(\n",
    "    lambda x: len(x) == 76,\n",
    "    (' '.join(lines[i:(i + 10)]).split() for i in range(0, len(lines), 10))\n",
    ")\n",
    "df = pd.DataFrame.from_records(data)\n",
    "df.head()"
   ]
  },
  {
   "cell_type": "markdown",
   "id": "24b86da4",
   "metadata": {},
   "source": [
    "a.\tPenggunakan intertools untuk mengambil elemen dari pengelompokkan dari setiap grup adalah 76.</br>\n",
    "b.\tMelakukan pengelompokkan baris – baris file menjadi grup 10 baris.</br>\n",
    "c.\tKemudian membuat DataFrame baru dengan variabel df dari data yang diperoleh dari pemrosesan interpools.</br>\n",
    "d.\tMenampilkan data 5 baris pertama dengan df.head()</br>\n",
    "\n"
   ]
  },
  {
   "cell_type": "code",
   "execution_count": 5,
   "id": "99c3a5e3",
   "metadata": {},
   "outputs": [
    {
     "name": "stdout",
     "output_type": "stream",
     "text": [
      "<class 'pandas.core.frame.DataFrame'>\n",
      "RangeIndex: 294 entries, 0 to 293\n",
      "Data columns (total 76 columns):\n",
      " #   Column  Non-Null Count  Dtype \n",
      "---  ------  --------------  ----- \n",
      " 0   0       294 non-null    object\n",
      " 1   1       294 non-null    object\n",
      " 2   2       294 non-null    object\n",
      " 3   3       294 non-null    object\n",
      " 4   4       294 non-null    object\n",
      " 5   5       294 non-null    object\n",
      " 6   6       294 non-null    object\n",
      " 7   7       294 non-null    object\n",
      " 8   8       294 non-null    object\n",
      " 9   9       294 non-null    object\n",
      " 10  10      294 non-null    object\n",
      " 11  11      294 non-null    object\n",
      " 12  12      294 non-null    object\n",
      " 13  13      294 non-null    object\n",
      " 14  14      294 non-null    object\n",
      " 15  15      294 non-null    object\n",
      " 16  16      294 non-null    object\n",
      " 17  17      294 non-null    object\n",
      " 18  18      294 non-null    object\n",
      " 19  19      294 non-null    object\n",
      " 20  20      294 non-null    object\n",
      " 21  21      294 non-null    object\n",
      " 22  22      294 non-null    object\n",
      " 23  23      294 non-null    object\n",
      " 24  24      294 non-null    object\n",
      " 25  25      294 non-null    object\n",
      " 26  26      294 non-null    object\n",
      " 27  27      294 non-null    object\n",
      " 28  28      294 non-null    object\n",
      " 29  29      294 non-null    object\n",
      " 30  30      294 non-null    object\n",
      " 31  31      294 non-null    object\n",
      " 32  32      294 non-null    object\n",
      " 33  33      294 non-null    object\n",
      " 34  34      294 non-null    object\n",
      " 35  35      294 non-null    object\n",
      " 36  36      294 non-null    object\n",
      " 37  37      294 non-null    object\n",
      " 38  38      294 non-null    object\n",
      " 39  39      294 non-null    object\n",
      " 40  40      294 non-null    object\n",
      " 41  41      294 non-null    object\n",
      " 42  42      294 non-null    object\n",
      " 43  43      294 non-null    object\n",
      " 44  44      294 non-null    object\n",
      " 45  45      294 non-null    object\n",
      " 46  46      294 non-null    object\n",
      " 47  47      294 non-null    object\n",
      " 48  48      294 non-null    object\n",
      " 49  49      294 non-null    object\n",
      " 50  50      294 non-null    object\n",
      " 51  51      294 non-null    object\n",
      " 52  52      294 non-null    object\n",
      " 53  53      294 non-null    object\n",
      " 54  54      294 non-null    object\n",
      " 55  55      294 non-null    object\n",
      " 56  56      294 non-null    object\n",
      " 57  57      294 non-null    object\n",
      " 58  58      294 non-null    object\n",
      " 59  59      294 non-null    object\n",
      " 60  60      294 non-null    object\n",
      " 61  61      294 non-null    object\n",
      " 62  62      294 non-null    object\n",
      " 63  63      294 non-null    object\n",
      " 64  64      294 non-null    object\n",
      " 65  65      294 non-null    object\n",
      " 66  66      294 non-null    object\n",
      " 67  67      294 non-null    object\n",
      " 68  68      294 non-null    object\n",
      " 69  69      294 non-null    object\n",
      " 70  70      294 non-null    object\n",
      " 71  71      294 non-null    object\n",
      " 72  72      294 non-null    object\n",
      " 73  73      294 non-null    object\n",
      " 74  74      294 non-null    object\n",
      " 75  75      294 non-null    object\n",
      "dtypes: object(76)\n",
      "memory usage: 174.7+ KB\n"
     ]
    }
   ],
   "source": [
    "df.info()"
   ]
  },
  {
   "cell_type": "markdown",
   "id": "880f3fd8",
   "metadata": {},
   "source": [
    "Menampilkan informasi dari file dataset pada variabel df, terlihat pada informasi diatas data bertipe object."
   ]
  },
  {
   "cell_type": "code",
   "execution_count": 6,
   "id": "da77ecf6",
   "metadata": {},
   "outputs": [],
   "source": [
    "df = df.iloc[:,:-1]\n",
    "df = df.drop(df.columns[0], axis=1)"
   ]
  },
  {
   "cell_type": "markdown",
   "id": "dcc6bf28",
   "metadata": {},
   "source": [
    "a.\tMemilih baris dan kolom tertentu dengan iloc</br>\n",
    "b.\tMemilih semua baris (:) dan semua kolom kecuali kolom terakhir (:-1).</br>\n",
    "c.\tMenggunakan df.drop untuk menghapus kolom pertama dari DataFrame yaitu columns[0]</br>\n"
   ]
  },
  {
   "cell_type": "code",
   "execution_count": 7,
   "id": "3bf8f3cb",
   "metadata": {},
   "outputs": [],
   "source": [
    "#mengubah tipe data file dataset menjadi tipe data float \n",
    "df = df.astype(float)"
   ]
  },
  {
   "cell_type": "code",
   "execution_count": 8,
   "id": "765b1eb2",
   "metadata": {},
   "outputs": [
    {
     "name": "stdout",
     "output_type": "stream",
     "text": [
      "<class 'pandas.core.frame.DataFrame'>\n",
      "RangeIndex: 294 entries, 0 to 293\n",
      "Data columns (total 74 columns):\n",
      " #   Column  Non-Null Count  Dtype  \n",
      "---  ------  --------------  -----  \n",
      " 0   1       294 non-null    float64\n",
      " 1   2       294 non-null    float64\n",
      " 2   3       294 non-null    float64\n",
      " 3   4       294 non-null    float64\n",
      " 4   5       294 non-null    float64\n",
      " 5   6       294 non-null    float64\n",
      " 6   7       294 non-null    float64\n",
      " 7   8       294 non-null    float64\n",
      " 8   9       294 non-null    float64\n",
      " 9   10      294 non-null    float64\n",
      " 10  11      294 non-null    float64\n",
      " 11  12      294 non-null    float64\n",
      " 12  13      294 non-null    float64\n",
      " 13  14      294 non-null    float64\n",
      " 14  15      294 non-null    float64\n",
      " 15  16      294 non-null    float64\n",
      " 16  17      294 non-null    float64\n",
      " 17  18      294 non-null    float64\n",
      " 18  19      294 non-null    float64\n",
      " 19  20      294 non-null    float64\n",
      " 20  21      294 non-null    float64\n",
      " 21  22      294 non-null    float64\n",
      " 22  23      294 non-null    float64\n",
      " 23  24      294 non-null    float64\n",
      " 24  25      294 non-null    float64\n",
      " 25  26      294 non-null    float64\n",
      " 26  27      294 non-null    float64\n",
      " 27  28      294 non-null    float64\n",
      " 28  29      294 non-null    float64\n",
      " 29  30      294 non-null    float64\n",
      " 30  31      294 non-null    float64\n",
      " 31  32      294 non-null    float64\n",
      " 32  33      294 non-null    float64\n",
      " 33  34      294 non-null    float64\n",
      " 34  35      294 non-null    float64\n",
      " 35  36      294 non-null    float64\n",
      " 36  37      294 non-null    float64\n",
      " 37  38      294 non-null    float64\n",
      " 38  39      294 non-null    float64\n",
      " 39  40      294 non-null    float64\n",
      " 40  41      294 non-null    float64\n",
      " 41  42      294 non-null    float64\n",
      " 42  43      294 non-null    float64\n",
      " 43  44      294 non-null    float64\n",
      " 44  45      294 non-null    float64\n",
      " 45  46      294 non-null    float64\n",
      " 46  47      294 non-null    float64\n",
      " 47  48      294 non-null    float64\n",
      " 48  49      294 non-null    float64\n",
      " 49  50      294 non-null    float64\n",
      " 50  51      294 non-null    float64\n",
      " 51  52      294 non-null    float64\n",
      " 52  53      294 non-null    float64\n",
      " 53  54      294 non-null    float64\n",
      " 54  55      294 non-null    float64\n",
      " 55  56      294 non-null    float64\n",
      " 56  57      294 non-null    float64\n",
      " 57  58      294 non-null    float64\n",
      " 58  59      294 non-null    float64\n",
      " 59  60      294 non-null    float64\n",
      " 60  61      294 non-null    float64\n",
      " 61  62      294 non-null    float64\n",
      " 62  63      294 non-null    float64\n",
      " 63  64      294 non-null    float64\n",
      " 64  65      294 non-null    float64\n",
      " 65  66      294 non-null    float64\n",
      " 66  67      294 non-null    float64\n",
      " 67  68      294 non-null    float64\n",
      " 68  69      294 non-null    float64\n",
      " 69  70      294 non-null    float64\n",
      " 70  71      294 non-null    float64\n",
      " 71  72      294 non-null    float64\n",
      " 72  73      294 non-null    float64\n",
      " 73  74      294 non-null    float64\n",
      "dtypes: float64(74)\n",
      "memory usage: 170.1 KB\n"
     ]
    }
   ],
   "source": [
    "df.info()"
   ]
  },
  {
   "cell_type": "markdown",
   "id": "c98b9274",
   "metadata": {},
   "source": [
    "a.\tMengubah tipe data yang semula object menjadi float menggunakan df.astype</br>\n",
    "b.\tMelakukan pengecekan informasi data terbaru menggunakan df.info, mengecek apakah tipe data sudah berubah menjadi float\n",
    "\n"
   ]
  },
  {
   "cell_type": "markdown",
   "id": "5c74d6cd",
   "metadata": {},
   "source": [
    "## Validasi Data\n",
    "Pada tahap ini bertujuan untuk mengetahui dan memahami isi dari dataset agar dapat dilakukan penanganan sesuai dengan kondisinya"
   ]
  },
  {
   "cell_type": "code",
   "execution_count": 9,
   "id": "9b1dc657",
   "metadata": {},
   "outputs": [],
   "source": [
    "df.replace(-9.0, np.nan, inplace=True)"
   ]
  },
  {
   "cell_type": "markdown",
   "id": "99ac27b9",
   "metadata": {},
   "source": [
    "Mengubah isi data yang merupakan missing value yaitu -9 menjadi Nan supaya nanti dapat dirubah nilainya menggunakan df.replace.\n",
    "\n"
   ]
  },
  {
   "cell_type": "code",
   "execution_count": 10,
   "id": "166f3859",
   "metadata": {},
   "outputs": [
    {
     "data": {
      "text/plain": [
       "1       0\n",
       "2       0\n",
       "3       0\n",
       "4       0\n",
       "5       0\n",
       "     ... \n",
       "70      0\n",
       "71      0\n",
       "72      0\n",
       "73    266\n",
       "74    294\n",
       "Length: 74, dtype: int64"
      ]
     },
     "execution_count": 10,
     "metadata": {},
     "output_type": "execute_result"
    }
   ],
   "source": [
    "#Mengecek informasi nilai null value menggunakan df.isnull\n",
    "df.isnull().sum()"
   ]
  },
  {
   "cell_type": "code",
   "execution_count": 11,
   "id": "c1c210cd",
   "metadata": {},
   "outputs": [
    {
     "data": {
      "text/html": [
       "<div>\n",
       "<style scoped>\n",
       "    .dataframe tbody tr th:only-of-type {\n",
       "        vertical-align: middle;\n",
       "    }\n",
       "\n",
       "    .dataframe tbody tr th {\n",
       "        vertical-align: top;\n",
       "    }\n",
       "\n",
       "    .dataframe thead th {\n",
       "        text-align: right;\n",
       "    }\n",
       "</style>\n",
       "<table border=\"1\" class=\"dataframe\">\n",
       "  <thead>\n",
       "    <tr style=\"text-align: right;\">\n",
       "      <th></th>\n",
       "      <th>1</th>\n",
       "      <th>2</th>\n",
       "      <th>3</th>\n",
       "      <th>4</th>\n",
       "      <th>5</th>\n",
       "      <th>6</th>\n",
       "      <th>7</th>\n",
       "      <th>8</th>\n",
       "      <th>9</th>\n",
       "      <th>10</th>\n",
       "      <th>...</th>\n",
       "      <th>65</th>\n",
       "      <th>66</th>\n",
       "      <th>67</th>\n",
       "      <th>68</th>\n",
       "      <th>69</th>\n",
       "      <th>70</th>\n",
       "      <th>71</th>\n",
       "      <th>72</th>\n",
       "      <th>73</th>\n",
       "      <th>74</th>\n",
       "    </tr>\n",
       "  </thead>\n",
       "  <tbody>\n",
       "    <tr>\n",
       "      <th>0</th>\n",
       "      <td>0.0</td>\n",
       "      <td>40.0</td>\n",
       "      <td>1.0</td>\n",
       "      <td>1.0</td>\n",
       "      <td>0.0</td>\n",
       "      <td>0.0</td>\n",
       "      <td>NaN</td>\n",
       "      <td>2.0</td>\n",
       "      <td>140.0</td>\n",
       "      <td>0.0</td>\n",
       "      <td>...</td>\n",
       "      <td>NaN</td>\n",
       "      <td>NaN</td>\n",
       "      <td>NaN</td>\n",
       "      <td>1.0</td>\n",
       "      <td>1.0</td>\n",
       "      <td>1.0</td>\n",
       "      <td>1.0</td>\n",
       "      <td>1.0</td>\n",
       "      <td>NaN</td>\n",
       "      <td>NaN</td>\n",
       "    </tr>\n",
       "    <tr>\n",
       "      <th>1</th>\n",
       "      <td>0.0</td>\n",
       "      <td>49.0</td>\n",
       "      <td>0.0</td>\n",
       "      <td>1.0</td>\n",
       "      <td>0.0</td>\n",
       "      <td>0.0</td>\n",
       "      <td>NaN</td>\n",
       "      <td>3.0</td>\n",
       "      <td>160.0</td>\n",
       "      <td>1.0</td>\n",
       "      <td>...</td>\n",
       "      <td>NaN</td>\n",
       "      <td>NaN</td>\n",
       "      <td>NaN</td>\n",
       "      <td>1.0</td>\n",
       "      <td>1.0</td>\n",
       "      <td>1.0</td>\n",
       "      <td>1.0</td>\n",
       "      <td>1.0</td>\n",
       "      <td>NaN</td>\n",
       "      <td>NaN</td>\n",
       "    </tr>\n",
       "    <tr>\n",
       "      <th>2</th>\n",
       "      <td>0.0</td>\n",
       "      <td>37.0</td>\n",
       "      <td>1.0</td>\n",
       "      <td>1.0</td>\n",
       "      <td>0.0</td>\n",
       "      <td>0.0</td>\n",
       "      <td>NaN</td>\n",
       "      <td>2.0</td>\n",
       "      <td>130.0</td>\n",
       "      <td>0.0</td>\n",
       "      <td>...</td>\n",
       "      <td>NaN</td>\n",
       "      <td>NaN</td>\n",
       "      <td>NaN</td>\n",
       "      <td>1.0</td>\n",
       "      <td>1.0</td>\n",
       "      <td>1.0</td>\n",
       "      <td>1.0</td>\n",
       "      <td>1.0</td>\n",
       "      <td>NaN</td>\n",
       "      <td>NaN</td>\n",
       "    </tr>\n",
       "    <tr>\n",
       "      <th>3</th>\n",
       "      <td>0.0</td>\n",
       "      <td>48.0</td>\n",
       "      <td>0.0</td>\n",
       "      <td>1.0</td>\n",
       "      <td>1.0</td>\n",
       "      <td>1.0</td>\n",
       "      <td>NaN</td>\n",
       "      <td>4.0</td>\n",
       "      <td>138.0</td>\n",
       "      <td>0.0</td>\n",
       "      <td>...</td>\n",
       "      <td>NaN</td>\n",
       "      <td>2.0</td>\n",
       "      <td>NaN</td>\n",
       "      <td>1.0</td>\n",
       "      <td>1.0</td>\n",
       "      <td>1.0</td>\n",
       "      <td>1.0</td>\n",
       "      <td>1.0</td>\n",
       "      <td>NaN</td>\n",
       "      <td>NaN</td>\n",
       "    </tr>\n",
       "    <tr>\n",
       "      <th>4</th>\n",
       "      <td>0.0</td>\n",
       "      <td>54.0</td>\n",
       "      <td>1.0</td>\n",
       "      <td>1.0</td>\n",
       "      <td>0.0</td>\n",
       "      <td>1.0</td>\n",
       "      <td>NaN</td>\n",
       "      <td>3.0</td>\n",
       "      <td>150.0</td>\n",
       "      <td>0.0</td>\n",
       "      <td>...</td>\n",
       "      <td>NaN</td>\n",
       "      <td>1.0</td>\n",
       "      <td>NaN</td>\n",
       "      <td>1.0</td>\n",
       "      <td>1.0</td>\n",
       "      <td>1.0</td>\n",
       "      <td>1.0</td>\n",
       "      <td>1.0</td>\n",
       "      <td>NaN</td>\n",
       "      <td>NaN</td>\n",
       "    </tr>\n",
       "  </tbody>\n",
       "</table>\n",
       "<p>5 rows × 74 columns</p>\n",
       "</div>"
      ],
      "text/plain": [
       "    1     2    3    4    5    6   7    8      9    10  ...  65   66  67   68  \\\n",
       "0  0.0  40.0  1.0  1.0  0.0  0.0 NaN  2.0  140.0  0.0  ... NaN  NaN NaN  1.0   \n",
       "1  0.0  49.0  0.0  1.0  0.0  0.0 NaN  3.0  160.0  1.0  ... NaN  NaN NaN  1.0   \n",
       "2  0.0  37.0  1.0  1.0  0.0  0.0 NaN  2.0  130.0  0.0  ... NaN  NaN NaN  1.0   \n",
       "3  0.0  48.0  0.0  1.0  1.0  1.0 NaN  4.0  138.0  0.0  ... NaN  2.0 NaN  1.0   \n",
       "4  0.0  54.0  1.0  1.0  0.0  1.0 NaN  3.0  150.0  0.0  ... NaN  1.0 NaN  1.0   \n",
       "\n",
       "    69   70   71   72  73  74  \n",
       "0  1.0  1.0  1.0  1.0 NaN NaN  \n",
       "1  1.0  1.0  1.0  1.0 NaN NaN  \n",
       "2  1.0  1.0  1.0  1.0 NaN NaN  \n",
       "3  1.0  1.0  1.0  1.0 NaN NaN  \n",
       "4  1.0  1.0  1.0  1.0 NaN NaN  \n",
       "\n",
       "[5 rows x 74 columns]"
      ]
     },
     "execution_count": 11,
     "metadata": {},
     "output_type": "execute_result"
    }
   ],
   "source": [
    "df. head()"
   ]
  },
  {
   "cell_type": "markdown",
   "id": "58aac061",
   "metadata": {},
   "source": [
    "Coding diatas</br>\n",
    "Melakukan pengecekan pada data menggunakan df.head, dan membuktikan bahwa nilai missing value dirubah ke Nan."
   ]
  },
  {
   "cell_type": "code",
   "execution_count": 12,
   "id": "54916a93",
   "metadata": {},
   "outputs": [
    {
     "name": "stdout",
     "output_type": "stream",
     "text": [
      "<class 'pandas.core.frame.DataFrame'>\n",
      "RangeIndex: 294 entries, 0 to 293\n",
      "Data columns (total 74 columns):\n",
      " #   Column  Non-Null Count  Dtype  \n",
      "---  ------  --------------  -----  \n",
      " 0   1       294 non-null    float64\n",
      " 1   2       294 non-null    float64\n",
      " 2   3       294 non-null    float64\n",
      " 3   4       294 non-null    float64\n",
      " 4   5       294 non-null    float64\n",
      " 5   6       294 non-null    float64\n",
      " 6   7       0 non-null      float64\n",
      " 7   8       294 non-null    float64\n",
      " 8   9       293 non-null    float64\n",
      " 9   10      293 non-null    float64\n",
      " 10  11      271 non-null    float64\n",
      " 11  12      12 non-null     float64\n",
      " 12  13      1 non-null      float64\n",
      " 13  14      0 non-null      float64\n",
      " 14  15      286 non-null    float64\n",
      " 15  16      21 non-null     float64\n",
      " 16  17      1 non-null      float64\n",
      " 17  18      293 non-null    float64\n",
      " 18  19      294 non-null    float64\n",
      " 19  20      294 non-null    float64\n",
      " 20  21      294 non-null    float64\n",
      " 21  22      293 non-null    float64\n",
      " 22  23      292 non-null    float64\n",
      " 23  24      293 non-null    float64\n",
      " 24  25      293 non-null    float64\n",
      " 25  26      293 non-null    float64\n",
      " 26  27      285 non-null    float64\n",
      " 27  28      292 non-null    float64\n",
      " 28  29      104 non-null    float64\n",
      " 29  30      292 non-null    float64\n",
      " 30  31      293 non-null    float64\n",
      " 31  32      293 non-null    float64\n",
      " 32  33      293 non-null    float64\n",
      " 33  34      293 non-null    float64\n",
      " 34  35      293 non-null    float64\n",
      " 35  36      293 non-null    float64\n",
      " 36  37      293 non-null    float64\n",
      " 37  38      292 non-null    float64\n",
      " 38  39      294 non-null    float64\n",
      " 39  40      104 non-null    float64\n",
      " 40  41      293 non-null    float64\n",
      " 41  42      294 non-null    float64\n",
      " 42  43      4 non-null      float64\n",
      " 43  44      0 non-null      float64\n",
      " 44  45      0 non-null      float64\n",
      " 45  46      0 non-null      float64\n",
      " 46  47      3 non-null      float64\n",
      " 47  48      0 non-null      float64\n",
      " 48  49      2 non-null      float64\n",
      " 49  50      28 non-null     float64\n",
      " 50  51      27 non-null     float64\n",
      " 51  52      17 non-null     float64\n",
      " 52  53      0 non-null      float64\n",
      " 53  54      294 non-null    float64\n",
      " 54  55      294 non-null    float64\n",
      " 55  56      294 non-null    float64\n",
      " 56  57      294 non-null    float64\n",
      " 57  58      19 non-null     float64\n",
      " 58  59      58 non-null     float64\n",
      " 59  60      48 non-null     float64\n",
      " 60  61      18 non-null     float64\n",
      " 61  62      59 non-null     float64\n",
      " 62  63      9 non-null      float64\n",
      " 63  64      23 non-null     float64\n",
      " 64  65      5 non-null      float64\n",
      " 65  66      50 non-null     float64\n",
      " 66  67      25 non-null     float64\n",
      " 67  68      294 non-null    float64\n",
      " 68  69      294 non-null    float64\n",
      " 69  70      294 non-null    float64\n",
      " 70  71      294 non-null    float64\n",
      " 71  72      294 non-null    float64\n",
      " 72  73      28 non-null     float64\n",
      " 73  74      0 non-null      float64\n",
      "dtypes: float64(74)\n",
      "memory usage: 170.1 KB\n"
     ]
    }
   ],
   "source": [
    "#Melakukan pengecekan informasi isi pada data yang terupdate.\n",
    "df.info()"
   ]
  },
  {
   "cell_type": "markdown",
   "id": "07a61943",
   "metadata": {},
   "source": [
    "## Menentukan Object Data"
   ]
  },
  {
   "cell_type": "code",
   "execution_count": 13,
   "id": "07095ef5",
   "metadata": {},
   "outputs": [
    {
     "data": {
      "text/html": [
       "<div>\n",
       "<style scoped>\n",
       "    .dataframe tbody tr th:only-of-type {\n",
       "        vertical-align: middle;\n",
       "    }\n",
       "\n",
       "    .dataframe tbody tr th {\n",
       "        vertical-align: top;\n",
       "    }\n",
       "\n",
       "    .dataframe thead th {\n",
       "        text-align: right;\n",
       "    }\n",
       "</style>\n",
       "<table border=\"1\" class=\"dataframe\">\n",
       "  <thead>\n",
       "    <tr style=\"text-align: right;\">\n",
       "      <th></th>\n",
       "      <th>2</th>\n",
       "      <th>3</th>\n",
       "      <th>8</th>\n",
       "      <th>9</th>\n",
       "      <th>11</th>\n",
       "      <th>15</th>\n",
       "      <th>18</th>\n",
       "      <th>31</th>\n",
       "      <th>37</th>\n",
       "      <th>39</th>\n",
       "      <th>40</th>\n",
       "      <th>43</th>\n",
       "      <th>50</th>\n",
       "      <th>57</th>\n",
       "    </tr>\n",
       "  </thead>\n",
       "  <tbody>\n",
       "    <tr>\n",
       "      <th>0</th>\n",
       "      <td>40.0</td>\n",
       "      <td>1.0</td>\n",
       "      <td>2.0</td>\n",
       "      <td>140.0</td>\n",
       "      <td>289.0</td>\n",
       "      <td>0.0</td>\n",
       "      <td>0.0</td>\n",
       "      <td>172.0</td>\n",
       "      <td>0.0</td>\n",
       "      <td>0.0</td>\n",
       "      <td>NaN</td>\n",
       "      <td>NaN</td>\n",
       "      <td>NaN</td>\n",
       "      <td>0.0</td>\n",
       "    </tr>\n",
       "    <tr>\n",
       "      <th>1</th>\n",
       "      <td>49.0</td>\n",
       "      <td>0.0</td>\n",
       "      <td>3.0</td>\n",
       "      <td>160.0</td>\n",
       "      <td>180.0</td>\n",
       "      <td>0.0</td>\n",
       "      <td>0.0</td>\n",
       "      <td>156.0</td>\n",
       "      <td>0.0</td>\n",
       "      <td>1.0</td>\n",
       "      <td>2.0</td>\n",
       "      <td>NaN</td>\n",
       "      <td>NaN</td>\n",
       "      <td>1.0</td>\n",
       "    </tr>\n",
       "    <tr>\n",
       "      <th>2</th>\n",
       "      <td>37.0</td>\n",
       "      <td>1.0</td>\n",
       "      <td>2.0</td>\n",
       "      <td>130.0</td>\n",
       "      <td>283.0</td>\n",
       "      <td>0.0</td>\n",
       "      <td>1.0</td>\n",
       "      <td>98.0</td>\n",
       "      <td>0.0</td>\n",
       "      <td>0.0</td>\n",
       "      <td>NaN</td>\n",
       "      <td>NaN</td>\n",
       "      <td>NaN</td>\n",
       "      <td>0.0</td>\n",
       "    </tr>\n",
       "    <tr>\n",
       "      <th>3</th>\n",
       "      <td>48.0</td>\n",
       "      <td>0.0</td>\n",
       "      <td>4.0</td>\n",
       "      <td>138.0</td>\n",
       "      <td>214.0</td>\n",
       "      <td>0.0</td>\n",
       "      <td>0.0</td>\n",
       "      <td>108.0</td>\n",
       "      <td>1.0</td>\n",
       "      <td>1.5</td>\n",
       "      <td>2.0</td>\n",
       "      <td>NaN</td>\n",
       "      <td>NaN</td>\n",
       "      <td>3.0</td>\n",
       "    </tr>\n",
       "    <tr>\n",
       "      <th>4</th>\n",
       "      <td>54.0</td>\n",
       "      <td>1.0</td>\n",
       "      <td>3.0</td>\n",
       "      <td>150.0</td>\n",
       "      <td>NaN</td>\n",
       "      <td>0.0</td>\n",
       "      <td>0.0</td>\n",
       "      <td>122.0</td>\n",
       "      <td>0.0</td>\n",
       "      <td>0.0</td>\n",
       "      <td>NaN</td>\n",
       "      <td>NaN</td>\n",
       "      <td>NaN</td>\n",
       "      <td>0.0</td>\n",
       "    </tr>\n",
       "  </tbody>\n",
       "</table>\n",
       "</div>"
      ],
      "text/plain": [
       "     2    3    8      9      11   15   18     31   37   39   40  43  50   57\n",
       "0  40.0  1.0  2.0  140.0  289.0  0.0  0.0  172.0  0.0  0.0  NaN NaN NaN  0.0\n",
       "1  49.0  0.0  3.0  160.0  180.0  0.0  0.0  156.0  0.0  1.0  2.0 NaN NaN  1.0\n",
       "2  37.0  1.0  2.0  130.0  283.0  0.0  1.0   98.0  0.0  0.0  NaN NaN NaN  0.0\n",
       "3  48.0  0.0  4.0  138.0  214.0  0.0  0.0  108.0  1.0  1.5  2.0 NaN NaN  3.0\n",
       "4  54.0  1.0  3.0  150.0    NaN  0.0  0.0  122.0  0.0  0.0  NaN NaN NaN  0.0"
      ]
     },
     "execution_count": 13,
     "metadata": {},
     "output_type": "execute_result"
    }
   ],
   "source": [
    "#Memilih 14 fitur yang akan digunakan sesuai dengan deskripsi dataset\n",
    "df_selected = df.iloc[:, [1, 2, 7,8,10,14,17,30,36,38,39,42,49,56]]\n",
    "df_selected.head()"
   ]
  },
  {
   "cell_type": "markdown",
   "id": "c1c94c02",
   "metadata": {},
   "source": [
    "Coding diatas</br>\n",
    "Melakukan pemilihan fitur yang akan digunakan sesuai dengan pada deskripsi dataset yaitu 14 fitur dengan menggunakan df.iloc, kemudian membuat DataFrame baru yaitu df_selected.\n",
    "\n"
   ]
  },
  {
   "cell_type": "code",
   "execution_count": 14,
   "id": "6daa4af9",
   "metadata": {},
   "outputs": [
    {
     "name": "stdout",
     "output_type": "stream",
     "text": [
      "<class 'pandas.core.frame.DataFrame'>\n",
      "RangeIndex: 294 entries, 0 to 293\n",
      "Data columns (total 14 columns):\n",
      " #   Column  Non-Null Count  Dtype  \n",
      "---  ------  --------------  -----  \n",
      " 0   2       294 non-null    float64\n",
      " 1   3       294 non-null    float64\n",
      " 2   8       294 non-null    float64\n",
      " 3   9       293 non-null    float64\n",
      " 4   11      271 non-null    float64\n",
      " 5   15      286 non-null    float64\n",
      " 6   18      293 non-null    float64\n",
      " 7   31      293 non-null    float64\n",
      " 8   37      293 non-null    float64\n",
      " 9   39      294 non-null    float64\n",
      " 10  40      104 non-null    float64\n",
      " 11  43      4 non-null      float64\n",
      " 12  50      28 non-null     float64\n",
      " 13  57      294 non-null    float64\n",
      "dtypes: float64(14)\n",
      "memory usage: 32.3 KB\n"
     ]
    }
   ],
   "source": [
    "#Melakukan pengcekkan informasi pada df_selected\n",
    "df_selected.info()"
   ]
  },
  {
   "cell_type": "code",
   "execution_count": 15,
   "id": "853f216a",
   "metadata": {},
   "outputs": [
    {
     "name": "stderr",
     "output_type": "stream",
     "text": [
      "C:\\Users\\NEL\\AppData\\Local\\Temp\\ipykernel_3220\\3605329661.py:17: SettingWithCopyWarning: \n",
      "A value is trying to be set on a copy of a slice from a DataFrame\n",
      "\n",
      "See the caveats in the documentation: https://pandas.pydata.org/pandas-docs/stable/user_guide/indexing.html#returning-a-view-versus-a-copy\n",
      "  df_selected.rename(columns=column_mapping, inplace=True)\n"
     ]
    }
   ],
   "source": [
    "column_mapping = {\n",
    "2: 'age',\n",
    "3: 'sex',\n",
    "8: 'cp',\n",
    "9: 'trestbps',\n",
    "11: 'chol',\n",
    "15: 'fbs',\n",
    "18: 'restecg',\n",
    "31: 'thalach',\n",
    "37: 'exang',\n",
    "39: 'oldpeak',\n",
    "40: 'slope',\n",
    "43: 'ca',\n",
    "50: 'thal',\n",
    "57: 'target'\n",
    "}\n",
    "df_selected.rename(columns=column_mapping, inplace=True)"
   ]
  },
  {
   "cell_type": "markdown",
   "id": "a1d80d25",
   "metadata": {},
   "source": [
    "Coding diatas</br>\n",
    "Melakukan perubahan nama kolom pada fitur yang ada pada deskripsi dataset dengan menggunakan column_mapping\n",
    "\n"
   ]
  },
  {
   "cell_type": "code",
   "execution_count": 16,
   "id": "a7a1208c",
   "metadata": {},
   "outputs": [
    {
     "name": "stdout",
     "output_type": "stream",
     "text": [
      "<class 'pandas.core.frame.DataFrame'>\n",
      "RangeIndex: 294 entries, 0 to 293\n",
      "Data columns (total 14 columns):\n",
      " #   Column    Non-Null Count  Dtype  \n",
      "---  ------    --------------  -----  \n",
      " 0   age       294 non-null    float64\n",
      " 1   sex       294 non-null    float64\n",
      " 2   cp        294 non-null    float64\n",
      " 3   trestbps  293 non-null    float64\n",
      " 4   chol      271 non-null    float64\n",
      " 5   fbs       286 non-null    float64\n",
      " 6   restecg   293 non-null    float64\n",
      " 7   thalach   293 non-null    float64\n",
      " 8   exang     293 non-null    float64\n",
      " 9   oldpeak   294 non-null    float64\n",
      " 10  slope     104 non-null    float64\n",
      " 11  ca        4 non-null      float64\n",
      " 12  thal      28 non-null     float64\n",
      " 13  target    294 non-null    float64\n",
      "dtypes: float64(14)\n",
      "memory usage: 32.3 KB\n"
     ]
    }
   ],
   "source": [
    "#Melakukan pengecekan pada dataframe df_selected untuk memastikan perubahan nama kolom.\n",
    "df_selected.info()"
   ]
  },
  {
   "cell_type": "code",
   "execution_count": 17,
   "id": "7776d4b3",
   "metadata": {},
   "outputs": [
    {
     "data": {
      "text/plain": [
       "age   sex  cp   trestbps  chol   fbs  restecg  thalach  exang  oldpeak  slope  ca   thal  target\n",
       "47.0  1.0  4.0  150.0     226.0  0.0  0.0      98.0     1.0    1.5      2.0    0.0  7.0   1.0       1\n",
       "dtype: int64"
      ]
     },
     "execution_count": 17,
     "metadata": {},
     "output_type": "execute_result"
    }
   ],
   "source": [
    "#Menghitung jumlah fitur pada DataFrame df_selected\n",
    "df_selected.value_counts()"
   ]
  },
  {
   "cell_type": "markdown",
   "id": "234e1a69",
   "metadata": {},
   "source": [
    "## Membersihkan Data"
   ]
  },
  {
   "cell_type": "markdown",
   "id": "3cbdb08b",
   "metadata": {},
   "source": [
    "Sebelum melakukan pemodelan dilakukan pembersihan data agar model yang dihasilkan lebih akurat\n",
    "menghitung jumlah null values yang ada diddalam dataset"
   ]
  },
  {
   "cell_type": "code",
   "execution_count": 18,
   "id": "f2b270a6",
   "metadata": {},
   "outputs": [
    {
     "data": {
      "text/plain": [
       "age           0\n",
       "sex           0\n",
       "cp            0\n",
       "trestbps      1\n",
       "chol         23\n",
       "fbs           8\n",
       "restecg       1\n",
       "thalach       1\n",
       "exang         1\n",
       "oldpeak       0\n",
       "slope       190\n",
       "ca          290\n",
       "thal        266\n",
       "target        0\n",
       "dtype: int64"
      ]
     },
     "execution_count": 18,
     "metadata": {},
     "output_type": "execute_result"
    }
   ],
   "source": [
    "df_selected.isnull().sum()"
   ]
  },
  {
   "cell_type": "markdown",
   "id": "c4d83586",
   "metadata": {},
   "source": [
    "Coding diatas</br>\n",
    "Melakukan pengecekkan jumlah null pada dataframe, dapat terlihat pada informasi diatas kolom slope, ca, dan thal datanya lebib dari 90% merupakan missing value, maka pada langkah berikutnya harus dihapus."
   ]
  },
  {
   "cell_type": "code",
   "execution_count": 19,
   "id": "c3e294c6",
   "metadata": {},
   "outputs": [],
   "source": [
    "#Melakukan penghapusan pada kolom slope, ca, dan thal\n",
    "columns_to_drop = ['ca', 'slope','thal']\n",
    "df_selected = df_selected.drop(columns_to_drop, axis=1)"
   ]
  },
  {
   "cell_type": "code",
   "execution_count": 20,
   "id": "93bd24c8",
   "metadata": {},
   "outputs": [
    {
     "data": {
      "text/plain": [
       "age          0\n",
       "sex          0\n",
       "cp           0\n",
       "trestbps     1\n",
       "chol        23\n",
       "fbs          8\n",
       "restecg      1\n",
       "thalach      1\n",
       "exang        1\n",
       "oldpeak      0\n",
       "target       0\n",
       "dtype: int64"
      ]
     },
     "execution_count": 20,
     "metadata": {},
     "output_type": "execute_result"
    }
   ],
   "source": [
    "df_selected.isnull().sum()"
   ]
  },
  {
   "cell_type": "markdown",
   "id": "60444733",
   "metadata": {},
   "source": [
    "Coding diatas</br>\n",
    "Melakukan pengecekkan null pada dataframe df_selected yang terupdate. Dikarenakan masih ada nilai null dibeberapa kolom fitur maka akan dilakukan pengisian nilai null menggunakan nilai mean di setiap kolomnya"
   ]
  },
  {
   "cell_type": "markdown",
   "id": "7fa54e93",
   "metadata": {},
   "source": [
    "Dikarenakan masih ada nilai null dibeberapa kolom fitur maka akan dilakukan pengisian nilai null menggunakan nilai mean di setiap kolomnya"
   ]
  },
  {
   "cell_type": "code",
   "execution_count": 21,
   "id": "53d09d7d",
   "metadata": {},
   "outputs": [],
   "source": [
    "#Menghapus nilai Nan pada kolom\n",
    "meanTBPS = df_selected['trestbps'].dropna()\n",
    "meanChol = df_selected['chol'].dropna()\n",
    "meanfbs = df_selected['fbs'].dropna()\n",
    "meanRestCG = df_selected['restecg'].dropna()\n",
    "meanthalach = df_selected['thalach'].dropna()\n",
    "meanexang = df_selected['exang'].dropna()"
   ]
  },
  {
   "cell_type": "code",
   "execution_count": 22,
   "id": "71221a5d",
   "metadata": {},
   "outputs": [],
   "source": [
    "#Mengkonversi nilai – nilai pada kolom menjadi bertipe float\n",
    "meanTBPS = meanTBPS.astype(float)\n",
    "meanChol = meanChol.astype(float)\n",
    "meanfbs = meanfbs.astype(float)\n",
    "meanthalach = meanthalach.astype(float)\n",
    "meanexang = meanexang.astype(float)\n",
    "meanRestCG = meanRestCG.astype(float)"
   ]
  },
  {
   "cell_type": "code",
   "execution_count": 23,
   "id": "d87dd892",
   "metadata": {},
   "outputs": [],
   "source": [
    "#Menghitung nilai rata – rata tiap kolom dan menggunakan round untuk membulatkan nilai terdekat.\n",
    "meanTBPS = round(meanTBPS.mean())\n",
    "meanChol = round(meanChol.mean())\n",
    "meanfbs = round(meanfbs.mean())\n",
    "meanthalach = round(meanthalach.mean())\n",
    "meanexang = round(meanexang.mean())\n",
    "meanRestCG = round(meanRestCG.mean())"
   ]
  },
  {
   "cell_type": "markdown",
   "id": "9fa9cf95",
   "metadata": {},
   "source": [
    "mengubah nilai null menjadi nilai mean yang sudah ditentukan sebelumnya"
   ]
  },
  {
   "cell_type": "code",
   "execution_count": 24,
   "id": "0dd83e3a",
   "metadata": {},
   "outputs": [],
   "source": [
    "fill_values = {'trestbps': meanTBPS, 'chol': meanChol, 'fbs': meanfbs,'thalach':meanthalach,'exang':meanexang,'restecg':meanRestCG}\n",
    "dfClean = df_selected.fillna(value=fill_values)"
   ]
  },
  {
   "cell_type": "markdown",
   "id": "23b2cf8c",
   "metadata": {},
   "source": [
    "Coding diatas </br>\n",
    "Mengisi kolom dengan nilai rata – rata dan membuat data frame terbaru yaitu dfClean.\n",
    "\n"
   ]
  },
  {
   "cell_type": "code",
   "execution_count": 25,
   "id": "7667f3d5",
   "metadata": {},
   "outputs": [
    {
     "name": "stdout",
     "output_type": "stream",
     "text": [
      "<class 'pandas.core.frame.DataFrame'>\n",
      "RangeIndex: 294 entries, 0 to 293\n",
      "Data columns (total 11 columns):\n",
      " #   Column    Non-Null Count  Dtype  \n",
      "---  ------    --------------  -----  \n",
      " 0   age       294 non-null    float64\n",
      " 1   sex       294 non-null    float64\n",
      " 2   cp        294 non-null    float64\n",
      " 3   trestbps  294 non-null    float64\n",
      " 4   chol      294 non-null    float64\n",
      " 5   fbs       294 non-null    float64\n",
      " 6   restecg   294 non-null    float64\n",
      " 7   thalach   294 non-null    float64\n",
      " 8   exang     294 non-null    float64\n",
      " 9   oldpeak   294 non-null    float64\n",
      " 10  target    294 non-null    float64\n",
      "dtypes: float64(11)\n",
      "memory usage: 25.4 KB\n"
     ]
    }
   ],
   "source": [
    "dfClean.info()"
   ]
  },
  {
   "cell_type": "markdown",
   "id": "d755824d",
   "metadata": {},
   "source": [
    "Coding diatas </br>\n",
    "Melakukan pengecekkan pada dfClean memastikan bahwa bertipe float, jumlah data sama yaitu 294\n",
    "\n"
   ]
  },
  {
   "cell_type": "code",
   "execution_count": 26,
   "id": "c50803f5",
   "metadata": {},
   "outputs": [
    {
     "data": {
      "text/plain": [
       "age         0\n",
       "sex         0\n",
       "cp          0\n",
       "trestbps    0\n",
       "chol        0\n",
       "fbs         0\n",
       "restecg     0\n",
       "thalach     0\n",
       "exang       0\n",
       "oldpeak     0\n",
       "target      0\n",
       "dtype: int64"
      ]
     },
     "execution_count": 26,
     "metadata": {},
     "output_type": "execute_result"
    }
   ],
   "source": [
    "#Melakukan pengecekkan nilai null value pada dfClean\n",
    "dfClean.isnull().sum()"
   ]
  },
  {
   "cell_type": "markdown",
   "id": "85c176f0",
   "metadata": {},
   "source": [
    "melalukan pengecekan terhadap duplikaksi data"
   ]
  },
  {
   "cell_type": "code",
   "execution_count": 27,
   "id": "62fa0116",
   "metadata": {},
   "outputs": [
    {
     "data": {
      "text/html": [
       "<div>\n",
       "<style scoped>\n",
       "    .dataframe tbody tr th:only-of-type {\n",
       "        vertical-align: middle;\n",
       "    }\n",
       "\n",
       "    .dataframe tbody tr th {\n",
       "        vertical-align: top;\n",
       "    }\n",
       "\n",
       "    .dataframe thead th {\n",
       "        text-align: right;\n",
       "    }\n",
       "</style>\n",
       "<table border=\"1\" class=\"dataframe\">\n",
       "  <thead>\n",
       "    <tr style=\"text-align: right;\">\n",
       "      <th></th>\n",
       "      <th>age</th>\n",
       "      <th>sex</th>\n",
       "      <th>cp</th>\n",
       "      <th>trestbps</th>\n",
       "      <th>chol</th>\n",
       "      <th>fbs</th>\n",
       "      <th>restecg</th>\n",
       "      <th>thalach</th>\n",
       "      <th>exang</th>\n",
       "      <th>oldpeak</th>\n",
       "      <th>target</th>\n",
       "    </tr>\n",
       "  </thead>\n",
       "  <tbody>\n",
       "    <tr>\n",
       "      <th>163</th>\n",
       "      <td>49.0</td>\n",
       "      <td>0.0</td>\n",
       "      <td>2.0</td>\n",
       "      <td>110.0</td>\n",
       "      <td>251.0</td>\n",
       "      <td>0.0</td>\n",
       "      <td>0.0</td>\n",
       "      <td>160.0</td>\n",
       "      <td>0.0</td>\n",
       "      <td>0.0</td>\n",
       "      <td>0.0</td>\n",
       "    </tr>\n",
       "  </tbody>\n",
       "</table>\n",
       "</div>"
      ],
      "text/plain": [
       "      age  sex   cp  trestbps   chol  fbs  restecg  thalach  exang  oldpeak  \\\n",
       "163  49.0  0.0  2.0     110.0  251.0  0.0      0.0    160.0    0.0      0.0   \n",
       "\n",
       "     target  \n",
       "163     0.0  "
      ]
     },
     "execution_count": 27,
     "metadata": {},
     "output_type": "execute_result"
    }
   ],
   "source": [
    "duplicate_rows = dfClean.duplicated()\n",
    "dfClean[duplicate_rows]"
   ]
  },
  {
   "cell_type": "code",
   "execution_count": 28,
   "id": "1c5a6d7d",
   "metadata": {},
   "outputs": [
    {
     "name": "stdout",
     "output_type": "stream",
     "text": [
      "All Duplicate Rows:\n"
     ]
    },
    {
     "data": {
      "text/html": [
       "<div>\n",
       "<style scoped>\n",
       "    .dataframe tbody tr th:only-of-type {\n",
       "        vertical-align: middle;\n",
       "    }\n",
       "\n",
       "    .dataframe tbody tr th {\n",
       "        vertical-align: top;\n",
       "    }\n",
       "\n",
       "    .dataframe thead th {\n",
       "        text-align: right;\n",
       "    }\n",
       "</style>\n",
       "<table border=\"1\" class=\"dataframe\">\n",
       "  <thead>\n",
       "    <tr style=\"text-align: right;\">\n",
       "      <th></th>\n",
       "      <th>age</th>\n",
       "      <th>sex</th>\n",
       "      <th>cp</th>\n",
       "      <th>trestbps</th>\n",
       "      <th>chol</th>\n",
       "      <th>fbs</th>\n",
       "      <th>restecg</th>\n",
       "      <th>thalach</th>\n",
       "      <th>exang</th>\n",
       "      <th>oldpeak</th>\n",
       "      <th>target</th>\n",
       "    </tr>\n",
       "  </thead>\n",
       "  <tbody>\n",
       "    <tr>\n",
       "      <th>90</th>\n",
       "      <td>49.0</td>\n",
       "      <td>0.0</td>\n",
       "      <td>2.0</td>\n",
       "      <td>110.0</td>\n",
       "      <td>251.0</td>\n",
       "      <td>0.0</td>\n",
       "      <td>0.0</td>\n",
       "      <td>160.0</td>\n",
       "      <td>0.0</td>\n",
       "      <td>0.0</td>\n",
       "      <td>0.0</td>\n",
       "    </tr>\n",
       "    <tr>\n",
       "      <th>163</th>\n",
       "      <td>49.0</td>\n",
       "      <td>0.0</td>\n",
       "      <td>2.0</td>\n",
       "      <td>110.0</td>\n",
       "      <td>251.0</td>\n",
       "      <td>0.0</td>\n",
       "      <td>0.0</td>\n",
       "      <td>160.0</td>\n",
       "      <td>0.0</td>\n",
       "      <td>0.0</td>\n",
       "      <td>0.0</td>\n",
       "    </tr>\n",
       "  </tbody>\n",
       "</table>\n",
       "</div>"
      ],
      "text/plain": [
       "      age  sex   cp  trestbps   chol  fbs  restecg  thalach  exang  oldpeak  \\\n",
       "90   49.0  0.0  2.0     110.0  251.0  0.0      0.0    160.0    0.0      0.0   \n",
       "163  49.0  0.0  2.0     110.0  251.0  0.0      0.0    160.0    0.0      0.0   \n",
       "\n",
       "     target  \n",
       "90      0.0  \n",
       "163     0.0  "
      ]
     },
     "execution_count": 28,
     "metadata": {},
     "output_type": "execute_result"
    }
   ],
   "source": [
    "print(\"All Duplicate Rows:\")\n",
    "dfClean[dfClean.duplicated(keep=False)]"
   ]
  },
  {
   "cell_type": "markdown",
   "id": "a6618472",
   "metadata": {},
   "source": [
    "Coding diatas</br>Karena mengisi data menggunakan nilai lain (rata- rata/median/modus)  maka rawan terdapat data yang akhir nya terduplikat, maka dilakukan pengecekkan apakah terdapat data yang terduplikat.\n",
    "\n"
   ]
  },
  {
   "cell_type": "markdown",
   "id": "d6600d5d",
   "metadata": {},
   "source": [
    "Menghapus data yang memiliki duplikat"
   ]
  },
  {
   "cell_type": "code",
   "execution_count": 29,
   "id": "37c6cb04",
   "metadata": {},
   "outputs": [
    {
     "name": "stdout",
     "output_type": "stream",
     "text": [
      "All Duplicate Rows:\n"
     ]
    },
    {
     "data": {
      "text/html": [
       "<div>\n",
       "<style scoped>\n",
       "    .dataframe tbody tr th:only-of-type {\n",
       "        vertical-align: middle;\n",
       "    }\n",
       "\n",
       "    .dataframe tbody tr th {\n",
       "        vertical-align: top;\n",
       "    }\n",
       "\n",
       "    .dataframe thead th {\n",
       "        text-align: right;\n",
       "    }\n",
       "</style>\n",
       "<table border=\"1\" class=\"dataframe\">\n",
       "  <thead>\n",
       "    <tr style=\"text-align: right;\">\n",
       "      <th></th>\n",
       "      <th>age</th>\n",
       "      <th>sex</th>\n",
       "      <th>cp</th>\n",
       "      <th>trestbps</th>\n",
       "      <th>chol</th>\n",
       "      <th>fbs</th>\n",
       "      <th>restecg</th>\n",
       "      <th>thalach</th>\n",
       "      <th>exang</th>\n",
       "      <th>oldpeak</th>\n",
       "      <th>target</th>\n",
       "    </tr>\n",
       "  </thead>\n",
       "  <tbody>\n",
       "  </tbody>\n",
       "</table>\n",
       "</div>"
      ],
      "text/plain": [
       "Empty DataFrame\n",
       "Columns: [age, sex, cp, trestbps, chol, fbs, restecg, thalach, exang, oldpeak, target]\n",
       "Index: []"
      ]
     },
     "execution_count": 29,
     "metadata": {},
     "output_type": "execute_result"
    }
   ],
   "source": [
    "dfClean = dfClean.drop_duplicates()\n",
    "print(\"All Duplicate Rows:\")\n",
    "dfClean[dfClean.duplicated(keep=False)]"
   ]
  },
  {
   "cell_type": "code",
   "execution_count": 30,
   "id": "675b684a",
   "metadata": {},
   "outputs": [
    {
     "data": {
      "text/html": [
       "<div>\n",
       "<style scoped>\n",
       "    .dataframe tbody tr th:only-of-type {\n",
       "        vertical-align: middle;\n",
       "    }\n",
       "\n",
       "    .dataframe tbody tr th {\n",
       "        vertical-align: top;\n",
       "    }\n",
       "\n",
       "    .dataframe thead th {\n",
       "        text-align: right;\n",
       "    }\n",
       "</style>\n",
       "<table border=\"1\" class=\"dataframe\">\n",
       "  <thead>\n",
       "    <tr style=\"text-align: right;\">\n",
       "      <th></th>\n",
       "      <th>age</th>\n",
       "      <th>sex</th>\n",
       "      <th>cp</th>\n",
       "      <th>trestbps</th>\n",
       "      <th>chol</th>\n",
       "      <th>fbs</th>\n",
       "      <th>restecg</th>\n",
       "      <th>thalach</th>\n",
       "      <th>exang</th>\n",
       "      <th>oldpeak</th>\n",
       "      <th>target</th>\n",
       "    </tr>\n",
       "  </thead>\n",
       "  <tbody>\n",
       "    <tr>\n",
       "      <th>0</th>\n",
       "      <td>40.0</td>\n",
       "      <td>1.0</td>\n",
       "      <td>2.0</td>\n",
       "      <td>140.0</td>\n",
       "      <td>289.0</td>\n",
       "      <td>0.0</td>\n",
       "      <td>0.0</td>\n",
       "      <td>172.0</td>\n",
       "      <td>0.0</td>\n",
       "      <td>0.0</td>\n",
       "      <td>0.0</td>\n",
       "    </tr>\n",
       "    <tr>\n",
       "      <th>1</th>\n",
       "      <td>49.0</td>\n",
       "      <td>0.0</td>\n",
       "      <td>3.0</td>\n",
       "      <td>160.0</td>\n",
       "      <td>180.0</td>\n",
       "      <td>0.0</td>\n",
       "      <td>0.0</td>\n",
       "      <td>156.0</td>\n",
       "      <td>0.0</td>\n",
       "      <td>1.0</td>\n",
       "      <td>1.0</td>\n",
       "    </tr>\n",
       "    <tr>\n",
       "      <th>2</th>\n",
       "      <td>37.0</td>\n",
       "      <td>1.0</td>\n",
       "      <td>2.0</td>\n",
       "      <td>130.0</td>\n",
       "      <td>283.0</td>\n",
       "      <td>0.0</td>\n",
       "      <td>1.0</td>\n",
       "      <td>98.0</td>\n",
       "      <td>0.0</td>\n",
       "      <td>0.0</td>\n",
       "      <td>0.0</td>\n",
       "    </tr>\n",
       "    <tr>\n",
       "      <th>3</th>\n",
       "      <td>48.0</td>\n",
       "      <td>0.0</td>\n",
       "      <td>4.0</td>\n",
       "      <td>138.0</td>\n",
       "      <td>214.0</td>\n",
       "      <td>0.0</td>\n",
       "      <td>0.0</td>\n",
       "      <td>108.0</td>\n",
       "      <td>1.0</td>\n",
       "      <td>1.5</td>\n",
       "      <td>3.0</td>\n",
       "    </tr>\n",
       "    <tr>\n",
       "      <th>4</th>\n",
       "      <td>54.0</td>\n",
       "      <td>1.0</td>\n",
       "      <td>3.0</td>\n",
       "      <td>150.0</td>\n",
       "      <td>251.0</td>\n",
       "      <td>0.0</td>\n",
       "      <td>0.0</td>\n",
       "      <td>122.0</td>\n",
       "      <td>0.0</td>\n",
       "      <td>0.0</td>\n",
       "      <td>0.0</td>\n",
       "    </tr>\n",
       "  </tbody>\n",
       "</table>\n",
       "</div>"
      ],
      "text/plain": [
       "    age  sex   cp  trestbps   chol  fbs  restecg  thalach  exang  oldpeak  \\\n",
       "0  40.0  1.0  2.0     140.0  289.0  0.0      0.0    172.0    0.0      0.0   \n",
       "1  49.0  0.0  3.0     160.0  180.0  0.0      0.0    156.0    0.0      1.0   \n",
       "2  37.0  1.0  2.0     130.0  283.0  0.0      1.0     98.0    0.0      0.0   \n",
       "3  48.0  0.0  4.0     138.0  214.0  0.0      0.0    108.0    1.0      1.5   \n",
       "4  54.0  1.0  3.0     150.0  251.0  0.0      0.0    122.0    0.0      0.0   \n",
       "\n",
       "   target  \n",
       "0     0.0  \n",
       "1     1.0  \n",
       "2     0.0  \n",
       "3     3.0  \n",
       "4     0.0  "
      ]
     },
     "execution_count": 30,
     "metadata": {},
     "output_type": "execute_result"
    }
   ],
   "source": [
    "dfClean.head()"
   ]
  },
  {
   "cell_type": "code",
   "execution_count": 31,
   "id": "247b8a07",
   "metadata": {},
   "outputs": [
    {
     "data": {
      "text/plain": [
       "0.0    187\n",
       "1.0     37\n",
       "3.0     28\n",
       "2.0     26\n",
       "4.0     15\n",
       "Name: target, dtype: int64"
      ]
     },
     "execution_count": 31,
     "metadata": {},
     "output_type": "execute_result"
    }
   ],
   "source": [
    "dfClean['target'].value_counts()"
   ]
  },
  {
   "cell_type": "markdown",
   "id": "0c18c71e",
   "metadata": {},
   "source": [
    "Coding diatas </br>\n",
    "Menghitung nilai value, artinya bahwa nilai 0 muncul sebanyak 187, nilai 1 sebanyak 37, nilai 3 sebanyak 28, nilai 2 sebanyak 26, nilai 4 sebanyak 15"
   ]
  },
  {
   "cell_type": "code",
   "execution_count": 32,
   "id": "907ef629",
   "metadata": {},
   "outputs": [],
   "source": [
    "import seaborn as sns\n",
    "import matplotlib.pyplot as plt"
   ]
  },
  {
   "cell_type": "markdown",
   "id": "ae208504",
   "metadata": {},
   "source": [
    "Coding diatas </br>\n",
    "Import seaborn as sns digunakan untuk membuat grafik statistik yang berdasrkan matplotlib\n",
    "Import matplotlib.pyplot as plt untuk membuat visualisasi dari grafik.\n"
   ]
  },
  {
   "cell_type": "markdown",
   "id": "d76285f9",
   "metadata": {},
   "source": [
    "Mencari korelasi antar fitur"
   ]
  },
  {
   "cell_type": "code",
   "execution_count": 33,
   "id": "15541731",
   "metadata": {},
   "outputs": [
    {
     "data": {
      "text/html": [
       "<div>\n",
       "<style scoped>\n",
       "    .dataframe tbody tr th:only-of-type {\n",
       "        vertical-align: middle;\n",
       "    }\n",
       "\n",
       "    .dataframe tbody tr th {\n",
       "        vertical-align: top;\n",
       "    }\n",
       "\n",
       "    .dataframe thead th {\n",
       "        text-align: right;\n",
       "    }\n",
       "</style>\n",
       "<table border=\"1\" class=\"dataframe\">\n",
       "  <thead>\n",
       "    <tr style=\"text-align: right;\">\n",
       "      <th></th>\n",
       "      <th>age</th>\n",
       "      <th>sex</th>\n",
       "      <th>cp</th>\n",
       "      <th>trestbps</th>\n",
       "      <th>chol</th>\n",
       "      <th>fbs</th>\n",
       "      <th>restecg</th>\n",
       "      <th>thalach</th>\n",
       "      <th>exang</th>\n",
       "      <th>oldpeak</th>\n",
       "      <th>target</th>\n",
       "    </tr>\n",
       "  </thead>\n",
       "  <tbody>\n",
       "    <tr>\n",
       "      <th>age</th>\n",
       "      <td>1.000000</td>\n",
       "      <td>0.014516</td>\n",
       "      <td>0.146616</td>\n",
       "      <td>0.246571</td>\n",
       "      <td>0.087101</td>\n",
       "      <td>0.181130</td>\n",
       "      <td>0.050672</td>\n",
       "      <td>-0.460514</td>\n",
       "      <td>0.239223</td>\n",
       "      <td>0.178172</td>\n",
       "      <td>0.210429</td>\n",
       "    </tr>\n",
       "    <tr>\n",
       "      <th>sex</th>\n",
       "      <td>0.014516</td>\n",
       "      <td>1.000000</td>\n",
       "      <td>0.245769</td>\n",
       "      <td>0.082064</td>\n",
       "      <td>0.027695</td>\n",
       "      <td>0.044372</td>\n",
       "      <td>-0.108656</td>\n",
       "      <td>-0.106959</td>\n",
       "      <td>0.154925</td>\n",
       "      <td>0.115959</td>\n",
       "      <td>0.220732</td>\n",
       "    </tr>\n",
       "    <tr>\n",
       "      <th>cp</th>\n",
       "      <td>0.146616</td>\n",
       "      <td>0.245769</td>\n",
       "      <td>1.000000</td>\n",
       "      <td>0.081293</td>\n",
       "      <td>0.134697</td>\n",
       "      <td>0.031930</td>\n",
       "      <td>-0.016372</td>\n",
       "      <td>-0.367819</td>\n",
       "      <td>0.494674</td>\n",
       "      <td>0.351735</td>\n",
       "      <td>0.427536</td>\n",
       "    </tr>\n",
       "    <tr>\n",
       "      <th>trestbps</th>\n",
       "      <td>0.246571</td>\n",
       "      <td>0.082064</td>\n",
       "      <td>0.081293</td>\n",
       "      <td>1.000000</td>\n",
       "      <td>0.080818</td>\n",
       "      <td>0.096222</td>\n",
       "      <td>0.011256</td>\n",
       "      <td>-0.181824</td>\n",
       "      <td>0.211507</td>\n",
       "      <td>0.204000</td>\n",
       "      <td>0.214898</td>\n",
       "    </tr>\n",
       "    <tr>\n",
       "      <th>chol</th>\n",
       "      <td>0.087101</td>\n",
       "      <td>0.027695</td>\n",
       "      <td>0.134697</td>\n",
       "      <td>0.080818</td>\n",
       "      <td>1.000000</td>\n",
       "      <td>0.107686</td>\n",
       "      <td>0.048081</td>\n",
       "      <td>-0.122038</td>\n",
       "      <td>0.161055</td>\n",
       "      <td>0.106743</td>\n",
       "      <td>0.256027</td>\n",
       "    </tr>\n",
       "    <tr>\n",
       "      <th>fbs</th>\n",
       "      <td>0.181130</td>\n",
       "      <td>0.044372</td>\n",
       "      <td>0.031930</td>\n",
       "      <td>0.096222</td>\n",
       "      <td>0.107686</td>\n",
       "      <td>1.000000</td>\n",
       "      <td>0.047988</td>\n",
       "      <td>-0.069722</td>\n",
       "      <td>0.115503</td>\n",
       "      <td>0.063179</td>\n",
       "      <td>0.154319</td>\n",
       "    </tr>\n",
       "    <tr>\n",
       "      <th>restecg</th>\n",
       "      <td>0.050672</td>\n",
       "      <td>-0.108656</td>\n",
       "      <td>-0.016372</td>\n",
       "      <td>0.011256</td>\n",
       "      <td>0.048081</td>\n",
       "      <td>0.047988</td>\n",
       "      <td>1.000000</td>\n",
       "      <td>0.006084</td>\n",
       "      <td>0.041290</td>\n",
       "      <td>0.042193</td>\n",
       "      <td>0.042643</td>\n",
       "    </tr>\n",
       "    <tr>\n",
       "      <th>thalach</th>\n",
       "      <td>-0.460514</td>\n",
       "      <td>-0.106959</td>\n",
       "      <td>-0.367819</td>\n",
       "      <td>-0.181824</td>\n",
       "      <td>-0.122038</td>\n",
       "      <td>-0.069722</td>\n",
       "      <td>0.006084</td>\n",
       "      <td>1.000000</td>\n",
       "      <td>-0.400508</td>\n",
       "      <td>-0.300458</td>\n",
       "      <td>-0.367525</td>\n",
       "    </tr>\n",
       "    <tr>\n",
       "      <th>exang</th>\n",
       "      <td>0.239223</td>\n",
       "      <td>0.154925</td>\n",
       "      <td>0.494674</td>\n",
       "      <td>0.211507</td>\n",
       "      <td>0.161055</td>\n",
       "      <td>0.115503</td>\n",
       "      <td>0.041290</td>\n",
       "      <td>-0.400508</td>\n",
       "      <td>1.000000</td>\n",
       "      <td>0.624965</td>\n",
       "      <td>0.571710</td>\n",
       "    </tr>\n",
       "    <tr>\n",
       "      <th>oldpeak</th>\n",
       "      <td>0.178172</td>\n",
       "      <td>0.115959</td>\n",
       "      <td>0.351735</td>\n",
       "      <td>0.204000</td>\n",
       "      <td>0.106743</td>\n",
       "      <td>0.063179</td>\n",
       "      <td>0.042193</td>\n",
       "      <td>-0.300458</td>\n",
       "      <td>0.624965</td>\n",
       "      <td>1.000000</td>\n",
       "      <td>0.580732</td>\n",
       "    </tr>\n",
       "    <tr>\n",
       "      <th>target</th>\n",
       "      <td>0.210429</td>\n",
       "      <td>0.220732</td>\n",
       "      <td>0.427536</td>\n",
       "      <td>0.214898</td>\n",
       "      <td>0.256027</td>\n",
       "      <td>0.154319</td>\n",
       "      <td>0.042643</td>\n",
       "      <td>-0.367525</td>\n",
       "      <td>0.571710</td>\n",
       "      <td>0.580732</td>\n",
       "      <td>1.000000</td>\n",
       "    </tr>\n",
       "  </tbody>\n",
       "</table>\n",
       "</div>"
      ],
      "text/plain": [
       "               age       sex        cp  trestbps      chol       fbs  \\\n",
       "age       1.000000  0.014516  0.146616  0.246571  0.087101  0.181130   \n",
       "sex       0.014516  1.000000  0.245769  0.082064  0.027695  0.044372   \n",
       "cp        0.146616  0.245769  1.000000  0.081293  0.134697  0.031930   \n",
       "trestbps  0.246571  0.082064  0.081293  1.000000  0.080818  0.096222   \n",
       "chol      0.087101  0.027695  0.134697  0.080818  1.000000  0.107686   \n",
       "fbs       0.181130  0.044372  0.031930  0.096222  0.107686  1.000000   \n",
       "restecg   0.050672 -0.108656 -0.016372  0.011256  0.048081  0.047988   \n",
       "thalach  -0.460514 -0.106959 -0.367819 -0.181824 -0.122038 -0.069722   \n",
       "exang     0.239223  0.154925  0.494674  0.211507  0.161055  0.115503   \n",
       "oldpeak   0.178172  0.115959  0.351735  0.204000  0.106743  0.063179   \n",
       "target    0.210429  0.220732  0.427536  0.214898  0.256027  0.154319   \n",
       "\n",
       "           restecg   thalach     exang   oldpeak    target  \n",
       "age       0.050672 -0.460514  0.239223  0.178172  0.210429  \n",
       "sex      -0.108656 -0.106959  0.154925  0.115959  0.220732  \n",
       "cp       -0.016372 -0.367819  0.494674  0.351735  0.427536  \n",
       "trestbps  0.011256 -0.181824  0.211507  0.204000  0.214898  \n",
       "chol      0.048081 -0.122038  0.161055  0.106743  0.256027  \n",
       "fbs       0.047988 -0.069722  0.115503  0.063179  0.154319  \n",
       "restecg   1.000000  0.006084  0.041290  0.042193  0.042643  \n",
       "thalach   0.006084  1.000000 -0.400508 -0.300458 -0.367525  \n",
       "exang     0.041290 -0.400508  1.000000  0.624965  0.571710  \n",
       "oldpeak   0.042193 -0.300458  0.624965  1.000000  0.580732  \n",
       "target    0.042643 -0.367525  0.571710  0.580732  1.000000  "
      ]
     },
     "execution_count": 33,
     "metadata": {},
     "output_type": "execute_result"
    }
   ],
   "source": [
    "dfClean.corr()"
   ]
  },
  {
   "cell_type": "code",
   "execution_count": 34,
   "id": "aa849fab",
   "metadata": {},
   "outputs": [
    {
     "data": {
      "text/plain": [
       "<AxesSubplot:>"
      ]
     },
     "execution_count": 34,
     "metadata": {},
     "output_type": "execute_result"
    },
    {
     "data": {
      "image/png": "[encoded data removed]",
      "text/plain": [
       "<Figure size 1080x720 with 2 Axes>"
      ]
     },
     "metadata": {
      "needs_background": "light"
     },
     "output_type": "display_data"
    }
   ],
   "source": [
    "cor_mat=dfClean.corr()\n",
    "fig,ax=plt.subplots(figsize=(15,10))\n",
    "sns.heatmap(cor_mat,annot=True,linewidths=0.5,fmt=\".3f\")"
   ]
  },
  {
   "cell_type": "markdown",
   "id": "16472832",
   "metadata": {},
   "source": [
    "Coding diatas </br>\n",
    "Melakukan pengecekkan korelasi antar fitur dengan visualisasi supaya lebih enak dan jelas untuk dilihat."
   ]
  },
  {
   "cell_type": "markdown",
   "id": "af8a06a3",
   "metadata": {},
   "source": [
    "## Konstruksi Data"
   ]
  },
  {
   "cell_type": "markdown",
   "id": "961d8851",
   "metadata": {},
   "source": [
    "Tahap konstruksi data (data construction) merujuk pada proses membangun atau menyusun data untuk analisis lebih lanjut. Tahap ini melibatkan berbagai kegiatan untuk mempersiapkan data agar dapat digunakan secara efektif.\n",
    "Namun padatahap ini dataset sudah memiliki tipe data yang sesuai sehingga tidak perlu dilakukan penyesuaian kembali.\n",
    "Tahap konstruksi data ini sangat penting untuk memastikan bahwa data yang digunakan dalam analisis atau pemodelan memiliki kualitas yang baik dan dapat diandalkan. Proses ini dapat memerlukan keahlian statistik, dan keterampilan teknis dalam pemrograman dan manipulasi data."
   ]
  },
  {
   "cell_type": "code",
   "execution_count": 35,
   "id": "897d905e",
   "metadata": {},
   "outputs": [
    {
     "name": "stdout",
     "output_type": "stream",
     "text": [
      "<class 'pandas.core.frame.DataFrame'>\n",
      "Int64Index: 293 entries, 0 to 293\n",
      "Data columns (total 11 columns):\n",
      " #   Column    Non-Null Count  Dtype  \n",
      "---  ------    --------------  -----  \n",
      " 0   age       293 non-null    float64\n",
      " 1   sex       293 non-null    float64\n",
      " 2   cp        293 non-null    float64\n",
      " 3   trestbps  293 non-null    float64\n",
      " 4   chol      293 non-null    float64\n",
      " 5   fbs       293 non-null    float64\n",
      " 6   restecg   293 non-null    float64\n",
      " 7   thalach   293 non-null    float64\n",
      " 8   exang     293 non-null    float64\n",
      " 9   oldpeak   293 non-null    float64\n",
      " 10  target    293 non-null    float64\n",
      "dtypes: float64(11)\n",
      "memory usage: 27.5 KB\n"
     ]
    }
   ],
   "source": [
    "#Melakukan pengecekan tipe dan jumlah data\n",
    "dfClean.info()"
   ]
  },
  {
   "cell_type": "code",
   "execution_count": 36,
   "id": "20c23d43",
   "metadata": {},
   "outputs": [
    {
     "data": {
      "text/html": [
       "<div>\n",
       "<style scoped>\n",
       "    .dataframe tbody tr th:only-of-type {\n",
       "        vertical-align: middle;\n",
       "    }\n",
       "\n",
       "    .dataframe tbody tr th {\n",
       "        vertical-align: top;\n",
       "    }\n",
       "\n",
       "    .dataframe thead th {\n",
       "        text-align: right;\n",
       "    }\n",
       "</style>\n",
       "<table border=\"1\" class=\"dataframe\">\n",
       "  <thead>\n",
       "    <tr style=\"text-align: right;\">\n",
       "      <th></th>\n",
       "      <th>age</th>\n",
       "      <th>sex</th>\n",
       "      <th>cp</th>\n",
       "      <th>trestbps</th>\n",
       "      <th>chol</th>\n",
       "      <th>fbs</th>\n",
       "      <th>restecg</th>\n",
       "      <th>thalach</th>\n",
       "      <th>exang</th>\n",
       "      <th>oldpeak</th>\n",
       "      <th>target</th>\n",
       "    </tr>\n",
       "  </thead>\n",
       "  <tbody>\n",
       "    <tr>\n",
       "      <th>0</th>\n",
       "      <td>40.0</td>\n",
       "      <td>1.0</td>\n",
       "      <td>2.0</td>\n",
       "      <td>140.0</td>\n",
       "      <td>289.0</td>\n",
       "      <td>0.0</td>\n",
       "      <td>0.0</td>\n",
       "      <td>172.0</td>\n",
       "      <td>0.0</td>\n",
       "      <td>0.0</td>\n",
       "      <td>0.0</td>\n",
       "    </tr>\n",
       "    <tr>\n",
       "      <th>1</th>\n",
       "      <td>49.0</td>\n",
       "      <td>0.0</td>\n",
       "      <td>3.0</td>\n",
       "      <td>160.0</td>\n",
       "      <td>180.0</td>\n",
       "      <td>0.0</td>\n",
       "      <td>0.0</td>\n",
       "      <td>156.0</td>\n",
       "      <td>0.0</td>\n",
       "      <td>1.0</td>\n",
       "      <td>1.0</td>\n",
       "    </tr>\n",
       "    <tr>\n",
       "      <th>2</th>\n",
       "      <td>37.0</td>\n",
       "      <td>1.0</td>\n",
       "      <td>2.0</td>\n",
       "      <td>130.0</td>\n",
       "      <td>283.0</td>\n",
       "      <td>0.0</td>\n",
       "      <td>1.0</td>\n",
       "      <td>98.0</td>\n",
       "      <td>0.0</td>\n",
       "      <td>0.0</td>\n",
       "      <td>0.0</td>\n",
       "    </tr>\n",
       "    <tr>\n",
       "      <th>3</th>\n",
       "      <td>48.0</td>\n",
       "      <td>0.0</td>\n",
       "      <td>4.0</td>\n",
       "      <td>138.0</td>\n",
       "      <td>214.0</td>\n",
       "      <td>0.0</td>\n",
       "      <td>0.0</td>\n",
       "      <td>108.0</td>\n",
       "      <td>1.0</td>\n",
       "      <td>1.5</td>\n",
       "      <td>3.0</td>\n",
       "    </tr>\n",
       "    <tr>\n",
       "      <th>4</th>\n",
       "      <td>54.0</td>\n",
       "      <td>1.0</td>\n",
       "      <td>3.0</td>\n",
       "      <td>150.0</td>\n",
       "      <td>251.0</td>\n",
       "      <td>0.0</td>\n",
       "      <td>0.0</td>\n",
       "      <td>122.0</td>\n",
       "      <td>0.0</td>\n",
       "      <td>0.0</td>\n",
       "      <td>0.0</td>\n",
       "    </tr>\n",
       "  </tbody>\n",
       "</table>\n",
       "</div>"
      ],
      "text/plain": [
       "    age  sex   cp  trestbps   chol  fbs  restecg  thalach  exang  oldpeak  \\\n",
       "0  40.0  1.0  2.0     140.0  289.0  0.0      0.0    172.0    0.0      0.0   \n",
       "1  49.0  0.0  3.0     160.0  180.0  0.0      0.0    156.0    0.0      1.0   \n",
       "2  37.0  1.0  2.0     130.0  283.0  0.0      1.0     98.0    0.0      0.0   \n",
       "3  48.0  0.0  4.0     138.0  214.0  0.0      0.0    108.0    1.0      1.5   \n",
       "4  54.0  1.0  3.0     150.0  251.0  0.0      0.0    122.0    0.0      0.0   \n",
       "\n",
       "   target  \n",
       "0     0.0  \n",
       "1     1.0  \n",
       "2     0.0  \n",
       "3     3.0  \n",
       "4     0.0  "
      ]
     },
     "execution_count": 36,
     "metadata": {},
     "output_type": "execute_result"
    }
   ],
   "source": [
    "dfClean.head(5)"
   ]
  },
  {
   "cell_type": "markdown",
   "id": "7c2936a4",
   "metadata": {},
   "source": [
    "Setelah Menyesuaikan tipe dataset kita , kita harus memisahkan antara fitur dan target lalu simpan kedalam variabel."
   ]
  },
  {
   "cell_type": "code",
   "execution_count": 37,
   "id": "318f0405",
   "metadata": {},
   "outputs": [],
   "source": [
    "X = dfClean.drop(\"target\",axis=1).values\n",
    "y = dfClean.iloc[:,-1]"
   ]
  },
  {
   "cell_type": "markdown",
   "id": "3a4d4f2b",
   "metadata": {},
   "source": [
    "Coding diatas </br>\n",
    "a. dalam variabel X berisi data yang digunakan sebagai variabel independen (fitur) dalam pemodelam tanpa kolom 'target' </br>\n",
    "b. dalam variabel y memilih kolom dari DataFrame, yang diasumsikan sebagai kolom target. variabel y berisi data yang akan digunakan sebagai variabel dependen dalam pemodelan. Variabel ini berisi label atau nilai yang ingin diprediksi oleh model."
   ]
  },
  {
   "cell_type": "markdown",
   "id": "0be8106a",
   "metadata": {},
   "source": [
    "Setelah kita memisahkan fitur dan target, langkah yang disarankan adalah melakukan pemeriksaan awal terhadap distribusi jumlah setiap kategori target. Dengan grafik visual supaya lebih mudah dan enak dilihat"
   ]
  },
  {
   "cell_type": "code",
   "execution_count": 38,
   "id": "45c2330e",
   "metadata": {},
   "outputs": [
    {
     "data": {
      "image/png": "[encoded data removed]",
      "text/plain": [
       "<Figure size 720x432 with 1 Axes>"
      ]
     },
     "metadata": {
      "needs_background": "light"
     },
     "output_type": "display_data"
    }
   ],
   "source": [
    "dfClean['target'].value_counts().plot(kind='bar',figsize=(10,6),color=['green','blue'])\n",
    "plt.title(\"Count of the target\")\n",
    "plt.xticks(rotation=0);"
   ]
  },
  {
   "cell_type": "markdown",
   "id": "de087762",
   "metadata": {},
   "source": [
    "Grafik di atas menunjukkan bahwa distribusi jumlah target tidak seimbang, sehingga perlu dilakukan penyeimbangan sebelum melanjutkan analisis. Penyeimbangan target dapat dilakukan melalui dua cara, yaitu oversampling dan undersampling. Oversampling diterapkan ketika jumlah dataset relatif sedikit, sementara undersampling digunakan ketika jumlah data terlalu banyak. Dalam konteks ini, kita akan melakukan oversampling karena jumlah data kita tidak banyak. Salah satu metode oversampling yang akan kita terapkan adalah SMOTE."
   ]
  },
  {
   "cell_type": "code",
   "execution_count": 39,
   "id": "d4e248e1",
   "metadata": {},
   "outputs": [],
   "source": [
    "from imblearn.over_sampling import SMOTE"
   ]
  },
  {
   "cell_type": "markdown",
   "id": "6b74371c",
   "metadata": {},
   "source": [
    "Coding diatas Mengimpor kelas SMOTE dari pustaka imbalanced-learn."
   ]
  },
  {
   "cell_type": "code",
   "execution_count": 40,
   "id": "80edfa8a",
   "metadata": {},
   "outputs": [
    {
     "data": {
      "image/png": "[encoded data removed]",
      "text/plain": [
       "<Figure size 720x432 with 2 Axes>"
      ]
     },
     "metadata": {
      "needs_background": "light"
     },
     "output_type": "display_data"
    }
   ],
   "source": [
    "# oversampling\n",
    "smote = SMOTE(random_state=42)\n",
    "X_smote_resampled, y_smote_resampled = smote.fit_resample(X, y)\n",
    "\n",
    "plt.figure(figsize=(12, 4))\n",
    "\n",
    "new_df1 = pd.DataFrame(data=y)\n",
    "plt.subplot(1, 2, 1)\n",
    "new_df1.value_counts().plot(kind='bar',figsize=(10,6),color=['green','blue','red','yellow'])\n",
    "plt.title(\"target before over sampling with SMOTE \")\n",
    "plt.xticks(rotation=0);\n",
    "\n",
    "plt.subplot(1, 2, 2)\n",
    "\n",
    "new_df2 = pd.DataFrame(data=y_smote_resampled)\n",
    "new_df2.value_counts().plot(kind='bar',figsize=(10,6),color=['green','blue','red','yellow'])\n",
    "plt.title(\"target after over sampling with SMOTE\")\n",
    "plt.xticks(rotation=0);\n",
    "\n",
    "plt.tight_layout()\n",
    "plt.show()"
   ]
  },
  {
   "cell_type": "markdown",
   "id": "2e915c37",
   "metadata": {},
   "source": [
    "Coding diatas </br>\n",
    "Hasilnya adalah dua grafik batang yang membandingkan distribusi nilai target sebelum dan sesudah oversampling dengan SMOTE. Plot pertama menunjukkan distribusi sebelum oversampling, sementara plot kedua menunjukkan distribusi setelah penerapan oversampling menggunakan SMOTE.Pada Grafik diatas dapat dilihat ketika target belum di seimbangkan dan sudah diseimbangkan menggunakan oversampling."
   ]
  },
  {
   "cell_type": "code",
   "execution_count": 41,
   "id": "494ac985",
   "metadata": {},
   "outputs": [
    {
     "data": {
      "text/plain": [
       "target\n",
       "0.0       187\n",
       "1.0        37\n",
       "3.0        28\n",
       "2.0        26\n",
       "4.0        15\n",
       "dtype: int64"
      ]
     },
     "execution_count": 41,
     "metadata": {},
     "output_type": "execute_result"
    }
   ],
   "source": [
    "new_df1 = pd.DataFrame(data=y)\n",
    "new_df1.value_counts()"
   ]
  },
  {
   "cell_type": "markdown",
   "id": "ac702098",
   "metadata": {},
   "source": [
    "Coding diatas melakukan pengecekkan value / jumlah kemunculan setiap nilai pada kolom, pengecekkan pada dataframe new_df1"
   ]
  },
  {
   "cell_type": "code",
   "execution_count": 42,
   "id": "fedfce4e",
   "metadata": {},
   "outputs": [
    {
     "data": {
      "text/plain": [
       "target\n",
       "0.0       187\n",
       "1.0       187\n",
       "2.0       187\n",
       "3.0       187\n",
       "4.0       187\n",
       "dtype: int64"
      ]
     },
     "execution_count": 42,
     "metadata": {},
     "output_type": "execute_result"
    }
   ],
   "source": [
    "# over\n",
    "new_df2 = pd.DataFrame(data=y_smote_resampled)\n",
    "new_df2.value_counts()"
   ]
  },
  {
   "cell_type": "markdown",
   "id": "4640e963",
   "metadata": {},
   "source": [
    "Coding diatas melakukan pengecekkan value / jumlah kemunculan setiap nilai pada kolom, pengecekkan pada dataframe new_df2, setelah dilakukan oversampling maka jumlah value sama rata yaitu 188 disamakan berdasarkan nilai 0 pada kolom."
   ]
  },
  {
   "cell_type": "markdown",
   "id": "7aabf0ee",
   "metadata": {},
   "source": [
    "Setelah menyeimbangkan persebaran jumlah target kita akan melakukan mengecekan apakah perlu dilakukan normalisasi/standarisasi pada\n",
    "datset menggunakan .describe"
   ]
  },
  {
   "cell_type": "code",
   "execution_count": 43,
   "id": "8a8ee262",
   "metadata": {},
   "outputs": [
    {
     "data": {
      "text/html": [
       "<div>\n",
       "<style scoped>\n",
       "    .dataframe tbody tr th:only-of-type {\n",
       "        vertical-align: middle;\n",
       "    }\n",
       "\n",
       "    .dataframe tbody tr th {\n",
       "        vertical-align: top;\n",
       "    }\n",
       "\n",
       "    .dataframe thead th {\n",
       "        text-align: right;\n",
       "    }\n",
       "</style>\n",
       "<table border=\"1\" class=\"dataframe\">\n",
       "  <thead>\n",
       "    <tr style=\"text-align: right;\">\n",
       "      <th></th>\n",
       "      <th>age</th>\n",
       "      <th>sex</th>\n",
       "      <th>cp</th>\n",
       "      <th>trestbps</th>\n",
       "      <th>chol</th>\n",
       "      <th>fbs</th>\n",
       "      <th>restecg</th>\n",
       "      <th>thalach</th>\n",
       "      <th>exang</th>\n",
       "      <th>oldpeak</th>\n",
       "      <th>target</th>\n",
       "    </tr>\n",
       "  </thead>\n",
       "  <tbody>\n",
       "    <tr>\n",
       "      <th>count</th>\n",
       "      <td>293.000000</td>\n",
       "      <td>293.000000</td>\n",
       "      <td>293.000000</td>\n",
       "      <td>293.000000</td>\n",
       "      <td>293.000000</td>\n",
       "      <td>293.000000</td>\n",
       "      <td>293.000000</td>\n",
       "      <td>293.000000</td>\n",
       "      <td>293.000000</td>\n",
       "      <td>293.000000</td>\n",
       "      <td>293.000000</td>\n",
       "    </tr>\n",
       "    <tr>\n",
       "      <th>mean</th>\n",
       "      <td>47.822526</td>\n",
       "      <td>0.726962</td>\n",
       "      <td>2.986348</td>\n",
       "      <td>132.662116</td>\n",
       "      <td>250.860068</td>\n",
       "      <td>0.068259</td>\n",
       "      <td>0.218430</td>\n",
       "      <td>139.058020</td>\n",
       "      <td>0.303754</td>\n",
       "      <td>0.588055</td>\n",
       "      <td>0.795222</td>\n",
       "    </tr>\n",
       "    <tr>\n",
       "      <th>std</th>\n",
       "      <td>7.824875</td>\n",
       "      <td>0.446282</td>\n",
       "      <td>0.965049</td>\n",
       "      <td>17.576793</td>\n",
       "      <td>65.059069</td>\n",
       "      <td>0.252622</td>\n",
       "      <td>0.460868</td>\n",
       "      <td>23.558003</td>\n",
       "      <td>0.460665</td>\n",
       "      <td>0.909554</td>\n",
       "      <td>1.238251</td>\n",
       "    </tr>\n",
       "    <tr>\n",
       "      <th>min</th>\n",
       "      <td>28.000000</td>\n",
       "      <td>0.000000</td>\n",
       "      <td>1.000000</td>\n",
       "      <td>92.000000</td>\n",
       "      <td>85.000000</td>\n",
       "      <td>0.000000</td>\n",
       "      <td>0.000000</td>\n",
       "      <td>82.000000</td>\n",
       "      <td>0.000000</td>\n",
       "      <td>0.000000</td>\n",
       "      <td>0.000000</td>\n",
       "    </tr>\n",
       "    <tr>\n",
       "      <th>25%</th>\n",
       "      <td>42.000000</td>\n",
       "      <td>0.000000</td>\n",
       "      <td>2.000000</td>\n",
       "      <td>120.000000</td>\n",
       "      <td>211.000000</td>\n",
       "      <td>0.000000</td>\n",
       "      <td>0.000000</td>\n",
       "      <td>122.000000</td>\n",
       "      <td>0.000000</td>\n",
       "      <td>0.000000</td>\n",
       "      <td>0.000000</td>\n",
       "    </tr>\n",
       "    <tr>\n",
       "      <th>50%</th>\n",
       "      <td>49.000000</td>\n",
       "      <td>1.000000</td>\n",
       "      <td>3.000000</td>\n",
       "      <td>130.000000</td>\n",
       "      <td>248.000000</td>\n",
       "      <td>0.000000</td>\n",
       "      <td>0.000000</td>\n",
       "      <td>140.000000</td>\n",
       "      <td>0.000000</td>\n",
       "      <td>0.000000</td>\n",
       "      <td>0.000000</td>\n",
       "    </tr>\n",
       "    <tr>\n",
       "      <th>75%</th>\n",
       "      <td>54.000000</td>\n",
       "      <td>1.000000</td>\n",
       "      <td>4.000000</td>\n",
       "      <td>140.000000</td>\n",
       "      <td>277.000000</td>\n",
       "      <td>0.000000</td>\n",
       "      <td>0.000000</td>\n",
       "      <td>155.000000</td>\n",
       "      <td>1.000000</td>\n",
       "      <td>1.000000</td>\n",
       "      <td>1.000000</td>\n",
       "    </tr>\n",
       "    <tr>\n",
       "      <th>max</th>\n",
       "      <td>66.000000</td>\n",
       "      <td>1.000000</td>\n",
       "      <td>4.000000</td>\n",
       "      <td>200.000000</td>\n",
       "      <td>603.000000</td>\n",
       "      <td>1.000000</td>\n",
       "      <td>2.000000</td>\n",
       "      <td>190.000000</td>\n",
       "      <td>1.000000</td>\n",
       "      <td>5.000000</td>\n",
       "      <td>4.000000</td>\n",
       "    </tr>\n",
       "  </tbody>\n",
       "</table>\n",
       "</div>"
      ],
      "text/plain": [
       "              age         sex          cp    trestbps        chol         fbs  \\\n",
       "count  293.000000  293.000000  293.000000  293.000000  293.000000  293.000000   \n",
       "mean    47.822526    0.726962    2.986348  132.662116  250.860068    0.068259   \n",
       "std      7.824875    0.446282    0.965049   17.576793   65.059069    0.252622   \n",
       "min     28.000000    0.000000    1.000000   92.000000   85.000000    0.000000   \n",
       "25%     42.000000    0.000000    2.000000  120.000000  211.000000    0.000000   \n",
       "50%     49.000000    1.000000    3.000000  130.000000  248.000000    0.000000   \n",
       "75%     54.000000    1.000000    4.000000  140.000000  277.000000    0.000000   \n",
       "max     66.000000    1.000000    4.000000  200.000000  603.000000    1.000000   \n",
       "\n",
       "          restecg     thalach       exang     oldpeak      target  \n",
       "count  293.000000  293.000000  293.000000  293.000000  293.000000  \n",
       "mean     0.218430  139.058020    0.303754    0.588055    0.795222  \n",
       "std      0.460868   23.558003    0.460665    0.909554    1.238251  \n",
       "min      0.000000   82.000000    0.000000    0.000000    0.000000  \n",
       "25%      0.000000  122.000000    0.000000    0.000000    0.000000  \n",
       "50%      0.000000  140.000000    0.000000    0.000000    0.000000  \n",
       "75%      0.000000  155.000000    1.000000    1.000000    1.000000  \n",
       "max      2.000000  190.000000    1.000000    5.000000    4.000000  "
      ]
     },
     "execution_count": 43,
     "metadata": {},
     "output_type": "execute_result"
    }
   ],
   "source": [
    "dfClean.describe()"
   ]
  },
  {
   "cell_type": "markdown",
   "id": "c0672d71",
   "metadata": {},
   "source": [
    "Pada deskripsi diatas terlihat bahwa dataset memiliki rentang nilai yang cukup bervariasi pada standar deviasi setiap fiturnya. Oleh karena itu, diperlukan normalisasi atau standarisasi untuk mengurangi rentang antara standar deviasi dari setiap kolom."
   ]
  },
  {
   "cell_type": "code",
   "execution_count": 44,
   "id": "58947d72",
   "metadata": {},
   "outputs": [
    {
     "data": {
      "text/plain": [
       "935"
      ]
     },
     "execution_count": 44,
     "metadata": {},
     "output_type": "execute_result"
    }
   ],
   "source": [
    "from sklearn.preprocessing import MinMaxScaler\n",
    "scaler = MinMaxScaler()\n",
    "X_smote_resampled_normal = scaler.fit_transform(X_smote_resampled)\n",
    "len(X_smote_resampled_normal)"
   ]
  },
  {
   "cell_type": "markdown",
   "id": "f24ca10d",
   "metadata": {},
   "source": [
    "Coding diatas merupakan Kode yang menerapkan MinMaxScaler dari scikit-learn untuk melakukan normalisasi pada dataset yang telah mengalami proses oversampling dengan SMOTE. Objek `scaler` dibuat menggunakan MinMaxScaler, dan kemudian metode `fit_transform` digunakan untuk melakukan normalisasi pada dataset yang telah di-oversampling (`X_smote_resampled`). Hasil normalisasi disimpan dalam variabel `X_smote_resampled_normal`. Panjang atau jumlah baris dari data yang telah dinormalisasi dicetak dengan menggunakan fungsi `len()`. Proses normalisasi ini bertujuan untuk mengubah nilai-nilai dalam dataset agar berada dalam rentang antara 0 dan 1, sehingga memudahkan proses pembelajaran pada model machine learning."
   ]
  },
  {
   "cell_type": "code",
   "execution_count": 45,
   "id": "ca41441d",
   "metadata": {},
   "outputs": [
    {
     "data": {
      "text/html": [
       "<div>\n",
       "<style scoped>\n",
       "    .dataframe tbody tr th:only-of-type {\n",
       "        vertical-align: middle;\n",
       "    }\n",
       "\n",
       "    .dataframe tbody tr th {\n",
       "        vertical-align: top;\n",
       "    }\n",
       "\n",
       "    .dataframe thead th {\n",
       "        text-align: right;\n",
       "    }\n",
       "</style>\n",
       "<table border=\"1\" class=\"dataframe\">\n",
       "  <thead>\n",
       "    <tr style=\"text-align: right;\">\n",
       "      <th></th>\n",
       "      <th>0</th>\n",
       "      <th>1</th>\n",
       "      <th>2</th>\n",
       "      <th>3</th>\n",
       "      <th>4</th>\n",
       "      <th>5</th>\n",
       "      <th>6</th>\n",
       "      <th>7</th>\n",
       "      <th>8</th>\n",
       "      <th>9</th>\n",
       "    </tr>\n",
       "  </thead>\n",
       "  <tbody>\n",
       "    <tr>\n",
       "      <th>count</th>\n",
       "      <td>935.000000</td>\n",
       "      <td>935.000000</td>\n",
       "      <td>935.000000</td>\n",
       "      <td>935.000000</td>\n",
       "      <td>935.000000</td>\n",
       "      <td>935.000000</td>\n",
       "      <td>935.000000</td>\n",
       "      <td>935.000000</td>\n",
       "      <td>935.000000</td>\n",
       "      <td>935.000000</td>\n",
       "    </tr>\n",
       "    <tr>\n",
       "      <th>mean</th>\n",
       "      <td>0.563739</td>\n",
       "      <td>0.842507</td>\n",
       "      <td>0.818224</td>\n",
       "      <td>0.403413</td>\n",
       "      <td>0.341027</td>\n",
       "      <td>0.094277</td>\n",
       "      <td>0.117938</td>\n",
       "      <td>0.453354</td>\n",
       "      <td>0.598398</td>\n",
       "      <td>0.227015</td>\n",
       "    </tr>\n",
       "    <tr>\n",
       "      <th>std</th>\n",
       "      <td>0.174873</td>\n",
       "      <td>0.332492</td>\n",
       "      <td>0.274211</td>\n",
       "      <td>0.147493</td>\n",
       "      <td>0.110990</td>\n",
       "      <td>0.252030</td>\n",
       "      <td>0.199527</td>\n",
       "      <td>0.197232</td>\n",
       "      <td>0.450288</td>\n",
       "      <td>0.201293</td>\n",
       "    </tr>\n",
       "    <tr>\n",
       "      <th>min</th>\n",
       "      <td>0.000000</td>\n",
       "      <td>0.000000</td>\n",
       "      <td>0.000000</td>\n",
       "      <td>0.000000</td>\n",
       "      <td>0.000000</td>\n",
       "      <td>0.000000</td>\n",
       "      <td>0.000000</td>\n",
       "      <td>0.000000</td>\n",
       "      <td>0.000000</td>\n",
       "      <td>0.000000</td>\n",
       "    </tr>\n",
       "    <tr>\n",
       "      <th>25%</th>\n",
       "      <td>0.473283</td>\n",
       "      <td>1.000000</td>\n",
       "      <td>0.666667</td>\n",
       "      <td>0.305556</td>\n",
       "      <td>0.267954</td>\n",
       "      <td>0.000000</td>\n",
       "      <td>0.000000</td>\n",
       "      <td>0.312720</td>\n",
       "      <td>0.000000</td>\n",
       "      <td>0.000000</td>\n",
       "    </tr>\n",
       "    <tr>\n",
       "      <th>50%</th>\n",
       "      <td>0.578947</td>\n",
       "      <td>1.000000</td>\n",
       "      <td>1.000000</td>\n",
       "      <td>0.387952</td>\n",
       "      <td>0.330240</td>\n",
       "      <td>0.000000</td>\n",
       "      <td>0.000000</td>\n",
       "      <td>0.440606</td>\n",
       "      <td>0.962447</td>\n",
       "      <td>0.200000</td>\n",
       "    </tr>\n",
       "    <tr>\n",
       "      <th>75%</th>\n",
       "      <td>0.683363</td>\n",
       "      <td>1.000000</td>\n",
       "      <td>1.000000</td>\n",
       "      <td>0.487481</td>\n",
       "      <td>0.393811</td>\n",
       "      <td>0.000000</td>\n",
       "      <td>0.201473</td>\n",
       "      <td>0.593629</td>\n",
       "      <td>1.000000</td>\n",
       "      <td>0.386166</td>\n",
       "    </tr>\n",
       "    <tr>\n",
       "      <th>max</th>\n",
       "      <td>1.000000</td>\n",
       "      <td>1.000000</td>\n",
       "      <td>1.000000</td>\n",
       "      <td>1.000000</td>\n",
       "      <td>1.000000</td>\n",
       "      <td>1.000000</td>\n",
       "      <td>1.000000</td>\n",
       "      <td>1.000000</td>\n",
       "      <td>1.000000</td>\n",
       "      <td>1.000000</td>\n",
       "    </tr>\n",
       "  </tbody>\n",
       "</table>\n",
       "</div>"
      ],
      "text/plain": [
       "                0           1           2           3           4           5  \\\n",
       "count  935.000000  935.000000  935.000000  935.000000  935.000000  935.000000   \n",
       "mean     0.563739    0.842507    0.818224    0.403413    0.341027    0.094277   \n",
       "std      0.174873    0.332492    0.274211    0.147493    0.110990    0.252030   \n",
       "min      0.000000    0.000000    0.000000    0.000000    0.000000    0.000000   \n",
       "25%      0.473283    1.000000    0.666667    0.305556    0.267954    0.000000   \n",
       "50%      0.578947    1.000000    1.000000    0.387952    0.330240    0.000000   \n",
       "75%      0.683363    1.000000    1.000000    0.487481    0.393811    0.000000   \n",
       "max      1.000000    1.000000    1.000000    1.000000    1.000000    1.000000   \n",
       "\n",
       "                6           7           8           9  \n",
       "count  935.000000  935.000000  935.000000  935.000000  \n",
       "mean     0.117938    0.453354    0.598398    0.227015  \n",
       "std      0.199527    0.197232    0.450288    0.201293  \n",
       "min      0.000000    0.000000    0.000000    0.000000  \n",
       "25%      0.000000    0.312720    0.000000    0.000000  \n",
       "50%      0.000000    0.440606    0.962447    0.200000  \n",
       "75%      0.201473    0.593629    1.000000    0.386166  \n",
       "max      1.000000    1.000000    1.000000    1.000000  "
      ]
     },
     "execution_count": 45,
     "metadata": {},
     "output_type": "execute_result"
    }
   ],
   "source": [
    "dfcek1 = pd.DataFrame(X_smote_resampled_normal)\n",
    "dfcek1.describe()"
   ]
  },
  {
   "cell_type": "markdown",
   "id": "9a391a01",
   "metadata": {},
   "source": [
    "Setelah dilakukan normalisasi pada fitur, selanjutnya kita perlu membagi fitur dan target menjadi data train dan test."
   ]
  },
  {
   "cell_type": "code",
   "execution_count": 46,
   "id": "e18bb151",
   "metadata": {},
   "outputs": [],
   "source": [
    "from sklearn.model_selection import train_test_split"
   ]
  },
  {
   "cell_type": "code",
   "execution_count": 47,
   "id": "03d2109c",
   "metadata": {},
   "outputs": [],
   "source": [
    "# membagi fitur dan target menjadi data train dan test (untuk yang oversample saja)\n",
    "X_train, X_test, y_train, y_test = train_test_split(X_smote_resampled, y_smote_resampled, test_size=0.2, random_state=42,stratify=y_smote_resampled)"
   ]
  },
  {
   "cell_type": "markdown",
   "id": "1f1d6a5a",
   "metadata": {},
   "source": [
    "Coding diatas dilakukan pembagian dataset yang telah mengalami oversampling dengan menggunakan metode SMOTE menjadi dua set data: data pelatihan (X_train, y_train) dan data pengujian (X_test, y_test). Fungsi train_test_split dari scikit-learn digunakan untuk melakukan pembagian, di mana parameter test_size=0.2 menunjukkan bahwa 20% dari data akan dijadikan data pengujian. Pengaturan random_state=42 digunakan untuk memastikan reproduktibilitas hasil dan stratify=y_smote_resampled digunakan agar distribusi kelas dalam kedua set data tetap seimbang seperti dalam data asli yang telah di-oversampling. Proses ini bertujuan untuk menyediakan dua set data yang dapat digunakan dalam melatih dan menguji model machine learning, sehingga dapat melakukan evaluasi kinerja model dengan baik pada data yang belum pernah dilihat sebelumnya."
   ]
  },
  {
   "cell_type": "code",
   "execution_count": 48,
   "id": "22222599",
   "metadata": {},
   "outputs": [],
   "source": [
    "# membagi fitur dan target menjadi data train dan test (untuk yang oversample + normalization)\n",
    "X_train_normal, X_test_normal, y_train_normal, y_test_normal = train_test_split(X_smote_resampled_normal, y_smote_resampled, test_size=0.2, random_state=42,stratify = y_smote_resampled)"
   ]
  },
  {
   "cell_type": "markdown",
   "id": "d66a917f",
   "metadata": {},
   "source": [
    "Coding diatas melakukan pembagian dataset yang telah mengalami oversampling dan normalisasi dengan menggunakan metode Min-Max Scaling (MinMaxScaler) menjadi dua set data: data pelatihan (X_train_normal, y_train_normal) dan data pengujian (X_test_normal, y_test_normal). Fungsi train_test_split dari scikit-learn digunakan untuk memisahkan data, dengan parameter test_size=0.2 menunjukkan bahwa 20% dari data akan dijadikan data pengujian. Pengaturan random_state=42 digunakan untuk memastikan reproduktibilitas hasil, dan stratify=y_smote_resampled digunakan agar distribusi kelas dalam kedua set data tetap seimbang, sesuai dengan distribusi kelas dalam data yang telah di-oversampling. Proses ini bertujuan untuk menyediakan dua set data yang dapat digunakan dalam melatih dan menguji model machine learning, dengan fitur-fitur yang telah dinormalisasi untuk memperoleh hasil yang lebih optimal dalam proses pembelajaran.\n",
    "\n",
    "\n",
    "\n",
    "\n",
    "\n",
    "\n"
   ]
  },
  {
   "cell_type": "markdown",
   "id": "813746e0",
   "metadata": {},
   "source": [
    "## Model"
   ]
  },
  {
   "cell_type": "markdown",
   "id": "ce907497",
   "metadata": {},
   "source": [
    "Pada tahap ini kita akan memulai untuk membangun sebuah model.\n",
    "Dibawah ini merupakan sebuah fungsi untuk menampilkan hasil akurasi dan rata - rata dari recall , f1 dan precision score setiap model. Fungsi\n",
    "ini nantinya akan dipanggil di setiap model. Membuat Fungsi ini bersifat opsional."
   ]
  },
  {
   "cell_type": "code",
   "execution_count": 49,
   "id": "67186346",
   "metadata": {},
   "outputs": [],
   "source": [
    "from sklearn.metrics import accuracy_score,recall_score,f1_score,precision_score,roc_auc_score,confusion_matrix,precision_score\n",
    "def evaluation(Y_test,Y_pred):\n",
    "    acc = accuracy_score(Y_test,Y_pred)\n",
    "    rcl = recall_score(Y_test,Y_pred,average = 'weighted')\n",
    "    f1 = f1_score(Y_test,Y_pred,average = 'weighted')\n",
    "    ps = precision_score(Y_test,Y_pred,average = 'weighted')\n",
    "    \n",
    "    metric_dict={'accuracy': round(acc,3),\n",
    "    'recall': round(rcl,3),\n",
    "    'F1 score': round(f1,3),\n",
    "    'Precision score': round(ps,3)\n",
    "    }\n",
    "    return print(metric_dict)"
   ]
  },
  {
   "cell_type": "markdown",
   "id": "8d09059e",
   "metadata": {},
   "source": [
    "### Oversample"
   ]
  },
  {
   "cell_type": "markdown",
   "id": "79396de7",
   "metadata": {},
   "source": [
    "#### KNN"
   ]
  },
  {
   "cell_type": "code",
   "execution_count": 50,
   "id": "1c905910",
   "metadata": {},
   "outputs": [
    {
     "name": "stdout",
     "output_type": "stream",
     "text": [
      "Requirement already satisfied: xgboost in c:\\users\\nel\\anaconda3\\lib\\site-packages (2.0.3)\n",
      "Requirement already satisfied: numpy in c:\\users\\nel\\anaconda3\\lib\\site-packages (from xgboost) (1.22.4)\n",
      "Requirement already satisfied: scipy in c:\\users\\nel\\anaconda3\\lib\\site-packages (from xgboost) (1.7.3)\n",
      "Note: you may need to restart the kernel to use updated packages.\n"
     ]
    }
   ],
   "source": [
    "pip install xgboost"
   ]
  },
  {
   "cell_type": "code",
   "execution_count": 51,
   "id": "a1e23962",
   "metadata": {},
   "outputs": [],
   "source": [
    "from sklearn.neighbors import KNeighborsClassifier\n",
    "from sklearn.ensemble import RandomForestClassifier\n",
    "from xgboost import XGBClassifier\n",
    "from sklearn.metrics import accuracy_score, classification_report"
   ]
  },
  {
   "cell_type": "markdown",
   "id": "c3c2b74e",
   "metadata": {},
   "source": [
    "a. Mengimpor kelas KNeighborsClassifier dari scikit-learn. KNeighborsClassifier adalah implementasi dari algoritma k-nearest neighbors (KNN) untuk klasifikasi.</br>\n",
    "b. Mengimpor kelas RandomForestClassifier dari scikit-learn. RandomForestClassifier adalah implementasi dari algoritma Random Forest untuk klasifikasi.</br>\n",
    "c. Mengimpor kelas XGBClassifier dari pustaka XGBoost. XGBClassifier adalah implementasi dari algoritma Extreme Gradient Boosting (XGBoost) untuk klasifikasi.</br>\n",
    "d. Mengimpor fungsi accuracy_score dan classification_report dari scikit-learn. accuracy_score digunakan untuk mengukur akurasi model, sedangkan classification_report memberikan laporan yang detail termasuk precision, recall, dan f1-score untuk setiap kelas dalam model klasifikasi."
   ]
  },
  {
   "cell_type": "code",
   "execution_count": 52,
   "id": "571401d1",
   "metadata": {},
   "outputs": [
    {
     "data": {
      "text/html": [
       "<style>#sk-container-id-1 {color: black;background-color: white;}#sk-container-id-1 pre{padding: 0;}#sk-container-id-1 div.sk-toggleable {background-color: white;}#sk-container-id-1 label.sk-toggleable__label {cursor: pointer;display: block;width: 100%;margin-bottom: 0;padding: 0.3em;box-sizing: border-box;text-align: center;}#sk-container-id-1 label.sk-toggleable__label-arrow:before {content: \"▸\";float: left;margin-right: 0.25em;color: #696969;}#sk-container-id-1 label.sk-toggleable__label-arrow:hover:before {color: black;}#sk-container-id-1 div.sk-estimator:hover label.sk-toggleable__label-arrow:before {color: black;}#sk-container-id-1 div.sk-toggleable__content {max-height: 0;max-width: 0;overflow: hidden;text-align: left;background-color: #f0f8ff;}#sk-container-id-1 div.sk-toggleable__content pre {margin: 0.2em;color: black;border-radius: 0.25em;background-color: #f0f8ff;}#sk-container-id-1 input.sk-toggleable__control:checked~div.sk-toggleable__content {max-height: 200px;max-width: 100%;overflow: auto;}#sk-container-id-1 input.sk-toggleable__control:checked~label.sk-toggleable__label-arrow:before {content: \"▾\";}#sk-container-id-1 div.sk-estimator input.sk-toggleable__control:checked~label.sk-toggleable__label {background-color: #d4ebff;}#sk-container-id-1 div.sk-label input.sk-toggleable__control:checked~label.sk-toggleable__label {background-color: #d4ebff;}#sk-container-id-1 input.sk-hidden--visually {border: 0;clip: rect(1px 1px 1px 1px);clip: rect(1px, 1px, 1px, 1px);height: 1px;margin: -1px;overflow: hidden;padding: 0;position: absolute;width: 1px;}#sk-container-id-1 div.sk-estimator {font-family: monospace;background-color: #f0f8ff;border: 1px dotted black;border-radius: 0.25em;box-sizing: border-box;margin-bottom: 0.5em;}#sk-container-id-1 div.sk-estimator:hover {background-color: #d4ebff;}#sk-container-id-1 div.sk-parallel-item::after {content: \"\";width: 100%;border-bottom: 1px solid gray;flex-grow: 1;}#sk-container-id-1 div.sk-label:hover label.sk-toggleable__label {background-color: #d4ebff;}#sk-container-id-1 div.sk-serial::before {content: \"\";position: absolute;border-left: 1px solid gray;box-sizing: border-box;top: 0;bottom: 0;left: 50%;z-index: 0;}#sk-container-id-1 div.sk-serial {display: flex;flex-direction: column;align-items: center;background-color: white;padding-right: 0.2em;padding-left: 0.2em;position: relative;}#sk-container-id-1 div.sk-item {position: relative;z-index: 1;}#sk-container-id-1 div.sk-parallel {display: flex;align-items: stretch;justify-content: center;background-color: white;position: relative;}#sk-container-id-1 div.sk-item::before, #sk-container-id-1 div.sk-parallel-item::before {content: \"\";position: absolute;border-left: 1px solid gray;box-sizing: border-box;top: 0;bottom: 0;left: 50%;z-index: -1;}#sk-container-id-1 div.sk-parallel-item {display: flex;flex-direction: column;z-index: 1;position: relative;background-color: white;}#sk-container-id-1 div.sk-parallel-item:first-child::after {align-self: flex-end;width: 50%;}#sk-container-id-1 div.sk-parallel-item:last-child::after {align-self: flex-start;width: 50%;}#sk-container-id-1 div.sk-parallel-item:only-child::after {width: 0;}#sk-container-id-1 div.sk-dashed-wrapped {border: 1px dashed gray;margin: 0 0.4em 0.5em 0.4em;box-sizing: border-box;padding-bottom: 0.4em;background-color: white;}#sk-container-id-1 div.sk-label label {font-family: monospace;font-weight: bold;display: inline-block;line-height: 1.2em;}#sk-container-id-1 div.sk-label-container {text-align: center;}#sk-container-id-1 div.sk-container {/* jupyter's `normalize.less` sets `[hidden] { display: none; }` but bootstrap.min.css set `[hidden] { display: none !important; }` so we also need the `!important` here to be able to override the default hidden behavior on the sphinx rendered scikit-learn.org. See: https://github.com/scikit-learn/scikit-learn/issues/21755 */display: inline-block !important;position: relative;}#sk-container-id-1 div.sk-text-repr-fallback {display: none;}</style><div id=\"sk-container-id-1\" class=\"sk-top-container\"><div class=\"sk-text-repr-fallback\"><pre>KNeighborsClassifier(n_neighbors=3)</pre><b>In a Jupyter environment, please rerun this cell to show the HTML representation or trust the notebook. <br />On GitHub, the HTML representation is unable to render, please try loading this page with nbviewer.org.</b></div><div class=\"sk-container\" hidden><div class=\"sk-item\"><div class=\"sk-estimator sk-toggleable\"><input class=\"sk-toggleable__control sk-hidden--visually\" id=\"sk-estimator-id-1\" type=\"checkbox\" checked><label for=\"sk-estimator-id-1\" class=\"sk-toggleable__label sk-toggleable__label-arrow\">KNeighborsClassifier</label><div class=\"sk-toggleable__content\"><pre>KNeighborsClassifier(n_neighbors=3)</pre></div></div></div></div></div>"
      ],
      "text/plain": [
       "KNeighborsClassifier(n_neighbors=3)"
      ]
     },
     "execution_count": 52,
     "metadata": {},
     "output_type": "execute_result"
    }
   ],
   "source": [
    "knn_model = KNeighborsClassifier(n_neighbors = 3)\n",
    "knn_model.fit(X_train, y_train)"
   ]
  },
  {
   "cell_type": "markdown",
   "id": "6216a5fc",
   "metadata": {},
   "source": [
    "coding di atas membuat model klasifikasi menggunakan algoritma K-Nearest Neighbors (KNN) dengan memanfaatkan kelas KNeighborsClassifier dari scikit-learn. Pada baris pertama, objek model knn_model diinisialisasi dengan menggunakan KNeighborsClassifier, di mana n_neighbors=3 menunjukkan bahwa model akan mempertimbangkan 3 tetangga terdekat untuk menentukan kelas prediksi suatu observasi."
   ]
  },
  {
   "cell_type": "markdown",
   "id": "40c0a834",
   "metadata": {},
   "source": [
    "Berikut adalah kode program untuk menampilkan hasil akurasi dengan algoritma KNN"
   ]
  },
  {
   "cell_type": "code",
   "execution_count": 53,
   "id": "7206f788",
   "metadata": {},
   "outputs": [],
   "source": [
    "y_pred_knn = knn_model.predict(X_test)"
   ]
  },
  {
   "cell_type": "code",
   "execution_count": 54,
   "id": "1db2b664",
   "metadata": {},
   "outputs": [
    {
     "name": "stdout",
     "output_type": "stream",
     "text": [
      "K-Nearest Neighbors (KNN) Model:\n",
      "Accuracy: 0.754\n",
      "Classification Report:\n",
      "              precision    recall  f1-score   support\n",
      "\n",
      "         0.0       0.65      0.39      0.49        38\n",
      "         1.0       0.73      0.81      0.77        37\n",
      "         2.0       0.80      0.86      0.83        37\n",
      "         3.0       0.77      0.87      0.81        38\n",
      "         4.0       0.78      0.84      0.81        37\n",
      "\n",
      "    accuracy                           0.75       187\n",
      "   macro avg       0.75      0.76      0.74       187\n",
      "weighted avg       0.74      0.75      0.74       187\n",
      "\n"
     ]
    }
   ],
   "source": [
    "# Evaluate the KNN model\n",
    "print(\"K-Nearest Neighbors (KNN) Model:\")\n",
    "accuracy_knn_smote = round(accuracy_score(y_test,y_pred_knn),3)\n",
    "print(\"Accuracy:\", accuracy_knn_smote)\n",
    "print(\"Classification Report:\")\n",
    "print(classification_report(y_test, y_pred_knn))"
   ]
  },
  {
   "cell_type": "markdown",
   "id": "01a53284",
   "metadata": {},
   "source": [
    "coding di atas merupakan bagian dari proses evaluasi model K-Nearest Neighbors (KNN) yang telah dilatih. Dilakukan evaluasi kinerja model KNN dengan menghitung dan mencetak akurasi menggunakan metrik accuracy_score untuk membandingkan prediksi model dengan label sebenarnyaLaporan klasifikasi ditampilkan, memberikan informasi rinci mengenai precision, recall, dan f1-score untuk setiap kelas dalam data pengujian. Dapat terlihat dari report diatas KNN model pada oversample mempunyai akurasi 75,4%"
   ]
  },
  {
   "cell_type": "code",
   "execution_count": 55,
   "id": "a9d184ef",
   "metadata": {},
   "outputs": [
    {
     "name": "stdout",
     "output_type": "stream",
     "text": [
      "{'accuracy': 0.754, 'recall': 0.754, 'F1 score': 0.741, 'Precision score': 0.745}\n"
     ]
    }
   ],
   "source": [
    "evaluation(y_test,y_pred_knn)"
   ]
  },
  {
   "cell_type": "markdown",
   "id": "04ae3414",
   "metadata": {},
   "source": [
    "Pada visualisasi ini ditampilkan visualisasi confusion matrix untuk membandingkan hasil prediksi model dengan nilai sebenarnya."
   ]
  },
  {
   "cell_type": "code",
   "execution_count": 56,
   "id": "0b565c96",
   "metadata": {},
   "outputs": [
    {
     "data": {
      "image/png": "[encoded data removed]",
      "text/plain": [
       "<Figure size 576x432 with 2 Axes>"
      ]
     },
     "metadata": {
      "needs_background": "light"
     },
     "output_type": "display_data"
    }
   ],
   "source": [
    "cm = confusion_matrix(y_test, y_pred_knn)\n",
    "plt.figure(figsize=(8, 6))\n",
    "sns.heatmap(cm, annot=True, fmt=\"d\", cmap=\"Blues\")\n",
    "plt.title('Confusion Matrix')\n",
    "plt.xlabel('True')\n",
    "plt.ylabel('Predict')\n",
    "plt.show()"
   ]
  },
  {
   "cell_type": "markdown",
   "id": "a9c593d2",
   "metadata": {},
   "source": [
    "#### Random Forest"
   ]
  },
  {
   "cell_type": "markdown",
   "id": "fb0f430d",
   "metadata": {},
   "source": [
    "Selanjutnya kita akan membangun model dengan algoritma random forest dengan n_estimators yaitu 100, n_estimators sendiri berguna mengatur jumlah pohon keputusan yang akan dibangun"
   ]
  },
  {
   "cell_type": "code",
   "execution_count": 57,
   "id": "c33fd059",
   "metadata": {},
   "outputs": [
    {
     "data": {
      "text/html": [
       "<style>#sk-container-id-2 {color: black;background-color: white;}#sk-container-id-2 pre{padding: 0;}#sk-container-id-2 div.sk-toggleable {background-color: white;}#sk-container-id-2 label.sk-toggleable__label {cursor: pointer;display: block;width: 100%;margin-bottom: 0;padding: 0.3em;box-sizing: border-box;text-align: center;}#sk-container-id-2 label.sk-toggleable__label-arrow:before {content: \"▸\";float: left;margin-right: 0.25em;color: #696969;}#sk-container-id-2 label.sk-toggleable__label-arrow:hover:before {color: black;}#sk-container-id-2 div.sk-estimator:hover label.sk-toggleable__label-arrow:before {color: black;}#sk-container-id-2 div.sk-toggleable__content {max-height: 0;max-width: 0;overflow: hidden;text-align: left;background-color: #f0f8ff;}#sk-container-id-2 div.sk-toggleable__content pre {margin: 0.2em;color: black;border-radius: 0.25em;background-color: #f0f8ff;}#sk-container-id-2 input.sk-toggleable__control:checked~div.sk-toggleable__content {max-height: 200px;max-width: 100%;overflow: auto;}#sk-container-id-2 input.sk-toggleable__control:checked~label.sk-toggleable__label-arrow:before {content: \"▾\";}#sk-container-id-2 div.sk-estimator input.sk-toggleable__control:checked~label.sk-toggleable__label {background-color: #d4ebff;}#sk-container-id-2 div.sk-label input.sk-toggleable__control:checked~label.sk-toggleable__label {background-color: #d4ebff;}#sk-container-id-2 input.sk-hidden--visually {border: 0;clip: rect(1px 1px 1px 1px);clip: rect(1px, 1px, 1px, 1px);height: 1px;margin: -1px;overflow: hidden;padding: 0;position: absolute;width: 1px;}#sk-container-id-2 div.sk-estimator {font-family: monospace;background-color: #f0f8ff;border: 1px dotted black;border-radius: 0.25em;box-sizing: border-box;margin-bottom: 0.5em;}#sk-container-id-2 div.sk-estimator:hover {background-color: #d4ebff;}#sk-container-id-2 div.sk-parallel-item::after {content: \"\";width: 100%;border-bottom: 1px solid gray;flex-grow: 1;}#sk-container-id-2 div.sk-label:hover label.sk-toggleable__label {background-color: #d4ebff;}#sk-container-id-2 div.sk-serial::before {content: \"\";position: absolute;border-left: 1px solid gray;box-sizing: border-box;top: 0;bottom: 0;left: 50%;z-index: 0;}#sk-container-id-2 div.sk-serial {display: flex;flex-direction: column;align-items: center;background-color: white;padding-right: 0.2em;padding-left: 0.2em;position: relative;}#sk-container-id-2 div.sk-item {position: relative;z-index: 1;}#sk-container-id-2 div.sk-parallel {display: flex;align-items: stretch;justify-content: center;background-color: white;position: relative;}#sk-container-id-2 div.sk-item::before, #sk-container-id-2 div.sk-parallel-item::before {content: \"\";position: absolute;border-left: 1px solid gray;box-sizing: border-box;top: 0;bottom: 0;left: 50%;z-index: -1;}#sk-container-id-2 div.sk-parallel-item {display: flex;flex-direction: column;z-index: 1;position: relative;background-color: white;}#sk-container-id-2 div.sk-parallel-item:first-child::after {align-self: flex-end;width: 50%;}#sk-container-id-2 div.sk-parallel-item:last-child::after {align-self: flex-start;width: 50%;}#sk-container-id-2 div.sk-parallel-item:only-child::after {width: 0;}#sk-container-id-2 div.sk-dashed-wrapped {border: 1px dashed gray;margin: 0 0.4em 0.5em 0.4em;box-sizing: border-box;padding-bottom: 0.4em;background-color: white;}#sk-container-id-2 div.sk-label label {font-family: monospace;font-weight: bold;display: inline-block;line-height: 1.2em;}#sk-container-id-2 div.sk-label-container {text-align: center;}#sk-container-id-2 div.sk-container {/* jupyter's `normalize.less` sets `[hidden] { display: none; }` but bootstrap.min.css set `[hidden] { display: none !important; }` so we also need the `!important` here to be able to override the default hidden behavior on the sphinx rendered scikit-learn.org. See: https://github.com/scikit-learn/scikit-learn/issues/21755 */display: inline-block !important;position: relative;}#sk-container-id-2 div.sk-text-repr-fallback {display: none;}</style><div id=\"sk-container-id-2\" class=\"sk-top-container\"><div class=\"sk-text-repr-fallback\"><pre>RandomForestClassifier(random_state=42)</pre><b>In a Jupyter environment, please rerun this cell to show the HTML representation or trust the notebook. <br />On GitHub, the HTML representation is unable to render, please try loading this page with nbviewer.org.</b></div><div class=\"sk-container\" hidden><div class=\"sk-item\"><div class=\"sk-estimator sk-toggleable\"><input class=\"sk-toggleable__control sk-hidden--visually\" id=\"sk-estimator-id-2\" type=\"checkbox\" checked><label for=\"sk-estimator-id-2\" class=\"sk-toggleable__label sk-toggleable__label-arrow\">RandomForestClassifier</label><div class=\"sk-toggleable__content\"><pre>RandomForestClassifier(random_state=42)</pre></div></div></div></div></div>"
      ],
      "text/plain": [
       "RandomForestClassifier(random_state=42)"
      ]
     },
     "execution_count": 57,
     "metadata": {},
     "output_type": "execute_result"
    }
   ],
   "source": [
    "rf_model = RandomForestClassifier(n_estimators=100, random_state=42)\n",
    "rf_model.fit(X_train, y_train)"
   ]
  },
  {
   "cell_type": "code",
   "execution_count": 58,
   "id": "9a2ffe69",
   "metadata": {},
   "outputs": [
    {
     "name": "stdout",
     "output_type": "stream",
     "text": [
      "\n",
      "Random Forest Model:\n",
      "Accuracy: 0.92\n",
      "Classification Report:\n",
      "              precision    recall  f1-score   support\n",
      "\n",
      "         0.0       0.94      0.89      0.92        38\n",
      "         1.0       0.85      0.92      0.88        37\n",
      "         2.0       0.89      0.89      0.89        37\n",
      "         3.0       0.95      0.97      0.96        38\n",
      "         4.0       0.97      0.92      0.94        37\n",
      "\n",
      "    accuracy                           0.92       187\n",
      "   macro avg       0.92      0.92      0.92       187\n",
      "weighted avg       0.92      0.92      0.92       187\n",
      "\n"
     ]
    }
   ],
   "source": [
    "y_pred_rf = rf_model.predict(X_test)\n",
    "# Evaluate the Random Forest model\n",
    "print(\"\\nRandom Forest Model:\")\n",
    "accuracy_rf_smote = round(accuracy_score(y_test, y_pred_rf),3)\n",
    "print(\"Accuracy:\",accuracy_rf_smote)\n",
    "print(\"Classification Report:\")\n",
    "print(classification_report(y_test, y_pred_rf))"
   ]
  },
  {
   "cell_type": "markdown",
   "id": "13fd3a46",
   "metadata": {},
   "source": [
    "Kode di atas digunakan untuk membuat prediksi menggunakan model Random Forest yang telah dilatih sebelumnya pada dataset pengujian.Dilakukan evaluasi kinerja model Random Forest dengan menghitung dan mencetak akurasi menggunakan metrik accuracy_score untuk membandingkan prediksi model dengan label sebenarnya Ditampilkan laporan klasifikasi menggunakan fungsi classification_report, yang memberikan informasi rinci tentang precision, recall, dan f1-score untuk setiap kelas dalam data pengujian. Proses ini memberikan gambaran tentang sejauh mana model Random Forest mampu melakukan klasifikasi dengan baik pada dataset pengujian. Dapat dilihat dari report diatas Random Forest pada metode oversample mempunyai akurasi 92%"
   ]
  },
  {
   "cell_type": "code",
   "execution_count": 59,
   "id": "a0d6651b",
   "metadata": {},
   "outputs": [
    {
     "name": "stdout",
     "output_type": "stream",
     "text": [
      "{'accuracy': 0.92, 'recall': 0.92, 'F1 score': 0.92, 'Precision score': 0.922}\n"
     ]
    }
   ],
   "source": [
    "evaluation(y_test,y_pred_rf)"
   ]
  },
  {
   "cell_type": "code",
   "execution_count": 60,
   "id": "d0673599",
   "metadata": {},
   "outputs": [
    {
     "data": {
      "image/png": "[encoded data removed]",
      "text/plain": [
       "<Figure size 576x432 with 2 Axes>"
      ]
     },
     "metadata": {
      "needs_background": "light"
     },
     "output_type": "display_data"
    }
   ],
   "source": [
    "cm = confusion_matrix(y_test, y_pred_rf)\n",
    "plt.figure(figsize=(8, 6))\n",
    "sns.heatmap(cm, annot=True, fmt=\"d\", cmap=\"Blues\")\n",
    "plt.title('Confusion Matrix')\n",
    "plt.xlabel('True')\n",
    "plt.ylabel('Predict')\n",
    "plt.show()"
   ]
  },
  {
   "cell_type": "markdown",
   "id": "454a19bf",
   "metadata": {},
   "source": [
    "#### XGBoost"
   ]
  },
  {
   "cell_type": "markdown",
   "id": "bfe57e4d",
   "metadata": {},
   "source": [
    "Pada tahap ini dalam membangun model, kita akan menggunakan algoritma XGBoost dengan learning rate yaitu 0.1. learning rate berguna\n",
    "untuk mengontrol seberapa besar kita menyesuaikan bobot model."
   ]
  },
  {
   "cell_type": "code",
   "execution_count": 61,
   "id": "131ca358",
   "metadata": {},
   "outputs": [
    {
     "data": {
      "text/html": [
       "<style>#sk-container-id-3 {color: black;background-color: white;}#sk-container-id-3 pre{padding: 0;}#sk-container-id-3 div.sk-toggleable {background-color: white;}#sk-container-id-3 label.sk-toggleable__label {cursor: pointer;display: block;width: 100%;margin-bottom: 0;padding: 0.3em;box-sizing: border-box;text-align: center;}#sk-container-id-3 label.sk-toggleable__label-arrow:before {content: \"▸\";float: left;margin-right: 0.25em;color: #696969;}#sk-container-id-3 label.sk-toggleable__label-arrow:hover:before {color: black;}#sk-container-id-3 div.sk-estimator:hover label.sk-toggleable__label-arrow:before {color: black;}#sk-container-id-3 div.sk-toggleable__content {max-height: 0;max-width: 0;overflow: hidden;text-align: left;background-color: #f0f8ff;}#sk-container-id-3 div.sk-toggleable__content pre {margin: 0.2em;color: black;border-radius: 0.25em;background-color: #f0f8ff;}#sk-container-id-3 input.sk-toggleable__control:checked~div.sk-toggleable__content {max-height: 200px;max-width: 100%;overflow: auto;}#sk-container-id-3 input.sk-toggleable__control:checked~label.sk-toggleable__label-arrow:before {content: \"▾\";}#sk-container-id-3 div.sk-estimator input.sk-toggleable__control:checked~label.sk-toggleable__label {background-color: #d4ebff;}#sk-container-id-3 div.sk-label input.sk-toggleable__control:checked~label.sk-toggleable__label {background-color: #d4ebff;}#sk-container-id-3 input.sk-hidden--visually {border: 0;clip: rect(1px 1px 1px 1px);clip: rect(1px, 1px, 1px, 1px);height: 1px;margin: -1px;overflow: hidden;padding: 0;position: absolute;width: 1px;}#sk-container-id-3 div.sk-estimator {font-family: monospace;background-color: #f0f8ff;border: 1px dotted black;border-radius: 0.25em;box-sizing: border-box;margin-bottom: 0.5em;}#sk-container-id-3 div.sk-estimator:hover {background-color: #d4ebff;}#sk-container-id-3 div.sk-parallel-item::after {content: \"\";width: 100%;border-bottom: 1px solid gray;flex-grow: 1;}#sk-container-id-3 div.sk-label:hover label.sk-toggleable__label {background-color: #d4ebff;}#sk-container-id-3 div.sk-serial::before {content: \"\";position: absolute;border-left: 1px solid gray;box-sizing: border-box;top: 0;bottom: 0;left: 50%;z-index: 0;}#sk-container-id-3 div.sk-serial {display: flex;flex-direction: column;align-items: center;background-color: white;padding-right: 0.2em;padding-left: 0.2em;position: relative;}#sk-container-id-3 div.sk-item {position: relative;z-index: 1;}#sk-container-id-3 div.sk-parallel {display: flex;align-items: stretch;justify-content: center;background-color: white;position: relative;}#sk-container-id-3 div.sk-item::before, #sk-container-id-3 div.sk-parallel-item::before {content: \"\";position: absolute;border-left: 1px solid gray;box-sizing: border-box;top: 0;bottom: 0;left: 50%;z-index: -1;}#sk-container-id-3 div.sk-parallel-item {display: flex;flex-direction: column;z-index: 1;position: relative;background-color: white;}#sk-container-id-3 div.sk-parallel-item:first-child::after {align-self: flex-end;width: 50%;}#sk-container-id-3 div.sk-parallel-item:last-child::after {align-self: flex-start;width: 50%;}#sk-container-id-3 div.sk-parallel-item:only-child::after {width: 0;}#sk-container-id-3 div.sk-dashed-wrapped {border: 1px dashed gray;margin: 0 0.4em 0.5em 0.4em;box-sizing: border-box;padding-bottom: 0.4em;background-color: white;}#sk-container-id-3 div.sk-label label {font-family: monospace;font-weight: bold;display: inline-block;line-height: 1.2em;}#sk-container-id-3 div.sk-label-container {text-align: center;}#sk-container-id-3 div.sk-container {/* jupyter's `normalize.less` sets `[hidden] { display: none; }` but bootstrap.min.css set `[hidden] { display: none !important; }` so we also need the `!important` here to be able to override the default hidden behavior on the sphinx rendered scikit-learn.org. See: https://github.com/scikit-learn/scikit-learn/issues/21755 */display: inline-block !important;position: relative;}#sk-container-id-3 div.sk-text-repr-fallback {display: none;}</style><div id=\"sk-container-id-3\" class=\"sk-top-container\"><div class=\"sk-text-repr-fallback\"><pre>XGBClassifier(base_score=None, booster=None, callbacks=None,\n",
       "              colsample_bylevel=None, colsample_bynode=None,\n",
       "              colsample_bytree=None, device=None, early_stopping_rounds=None,\n",
       "              enable_categorical=False, eval_metric=None, feature_types=None,\n",
       "              gamma=None, grow_policy=None, importance_type=None,\n",
       "              interaction_constraints=None, learning_rate=0.1, max_bin=None,\n",
       "              max_cat_threshold=None, max_cat_to_onehot=None,\n",
       "              max_delta_step=None, max_depth=None, max_leaves=None,\n",
       "              min_child_weight=None, missing=nan, monotone_constraints=None,\n",
       "              multi_strategy=None, n_estimators=100, n_jobs=None,\n",
       "              num_parallel_tree=None, objective=&#x27;multi:softprob&#x27;, ...)</pre><b>In a Jupyter environment, please rerun this cell to show the HTML representation or trust the notebook. <br />On GitHub, the HTML representation is unable to render, please try loading this page with nbviewer.org.</b></div><div class=\"sk-container\" hidden><div class=\"sk-item\"><div class=\"sk-estimator sk-toggleable\"><input class=\"sk-toggleable__control sk-hidden--visually\" id=\"sk-estimator-id-3\" type=\"checkbox\" checked><label for=\"sk-estimator-id-3\" class=\"sk-toggleable__label sk-toggleable__label-arrow\">XGBClassifier</label><div class=\"sk-toggleable__content\"><pre>XGBClassifier(base_score=None, booster=None, callbacks=None,\n",
       "              colsample_bylevel=None, colsample_bynode=None,\n",
       "              colsample_bytree=None, device=None, early_stopping_rounds=None,\n",
       "              enable_categorical=False, eval_metric=None, feature_types=None,\n",
       "              gamma=None, grow_policy=None, importance_type=None,\n",
       "              interaction_constraints=None, learning_rate=0.1, max_bin=None,\n",
       "              max_cat_threshold=None, max_cat_to_onehot=None,\n",
       "              max_delta_step=None, max_depth=None, max_leaves=None,\n",
       "              min_child_weight=None, missing=nan, monotone_constraints=None,\n",
       "              multi_strategy=None, n_estimators=100, n_jobs=None,\n",
       "              num_parallel_tree=None, objective=&#x27;multi:softprob&#x27;, ...)</pre></div></div></div></div></div>"
      ],
      "text/plain": [
       "XGBClassifier(base_score=None, booster=None, callbacks=None,\n",
       "              colsample_bylevel=None, colsample_bynode=None,\n",
       "              colsample_bytree=None, device=None, early_stopping_rounds=None,\n",
       "              enable_categorical=False, eval_metric=None, feature_types=None,\n",
       "              gamma=None, grow_policy=None, importance_type=None,\n",
       "              interaction_constraints=None, learning_rate=0.1, max_bin=None,\n",
       "              max_cat_threshold=None, max_cat_to_onehot=None,\n",
       "              max_delta_step=None, max_depth=None, max_leaves=None,\n",
       "              min_child_weight=None, missing=nan, monotone_constraints=None,\n",
       "              multi_strategy=None, n_estimators=100, n_jobs=None,\n",
       "              num_parallel_tree=None, objective='multi:softprob', ...)"
      ]
     },
     "execution_count": 61,
     "metadata": {},
     "output_type": "execute_result"
    }
   ],
   "source": [
    "xgb_model = XGBClassifier(learning_rate=0.1, n_estimators=100, random_state=42)\n",
    "xgb_model.fit(X_train, y_train)"
   ]
  },
  {
   "cell_type": "code",
   "execution_count": 62,
   "id": "d08971cc",
   "metadata": {},
   "outputs": [
    {
     "name": "stdout",
     "output_type": "stream",
     "text": [
      "\n",
      "XGBoost Model:\n",
      "Accuracy: 0.904\n",
      "Classification Report:\n",
      "              precision    recall  f1-score   support\n",
      "\n",
      "         0.0       0.92      0.89      0.91        38\n",
      "         1.0       0.94      0.84      0.89        37\n",
      "         2.0       0.85      0.89      0.87        37\n",
      "         3.0       0.88      0.97      0.93        38\n",
      "         4.0       0.94      0.92      0.93        37\n",
      "\n",
      "    accuracy                           0.90       187\n",
      "   macro avg       0.91      0.90      0.90       187\n",
      "weighted avg       0.91      0.90      0.90       187\n",
      "\n"
     ]
    }
   ],
   "source": [
    "y_pred_xgb = xgb_model.predict(X_test)\n",
    "# Evaluate the XGBoost model\n",
    "print(\"\\nXGBoost Model:\")\n",
    "accuracy_xgb_smote = round(accuracy_score(y_test, y_pred_xgb),3)\n",
    "print(\"Accuracy:\",accuracy_xgb_smote)\n",
    "print(\"Classification Report:\")\n",
    "print(classification_report(y_test, y_pred_xgb))"
   ]
  },
  {
   "cell_type": "markdown",
   "id": "de6bfda3",
   "metadata": {},
   "source": [
    "kode di atas digunakan untuk membuat prediksi menggunakan model XGBoost yang telah dilatih sebelumnya pada dataset pengujian. Dilakukan evaluasi kinerja model XGBoost dengan menghitung dan mencetak akurasi menggunakan metrik accuracy_score untuk membandingkan prediksi model dengan label sebenarnya. Ditampilkan laporan klasifikasi menggunakan fungsi classification_report, yang memberikan informasi rinci tentang precision, recall, dan f1-score untuk setiap kelas dalam data pengujian. Dapat dilihat dari report diatas XBoost pada metode oversample mempunyai akurasi 90,4%"
   ]
  },
  {
   "cell_type": "code",
   "execution_count": 63,
   "id": "60685624",
   "metadata": {},
   "outputs": [
    {
     "name": "stdout",
     "output_type": "stream",
     "text": [
      "{'accuracy': 0.904, 'recall': 0.904, 'F1 score': 0.904, 'Precision score': 0.906}\n"
     ]
    }
   ],
   "source": [
    "evaluation(y_test,y_pred_xgb)"
   ]
  },
  {
   "cell_type": "code",
   "execution_count": 64,
   "id": "c6c3c131",
   "metadata": {},
   "outputs": [
    {
     "data": {
      "image/png": "[encoded data removed]",
      "text/plain": [
       "<Figure size 576x432 with 2 Axes>"
      ]
     },
     "metadata": {
      "needs_background": "light"
     },
     "output_type": "display_data"
    }
   ],
   "source": [
    "cm = confusion_matrix(y_test, y_pred_xgb)\n",
    "plt.figure(figsize=(8, 6))\n",
    "sns.heatmap(cm, annot=True, fmt=\"d\", cmap=\"Blues\")\n",
    "plt.title('Confusion Matrix')\n",
    "plt.xlabel('True')\n",
    "plt.ylabel('Predict')\n",
    "plt.show()"
   ]
  },
  {
   "cell_type": "markdown",
   "id": "089bc576",
   "metadata": {},
   "source": [
    "### Oversample + Normalisasi"
   ]
  },
  {
   "cell_type": "markdown",
   "id": "c9822533",
   "metadata": {},
   "source": [
    "Pada bagian ini kita akan membuat sebuah model yang dimana data yang dipakai kali ini yang sudah dilakukan oversample dan normalisasi.\n",
    "Algoritma yang digunakan sama seperti sebelumnya yaitu KNN, Random Forest, dan XGBoost. Sekaligus dibuat visualisasi hasil evaluasi pada\n",
    "masing-masing model."
   ]
  },
  {
   "cell_type": "markdown",
   "id": "9126891e",
   "metadata": {},
   "source": [
    "#### KNN"
   ]
  },
  {
   "cell_type": "code",
   "execution_count": 65,
   "id": "619994ed",
   "metadata": {},
   "outputs": [],
   "source": [
    "from sklearn.neighbors import KNeighborsClassifier\n",
    "from sklearn.ensemble import RandomForestClassifier\n",
    "from xgboost import XGBClassifier\n",
    "from sklearn.metrics import accuracy_score, classification_report"
   ]
  },
  {
   "cell_type": "markdown",
   "id": "37206379",
   "metadata": {},
   "source": [
    "a. diimpor kelas KNeighborsClassifier dari scikit-learn, yang merupakan implementasi algoritma K-Nearest Neighbors (KNN) untuk klasifikasi. </br>\n",
    "b. mengimpor kelas RandomForestClassifier dari scikit-learn, yang merupakan implementasi algoritma Random Forest untuk klasifikasi. </br>\n",
    "c. diimpor kelas XGBClassifier dari pustaka XGBoost, yang merupakan implementasi algoritma Extreme Gradient Boosting (XGBoost) untuk klasifikasi.</br>\n",
    "d. diimpor dua fungsi evaluasi kinerja model, yaitu accuracy_score dan classification_report, dari scikit-learn. Fungsi accuracy_score digunakan untuk mengukur akurasi model, sedangkan classification_report memberikan laporan rinci yang mencakup precision, recall, dan f1-score untuk setiap kelas dalam model klasifikasi."
   ]
  },
  {
   "cell_type": "code",
   "execution_count": 66,
   "id": "ba231f91",
   "metadata": {},
   "outputs": [
    {
     "data": {
      "text/html": [
       "<style>#sk-container-id-4 {color: black;background-color: white;}#sk-container-id-4 pre{padding: 0;}#sk-container-id-4 div.sk-toggleable {background-color: white;}#sk-container-id-4 label.sk-toggleable__label {cursor: pointer;display: block;width: 100%;margin-bottom: 0;padding: 0.3em;box-sizing: border-box;text-align: center;}#sk-container-id-4 label.sk-toggleable__label-arrow:before {content: \"▸\";float: left;margin-right: 0.25em;color: #696969;}#sk-container-id-4 label.sk-toggleable__label-arrow:hover:before {color: black;}#sk-container-id-4 div.sk-estimator:hover label.sk-toggleable__label-arrow:before {color: black;}#sk-container-id-4 div.sk-toggleable__content {max-height: 0;max-width: 0;overflow: hidden;text-align: left;background-color: #f0f8ff;}#sk-container-id-4 div.sk-toggleable__content pre {margin: 0.2em;color: black;border-radius: 0.25em;background-color: #f0f8ff;}#sk-container-id-4 input.sk-toggleable__control:checked~div.sk-toggleable__content {max-height: 200px;max-width: 100%;overflow: auto;}#sk-container-id-4 input.sk-toggleable__control:checked~label.sk-toggleable__label-arrow:before {content: \"▾\";}#sk-container-id-4 div.sk-estimator input.sk-toggleable__control:checked~label.sk-toggleable__label {background-color: #d4ebff;}#sk-container-id-4 div.sk-label input.sk-toggleable__control:checked~label.sk-toggleable__label {background-color: #d4ebff;}#sk-container-id-4 input.sk-hidden--visually {border: 0;clip: rect(1px 1px 1px 1px);clip: rect(1px, 1px, 1px, 1px);height: 1px;margin: -1px;overflow: hidden;padding: 0;position: absolute;width: 1px;}#sk-container-id-4 div.sk-estimator {font-family: monospace;background-color: #f0f8ff;border: 1px dotted black;border-radius: 0.25em;box-sizing: border-box;margin-bottom: 0.5em;}#sk-container-id-4 div.sk-estimator:hover {background-color: #d4ebff;}#sk-container-id-4 div.sk-parallel-item::after {content: \"\";width: 100%;border-bottom: 1px solid gray;flex-grow: 1;}#sk-container-id-4 div.sk-label:hover label.sk-toggleable__label {background-color: #d4ebff;}#sk-container-id-4 div.sk-serial::before {content: \"\";position: absolute;border-left: 1px solid gray;box-sizing: border-box;top: 0;bottom: 0;left: 50%;z-index: 0;}#sk-container-id-4 div.sk-serial {display: flex;flex-direction: column;align-items: center;background-color: white;padding-right: 0.2em;padding-left: 0.2em;position: relative;}#sk-container-id-4 div.sk-item {position: relative;z-index: 1;}#sk-container-id-4 div.sk-parallel {display: flex;align-items: stretch;justify-content: center;background-color: white;position: relative;}#sk-container-id-4 div.sk-item::before, #sk-container-id-4 div.sk-parallel-item::before {content: \"\";position: absolute;border-left: 1px solid gray;box-sizing: border-box;top: 0;bottom: 0;left: 50%;z-index: -1;}#sk-container-id-4 div.sk-parallel-item {display: flex;flex-direction: column;z-index: 1;position: relative;background-color: white;}#sk-container-id-4 div.sk-parallel-item:first-child::after {align-self: flex-end;width: 50%;}#sk-container-id-4 div.sk-parallel-item:last-child::after {align-self: flex-start;width: 50%;}#sk-container-id-4 div.sk-parallel-item:only-child::after {width: 0;}#sk-container-id-4 div.sk-dashed-wrapped {border: 1px dashed gray;margin: 0 0.4em 0.5em 0.4em;box-sizing: border-box;padding-bottom: 0.4em;background-color: white;}#sk-container-id-4 div.sk-label label {font-family: monospace;font-weight: bold;display: inline-block;line-height: 1.2em;}#sk-container-id-4 div.sk-label-container {text-align: center;}#sk-container-id-4 div.sk-container {/* jupyter's `normalize.less` sets `[hidden] { display: none; }` but bootstrap.min.css set `[hidden] { display: none !important; }` so we also need the `!important` here to be able to override the default hidden behavior on the sphinx rendered scikit-learn.org. See: https://github.com/scikit-learn/scikit-learn/issues/21755 */display: inline-block !important;position: relative;}#sk-container-id-4 div.sk-text-repr-fallback {display: none;}</style><div id=\"sk-container-id-4\" class=\"sk-top-container\"><div class=\"sk-text-repr-fallback\"><pre>KNeighborsClassifier(n_neighbors=3)</pre><b>In a Jupyter environment, please rerun this cell to show the HTML representation or trust the notebook. <br />On GitHub, the HTML representation is unable to render, please try loading this page with nbviewer.org.</b></div><div class=\"sk-container\" hidden><div class=\"sk-item\"><div class=\"sk-estimator sk-toggleable\"><input class=\"sk-toggleable__control sk-hidden--visually\" id=\"sk-estimator-id-4\" type=\"checkbox\" checked><label for=\"sk-estimator-id-4\" class=\"sk-toggleable__label sk-toggleable__label-arrow\">KNeighborsClassifier</label><div class=\"sk-toggleable__content\"><pre>KNeighborsClassifier(n_neighbors=3)</pre></div></div></div></div></div>"
      ],
      "text/plain": [
       "KNeighborsClassifier(n_neighbors=3)"
      ]
     },
     "execution_count": 66,
     "metadata": {},
     "output_type": "execute_result"
    }
   ],
   "source": [
    "knn_model = KNeighborsClassifier(n_neighbors=3)\n",
    "knn_model.fit(X_train_normal, y_train_normal)"
   ]
  },
  {
   "cell_type": "markdown",
   "id": "79a5ab53",
   "metadata": {},
   "source": [
    "Model tersebut diinisialisasi dengan parameter n_neighbors=3, yang menentukan bahwa model akan mempertimbangkan 3 tetangga terdekat untuk menentukan kelas prediksi suatu observasi."
   ]
  },
  {
   "cell_type": "code",
   "execution_count": 67,
   "id": "ac34a4f3",
   "metadata": {},
   "outputs": [],
   "source": [
    "y_pred_knn = knn_model.predict(X_test_normal)"
   ]
  },
  {
   "cell_type": "code",
   "execution_count": 68,
   "id": "e520e667",
   "metadata": {},
   "outputs": [
    {
     "name": "stdout",
     "output_type": "stream",
     "text": [
      "K-Nearest Neighbors (KNN) Model:\n",
      "Accuracy: 0.861\n",
      "Classification Report:\n",
      "              precision    recall  f1-score   support\n",
      "\n",
      "         0.0       0.88      0.76      0.82        38\n",
      "         1.0       0.78      0.84      0.81        37\n",
      "         2.0       0.87      0.92      0.89        37\n",
      "         3.0       0.92      0.87      0.89        38\n",
      "         4.0       0.87      0.92      0.89        37\n",
      "\n",
      "    accuracy                           0.86       187\n",
      "   macro avg       0.86      0.86      0.86       187\n",
      "weighted avg       0.86      0.86      0.86       187\n",
      "\n"
     ]
    }
   ],
   "source": [
    "# Evaluate the KNN model\n",
    "print(\"K-Nearest Neighbors (KNN) Model:\")\n",
    "accuracy_knn_smote_normal = round(accuracy_score(y_test_normal,y_pred_knn),3)\n",
    "print(\"Accuracy:\", accuracy_knn_smote_normal)\n",
    "print(\"Classification Report:\")\n",
    "print(classification_report(y_test_normal, y_pred_knn))"
   ]
  },
  {
   "cell_type": "markdown",
   "id": "e103b043",
   "metadata": {},
   "source": [
    "kode di atas digunakan untuk mengevaluasi model K-Nearest Neighbors (KNN) yang telah dilatih dengan data pengujian yang telah dinormalisasi . Akurasi model dihitung menggunakan metrik accuracy_score untuk membandingkan prediksi model  dengan label sebenarnya. Ditampilkan, memberikan informasi rinci tentang precision, recall, dan f1-score untuk setiap kelas dalam data pengujian yang telah dinormalisasi. Proses ini memberikan gambaran tentang sejauh mana model KNN yang menggunakan data yang telah dinormalisasi mampu melakukan klasifikasi pada dataset pengujian.\n",
    "Dapat dilihat dari report diatas KNN pada metode Normalisasi + Oversample mempunyai akurasi 86,1%\n",
    "\n",
    "\n",
    "\n",
    "\n",
    "\n",
    "\n"
   ]
  },
  {
   "cell_type": "code",
   "execution_count": 69,
   "id": "a515ba80",
   "metadata": {},
   "outputs": [
    {
     "name": "stdout",
     "output_type": "stream",
     "text": [
      "{'accuracy': 0.861, 'recall': 0.861, 'F1 score': 0.861, 'Precision score': 0.863}\n"
     ]
    }
   ],
   "source": [
    "evaluation(y_test_normal,y_pred_knn)"
   ]
  },
  {
   "cell_type": "code",
   "execution_count": 70,
   "id": "1afb20f1",
   "metadata": {},
   "outputs": [
    {
     "data": {
      "image/png": "[encoded data removed]",
      "text/plain": [
       "<Figure size 576x432 with 2 Axes>"
      ]
     },
     "metadata": {
      "needs_background": "light"
     },
     "output_type": "display_data"
    }
   ],
   "source": [
    "cm = confusion_matrix(y_test_normal, y_pred_knn)\n",
    "plt.figure(figsize=(8, 6))\n",
    "sns.heatmap(cm, annot=True, fmt=\"d\", cmap=\"Blues\")\n",
    "plt.title('Confusion Matrix')\n",
    "plt.xlabel('True')\n",
    "plt.ylabel('Predict')\n",
    "plt.show()"
   ]
  },
  {
   "cell_type": "markdown",
   "id": "66d1b0b4",
   "metadata": {},
   "source": [
    "#### Random Forest"
   ]
  },
  {
   "cell_type": "code",
   "execution_count": 71,
   "id": "b4d72f49",
   "metadata": {},
   "outputs": [
    {
     "data": {
      "text/html": [
       "<style>#sk-container-id-5 {color: black;background-color: white;}#sk-container-id-5 pre{padding: 0;}#sk-container-id-5 div.sk-toggleable {background-color: white;}#sk-container-id-5 label.sk-toggleable__label {cursor: pointer;display: block;width: 100%;margin-bottom: 0;padding: 0.3em;box-sizing: border-box;text-align: center;}#sk-container-id-5 label.sk-toggleable__label-arrow:before {content: \"▸\";float: left;margin-right: 0.25em;color: #696969;}#sk-container-id-5 label.sk-toggleable__label-arrow:hover:before {color: black;}#sk-container-id-5 div.sk-estimator:hover label.sk-toggleable__label-arrow:before {color: black;}#sk-container-id-5 div.sk-toggleable__content {max-height: 0;max-width: 0;overflow: hidden;text-align: left;background-color: #f0f8ff;}#sk-container-id-5 div.sk-toggleable__content pre {margin: 0.2em;color: black;border-radius: 0.25em;background-color: #f0f8ff;}#sk-container-id-5 input.sk-toggleable__control:checked~div.sk-toggleable__content {max-height: 200px;max-width: 100%;overflow: auto;}#sk-container-id-5 input.sk-toggleable__control:checked~label.sk-toggleable__label-arrow:before {content: \"▾\";}#sk-container-id-5 div.sk-estimator input.sk-toggleable__control:checked~label.sk-toggleable__label {background-color: #d4ebff;}#sk-container-id-5 div.sk-label input.sk-toggleable__control:checked~label.sk-toggleable__label {background-color: #d4ebff;}#sk-container-id-5 input.sk-hidden--visually {border: 0;clip: rect(1px 1px 1px 1px);clip: rect(1px, 1px, 1px, 1px);height: 1px;margin: -1px;overflow: hidden;padding: 0;position: absolute;width: 1px;}#sk-container-id-5 div.sk-estimator {font-family: monospace;background-color: #f0f8ff;border: 1px dotted black;border-radius: 0.25em;box-sizing: border-box;margin-bottom: 0.5em;}#sk-container-id-5 div.sk-estimator:hover {background-color: #d4ebff;}#sk-container-id-5 div.sk-parallel-item::after {content: \"\";width: 100%;border-bottom: 1px solid gray;flex-grow: 1;}#sk-container-id-5 div.sk-label:hover label.sk-toggleable__label {background-color: #d4ebff;}#sk-container-id-5 div.sk-serial::before {content: \"\";position: absolute;border-left: 1px solid gray;box-sizing: border-box;top: 0;bottom: 0;left: 50%;z-index: 0;}#sk-container-id-5 div.sk-serial {display: flex;flex-direction: column;align-items: center;background-color: white;padding-right: 0.2em;padding-left: 0.2em;position: relative;}#sk-container-id-5 div.sk-item {position: relative;z-index: 1;}#sk-container-id-5 div.sk-parallel {display: flex;align-items: stretch;justify-content: center;background-color: white;position: relative;}#sk-container-id-5 div.sk-item::before, #sk-container-id-5 div.sk-parallel-item::before {content: \"\";position: absolute;border-left: 1px solid gray;box-sizing: border-box;top: 0;bottom: 0;left: 50%;z-index: -1;}#sk-container-id-5 div.sk-parallel-item {display: flex;flex-direction: column;z-index: 1;position: relative;background-color: white;}#sk-container-id-5 div.sk-parallel-item:first-child::after {align-self: flex-end;width: 50%;}#sk-container-id-5 div.sk-parallel-item:last-child::after {align-self: flex-start;width: 50%;}#sk-container-id-5 div.sk-parallel-item:only-child::after {width: 0;}#sk-container-id-5 div.sk-dashed-wrapped {border: 1px dashed gray;margin: 0 0.4em 0.5em 0.4em;box-sizing: border-box;padding-bottom: 0.4em;background-color: white;}#sk-container-id-5 div.sk-label label {font-family: monospace;font-weight: bold;display: inline-block;line-height: 1.2em;}#sk-container-id-5 div.sk-label-container {text-align: center;}#sk-container-id-5 div.sk-container {/* jupyter's `normalize.less` sets `[hidden] { display: none; }` but bootstrap.min.css set `[hidden] { display: none !important; }` so we also need the `!important` here to be able to override the default hidden behavior on the sphinx rendered scikit-learn.org. See: https://github.com/scikit-learn/scikit-learn/issues/21755 */display: inline-block !important;position: relative;}#sk-container-id-5 div.sk-text-repr-fallback {display: none;}</style><div id=\"sk-container-id-5\" class=\"sk-top-container\"><div class=\"sk-text-repr-fallback\"><pre>RandomForestClassifier(random_state=42)</pre><b>In a Jupyter environment, please rerun this cell to show the HTML representation or trust the notebook. <br />On GitHub, the HTML representation is unable to render, please try loading this page with nbviewer.org.</b></div><div class=\"sk-container\" hidden><div class=\"sk-item\"><div class=\"sk-estimator sk-toggleable\"><input class=\"sk-toggleable__control sk-hidden--visually\" id=\"sk-estimator-id-5\" type=\"checkbox\" checked><label for=\"sk-estimator-id-5\" class=\"sk-toggleable__label sk-toggleable__label-arrow\">RandomForestClassifier</label><div class=\"sk-toggleable__content\"><pre>RandomForestClassifier(random_state=42)</pre></div></div></div></div></div>"
      ],
      "text/plain": [
       "RandomForestClassifier(random_state=42)"
      ]
     },
     "execution_count": 71,
     "metadata": {},
     "output_type": "execute_result"
    }
   ],
   "source": [
    "rf_model = RandomForestClassifier(n_estimators=100, random_state=42)\n",
    "rf_model.fit(X_train_normal, y_train_normal)"
   ]
  },
  {
   "cell_type": "code",
   "execution_count": 72,
   "id": "c81ef48e",
   "metadata": {},
   "outputs": [],
   "source": [
    "y_pred_rf = rf_model.predict(X_test_normal)"
   ]
  },
  {
   "cell_type": "code",
   "execution_count": 73,
   "id": "1b5e0dba",
   "metadata": {},
   "outputs": [
    {
     "name": "stdout",
     "output_type": "stream",
     "text": [
      "\n",
      "Random Forest Model:\n",
      "Accuracy: 0.92\n",
      "Classification Report:\n",
      "              precision    recall  f1-score   support\n",
      "\n",
      "         0.0       0.94      0.89      0.92        38\n",
      "         1.0       0.85      0.92      0.88        37\n",
      "         2.0       0.89      0.89      0.89        37\n",
      "         3.0       0.95      0.97      0.96        38\n",
      "         4.0       0.97      0.92      0.94        37\n",
      "\n",
      "    accuracy                           0.92       187\n",
      "   macro avg       0.92      0.92      0.92       187\n",
      "weighted avg       0.92      0.92      0.92       187\n",
      "\n"
     ]
    }
   ],
   "source": [
    "# Evaluate the Random Forest model\n",
    "print(\"\\nRandom Forest Model:\")\n",
    "accuracy_rf_smote_normal = round(accuracy_score(y_test_normal, y_pred_rf),3)\n",
    "print(\"Accuracy:\",accuracy_rf_smote_normal )\n",
    "print(\"Classification Report:\")\n",
    "print(classification_report(y_test_normal, y_pred_rf))"
   ]
  },
  {
   "cell_type": "markdown",
   "id": "3a0dae9a",
   "metadata": {},
   "source": [
    "kode diatas dilakukan evaluasi terhadap model Random Forest yang telah dilatih sebelumnya dengan menggunakan data pengujian yang telah dinormalisasi.Akurasi model dihitung menggunakan metrik accuracy_score dengan membandingkan prediksi model dengan label sebenarnya. Ditampilkan laporan klasifikasi yang memberikan informasi rinci tentang precision, recall, dan f1-score untuk setiap kelas dalam data pengujian yang telah dinormalisasi. Proses ini memberikan gambaran tentang sejauh mana model Random Forest yang menggunakan data yang telah dinormalisasi mampu melakukan klasifikasi pada dataset pengujian. Dilihat dari report diatas model Random Forest dengan metode Oversample + Normalisasi mempunyai akurasi 92%\n",
    "\n",
    "\n",
    "\n",
    "\n",
    "\n",
    "\n"
   ]
  },
  {
   "cell_type": "code",
   "execution_count": 74,
   "id": "7088d21d",
   "metadata": {},
   "outputs": [
    {
     "name": "stdout",
     "output_type": "stream",
     "text": [
      "{'accuracy': 0.92, 'recall': 0.92, 'F1 score': 0.92, 'Precision score': 0.922}\n"
     ]
    }
   ],
   "source": [
    "evaluation(y_test_normal,y_pred_rf)"
   ]
  },
  {
   "cell_type": "code",
   "execution_count": 75,
   "id": "668811a1",
   "metadata": {},
   "outputs": [
    {
     "data": {
      "image/png": "[encoded data removed]",
      "text/plain": [
       "<Figure size 576x432 with 2 Axes>"
      ]
     },
     "metadata": {
      "needs_background": "light"
     },
     "output_type": "display_data"
    }
   ],
   "source": [
    "cm = confusion_matrix(y_test_normal, y_pred_rf)\n",
    "plt.figure(figsize=(8, 6))\n",
    "sns.heatmap(cm, annot=True, fmt=\"d\", cmap=\"Blues\")\n",
    "plt.title('Confusion Matrix')\n",
    "plt.xlabel('True')\n",
    "plt.ylabel('Predict')\n",
    "plt.show()"
   ]
  },
  {
   "cell_type": "markdown",
   "id": "4f25f952",
   "metadata": {},
   "source": [
    "#### XGBoost"
   ]
  },
  {
   "cell_type": "code",
   "execution_count": 76,
   "id": "4d2cf671",
   "metadata": {},
   "outputs": [
    {
     "data": {
      "text/html": [
       "<style>#sk-container-id-6 {color: black;background-color: white;}#sk-container-id-6 pre{padding: 0;}#sk-container-id-6 div.sk-toggleable {background-color: white;}#sk-container-id-6 label.sk-toggleable__label {cursor: pointer;display: block;width: 100%;margin-bottom: 0;padding: 0.3em;box-sizing: border-box;text-align: center;}#sk-container-id-6 label.sk-toggleable__label-arrow:before {content: \"▸\";float: left;margin-right: 0.25em;color: #696969;}#sk-container-id-6 label.sk-toggleable__label-arrow:hover:before {color: black;}#sk-container-id-6 div.sk-estimator:hover label.sk-toggleable__label-arrow:before {color: black;}#sk-container-id-6 div.sk-toggleable__content {max-height: 0;max-width: 0;overflow: hidden;text-align: left;background-color: #f0f8ff;}#sk-container-id-6 div.sk-toggleable__content pre {margin: 0.2em;color: black;border-radius: 0.25em;background-color: #f0f8ff;}#sk-container-id-6 input.sk-toggleable__control:checked~div.sk-toggleable__content {max-height: 200px;max-width: 100%;overflow: auto;}#sk-container-id-6 input.sk-toggleable__control:checked~label.sk-toggleable__label-arrow:before {content: \"▾\";}#sk-container-id-6 div.sk-estimator input.sk-toggleable__control:checked~label.sk-toggleable__label {background-color: #d4ebff;}#sk-container-id-6 div.sk-label input.sk-toggleable__control:checked~label.sk-toggleable__label {background-color: #d4ebff;}#sk-container-id-6 input.sk-hidden--visually {border: 0;clip: rect(1px 1px 1px 1px);clip: rect(1px, 1px, 1px, 1px);height: 1px;margin: -1px;overflow: hidden;padding: 0;position: absolute;width: 1px;}#sk-container-id-6 div.sk-estimator {font-family: monospace;background-color: #f0f8ff;border: 1px dotted black;border-radius: 0.25em;box-sizing: border-box;margin-bottom: 0.5em;}#sk-container-id-6 div.sk-estimator:hover {background-color: #d4ebff;}#sk-container-id-6 div.sk-parallel-item::after {content: \"\";width: 100%;border-bottom: 1px solid gray;flex-grow: 1;}#sk-container-id-6 div.sk-label:hover label.sk-toggleable__label {background-color: #d4ebff;}#sk-container-id-6 div.sk-serial::before {content: \"\";position: absolute;border-left: 1px solid gray;box-sizing: border-box;top: 0;bottom: 0;left: 50%;z-index: 0;}#sk-container-id-6 div.sk-serial {display: flex;flex-direction: column;align-items: center;background-color: white;padding-right: 0.2em;padding-left: 0.2em;position: relative;}#sk-container-id-6 div.sk-item {position: relative;z-index: 1;}#sk-container-id-6 div.sk-parallel {display: flex;align-items: stretch;justify-content: center;background-color: white;position: relative;}#sk-container-id-6 div.sk-item::before, #sk-container-id-6 div.sk-parallel-item::before {content: \"\";position: absolute;border-left: 1px solid gray;box-sizing: border-box;top: 0;bottom: 0;left: 50%;z-index: -1;}#sk-container-id-6 div.sk-parallel-item {display: flex;flex-direction: column;z-index: 1;position: relative;background-color: white;}#sk-container-id-6 div.sk-parallel-item:first-child::after {align-self: flex-end;width: 50%;}#sk-container-id-6 div.sk-parallel-item:last-child::after {align-self: flex-start;width: 50%;}#sk-container-id-6 div.sk-parallel-item:only-child::after {width: 0;}#sk-container-id-6 div.sk-dashed-wrapped {border: 1px dashed gray;margin: 0 0.4em 0.5em 0.4em;box-sizing: border-box;padding-bottom: 0.4em;background-color: white;}#sk-container-id-6 div.sk-label label {font-family: monospace;font-weight: bold;display: inline-block;line-height: 1.2em;}#sk-container-id-6 div.sk-label-container {text-align: center;}#sk-container-id-6 div.sk-container {/* jupyter's `normalize.less` sets `[hidden] { display: none; }` but bootstrap.min.css set `[hidden] { display: none !important; }` so we also need the `!important` here to be able to override the default hidden behavior on the sphinx rendered scikit-learn.org. See: https://github.com/scikit-learn/scikit-learn/issues/21755 */display: inline-block !important;position: relative;}#sk-container-id-6 div.sk-text-repr-fallback {display: none;}</style><div id=\"sk-container-id-6\" class=\"sk-top-container\"><div class=\"sk-text-repr-fallback\"><pre>XGBClassifier(base_score=None, booster=None, callbacks=None,\n",
       "              colsample_bylevel=None, colsample_bynode=None,\n",
       "              colsample_bytree=None, device=None, early_stopping_rounds=None,\n",
       "              enable_categorical=False, eval_metric=None, feature_types=None,\n",
       "              gamma=None, grow_policy=None, importance_type=None,\n",
       "              interaction_constraints=None, learning_rate=0.1, max_bin=None,\n",
       "              max_cat_threshold=None, max_cat_to_onehot=None,\n",
       "              max_delta_step=None, max_depth=None, max_leaves=None,\n",
       "              min_child_weight=None, missing=nan, monotone_constraints=None,\n",
       "              multi_strategy=None, n_estimators=100, n_jobs=None,\n",
       "              num_parallel_tree=None, objective=&#x27;multi:softprob&#x27;, ...)</pre><b>In a Jupyter environment, please rerun this cell to show the HTML representation or trust the notebook. <br />On GitHub, the HTML representation is unable to render, please try loading this page with nbviewer.org.</b></div><div class=\"sk-container\" hidden><div class=\"sk-item\"><div class=\"sk-estimator sk-toggleable\"><input class=\"sk-toggleable__control sk-hidden--visually\" id=\"sk-estimator-id-6\" type=\"checkbox\" checked><label for=\"sk-estimator-id-6\" class=\"sk-toggleable__label sk-toggleable__label-arrow\">XGBClassifier</label><div class=\"sk-toggleable__content\"><pre>XGBClassifier(base_score=None, booster=None, callbacks=None,\n",
       "              colsample_bylevel=None, colsample_bynode=None,\n",
       "              colsample_bytree=None, device=None, early_stopping_rounds=None,\n",
       "              enable_categorical=False, eval_metric=None, feature_types=None,\n",
       "              gamma=None, grow_policy=None, importance_type=None,\n",
       "              interaction_constraints=None, learning_rate=0.1, max_bin=None,\n",
       "              max_cat_threshold=None, max_cat_to_onehot=None,\n",
       "              max_delta_step=None, max_depth=None, max_leaves=None,\n",
       "              min_child_weight=None, missing=nan, monotone_constraints=None,\n",
       "              multi_strategy=None, n_estimators=100, n_jobs=None,\n",
       "              num_parallel_tree=None, objective=&#x27;multi:softprob&#x27;, ...)</pre></div></div></div></div></div>"
      ],
      "text/plain": [
       "XGBClassifier(base_score=None, booster=None, callbacks=None,\n",
       "              colsample_bylevel=None, colsample_bynode=None,\n",
       "              colsample_bytree=None, device=None, early_stopping_rounds=None,\n",
       "              enable_categorical=False, eval_metric=None, feature_types=None,\n",
       "              gamma=None, grow_policy=None, importance_type=None,\n",
       "              interaction_constraints=None, learning_rate=0.1, max_bin=None,\n",
       "              max_cat_threshold=None, max_cat_to_onehot=None,\n",
       "              max_delta_step=None, max_depth=None, max_leaves=None,\n",
       "              min_child_weight=None, missing=nan, monotone_constraints=None,\n",
       "              multi_strategy=None, n_estimators=100, n_jobs=None,\n",
       "              num_parallel_tree=None, objective='multi:softprob', ...)"
      ]
     },
     "execution_count": 76,
     "metadata": {},
     "output_type": "execute_result"
    }
   ],
   "source": [
    "xgb_model = XGBClassifier(learning_rate=0.1, n_estimators=100, random_state=42)\n",
    "xgb_model.fit(X_train_normal, y_train_normal)"
   ]
  },
  {
   "cell_type": "code",
   "execution_count": 77,
   "id": "eb0df086",
   "metadata": {},
   "outputs": [],
   "source": [
    "y_pred_xgb = xgb_model.predict(X_test_normal)"
   ]
  },
  {
   "cell_type": "code",
   "execution_count": 78,
   "id": "8aeea7d7",
   "metadata": {},
   "outputs": [
    {
     "name": "stdout",
     "output_type": "stream",
     "text": [
      "\n",
      "XGBoost Model:\n",
      "Accuracy: 0.904\n",
      "Classification Report:\n",
      "              precision    recall  f1-score   support\n",
      "\n",
      "         0.0       0.92      0.89      0.91        38\n",
      "         1.0       0.94      0.84      0.89        37\n",
      "         2.0       0.85      0.89      0.87        37\n",
      "         3.0       0.88      0.97      0.93        38\n",
      "         4.0       0.94      0.92      0.93        37\n",
      "\n",
      "    accuracy                           0.90       187\n",
      "   macro avg       0.91      0.90      0.90       187\n",
      "weighted avg       0.91      0.90      0.90       187\n",
      "\n"
     ]
    }
   ],
   "source": [
    "# Evaluate the XGBoost model\n",
    "print(\"\\nXGBoost Model:\")\n",
    "accuracy_xgb_smote_normal = round(accuracy_score(y_test_normal, y_pred_xgb),3)\n",
    "print(\"Accuracy:\",accuracy_xgb_smote_normal)\n",
    "print(\"Classification Report:\")\n",
    "print(classification_report(y_test_normal, y_pred_xgb))"
   ]
  },
  {
   "cell_type": "code",
   "execution_count": 79,
   "id": "8d4b2934",
   "metadata": {},
   "outputs": [
    {
     "name": "stdout",
     "output_type": "stream",
     "text": [
      "{'accuracy': 0.904, 'recall': 0.904, 'F1 score': 0.904, 'Precision score': 0.906}\n"
     ]
    }
   ],
   "source": [
    "evaluation(y_test_normal,y_pred_xgb)"
   ]
  },
  {
   "cell_type": "markdown",
   "id": "bcd6d69b",
   "metadata": {},
   "source": [
    "Coding di atas digunakan untuk mengevaluasi model XGBoost yang telah dilatih sebelumnya dengan menggunakan data pengujian yang telah dinormalisasi. Akurasi model dihitung menggunakan metrik accuracy_score untuk membandingkan prediksi model. Ditampilkan, yang memberikan informasi rinci tentang precision, recall, dan f1-score untuk setiap kelas dalam data pengujian yang telah dinormalisasi. Proses ini memberikan gambaran tentang sejauh mana model XGBoost yang menggunakan data yang telah dinormalisasi mampu melakukan klasifikasi pada dataset pengujian. Dari report diatas dapat dilihat XBOost dalam metode Oversample + Normalisasi mempunyai akurasi 90,4%"
   ]
  },
  {
   "cell_type": "code",
   "execution_count": 80,
   "id": "8f9276f2",
   "metadata": {},
   "outputs": [],
   "source": [
    "cm = confusion_matrix(y_test_normal, y_pred_xgb)"
   ]
  },
  {
   "cell_type": "code",
   "execution_count": 81,
   "id": "4e71d963",
   "metadata": {},
   "outputs": [
    {
     "data": {
      "image/png": "[encoded data removed]",
      "text/plain": [
       "<Figure size 576x432 with 2 Axes>"
      ]
     },
     "metadata": {
      "needs_background": "light"
     },
     "output_type": "display_data"
    }
   ],
   "source": [
    "plt.figure(figsize=(8, 6))\n",
    "sns.heatmap(cm, annot=True, fmt=\"d\", cmap=\"Blues\")\n",
    "plt.title('Confusion Matrix')\n",
    "plt.xlabel('True')\n",
    "plt.ylabel('Predict')\n",
    "plt.show()"
   ]
  },
  {
   "cell_type": "markdown",
   "id": "9c733512",
   "metadata": {},
   "source": [
    "### Tuning + Normalization + Oversample"
   ]
  },
  {
   "cell_type": "markdown",
   "id": "cedad008",
   "metadata": {},
   "source": [
    "Pada pembuatan model kali ini masih menggunakan algoritma yang sama (KNN, Random Forest, dan XGBoost), namun data yang digunakan\n",
    "adalah data yang sudah dilakukan TunNIng Parameter, Normalisasi, dan Oversample."
   ]
  },
  {
   "cell_type": "markdown",
   "id": "4d7d6280",
   "metadata": {},
   "source": [
    "#### KNN"
   ]
  },
  {
   "cell_type": "code",
   "execution_count": 82,
   "id": "e17aca63",
   "metadata": {},
   "outputs": [],
   "source": [
    "from sklearn.neighbors import KNeighborsClassifier\n",
    "from sklearn.ensemble import RandomForestClassifier\n",
    "from xgboost import XGBClassifier\n",
    "from sklearn.metrics import accuracy_score, classification_report\n",
    "from sklearn.model_selection import RandomizedSearchCV"
   ]
  },
  {
   "cell_type": "markdown",
   "id": "0751f751",
   "metadata": {},
   "source": [
    "Coding diatas Mengimpor kelas KNeighborsClassifier (KNN), RandomForestClassifier, dan XGBClassifier dari scikit-learn dan XGBoost, yang merupakan implementasi dari algoritma K-Nearest Neighbors, Random Forest, dan Extreme Gradient Boosting untuk klasifikasi. </br>\n",
    "Mengimpor fungsi evaluasi kinerja model, seperti accuracy_score dan classification_report, dari scikit-learn. Selain itu, juga diimpor fungsi RandomizedSearchCV untuk melakukan pencarian parameter secara acak dan validasi silang (cross-validation)."
   ]
  },
  {
   "cell_type": "markdown",
   "id": "02b48e7b",
   "metadata": {},
   "source": [
    "Setiap parameter tunnning tidak selalu sama karena bergantung pada algoritma yang digunakan."
   ]
  },
  {
   "cell_type": "code",
   "execution_count": 83,
   "id": "bf1e94e4",
   "metadata": {},
   "outputs": [],
   "source": [
    "knn_model = KNeighborsClassifier()"
   ]
  },
  {
   "cell_type": "code",
   "execution_count": 84,
   "id": "5d86e3ea",
   "metadata": {},
   "outputs": [],
   "source": [
    "param_grid = {\n",
    "\"n_neighbors\": range(3, 21),\n",
    "\"metric\": [\"euclidean\", \"manhattan\", \"chebyshev\"],\n",
    "\"weights\": [\"uniform\", \"distance\"],\n",
    "\"algorithm\": [\"auto\", \"ball_tree\", \"kd_tree\"],\n",
    "\"leaf_size\": range(10, 61),\n",
    "}"
   ]
  },
  {
   "cell_type": "markdown",
   "id": "bbc77475",
   "metadata": {},
   "source": [
    "Coding di atas mendefinisikan param_grid, yang merupakan himpunan parameter yang akan dieksplorasi dalam pencarian parameter menggunakan metode Randomized Search Cross-Validation pada model K-Nearest Neighbors (KNN). </br>\n",
    "a. Mencakup rentang nilai dari 3 hingga 20. </br>\n",
    "b. Mencakup tiga metrik jarak yang dapat digunakan oleh model KNN, yaitu \"euclidean\" (jarak Euclidean), \"manhattan\" (jarak Manhattan), dan \"chebyshev\" (jarak Chebyshev).</br>\n",
    "c. Mencakup dua opsi untuk penentuan bobot tetangga, yaitu \"uniform\" (bobot seragam) dan \"distance\" (bobot sebanding dengan kebalikan jarak).</br>\n",
    "d. Mencakup tiga algoritma yang dapat digunakan oleh model KNN</br>\n",
    "e. Mencakup rentang nilai dari 10 hingga 60"
   ]
  },
  {
   "cell_type": "code",
   "execution_count": 85,
   "id": "78c10b9b",
   "metadata": {},
   "outputs": [],
   "source": [
    "knn_model = RandomizedSearchCV(estimator=knn_model, param_distributions=param_grid, n_iter=100, scoring=\"accuracy\", cv=5)"
   ]
  },
  {
   "cell_type": "markdown",
   "id": "f9bccfbb",
   "metadata": {},
   "source": [
    "Coding diatas merupakan proses akan mencoba secara acak kombinasi parameter dari param_grid, melatih dan mengevaluasi model KNN pada setiap iterasi, dan akhirnya menghasilkan kombinasi parameter yang memberikan kinerja terbaik berdasarkan metrik akurasi."
   ]
  },
  {
   "cell_type": "code",
   "execution_count": 86,
   "id": "90f5c930",
   "metadata": {},
   "outputs": [
    {
     "data": {
      "text/html": [
       "<style>#sk-container-id-7 {color: black;background-color: white;}#sk-container-id-7 pre{padding: 0;}#sk-container-id-7 div.sk-toggleable {background-color: white;}#sk-container-id-7 label.sk-toggleable__label {cursor: pointer;display: block;width: 100%;margin-bottom: 0;padding: 0.3em;box-sizing: border-box;text-align: center;}#sk-container-id-7 label.sk-toggleable__label-arrow:before {content: \"▸\";float: left;margin-right: 0.25em;color: #696969;}#sk-container-id-7 label.sk-toggleable__label-arrow:hover:before {color: black;}#sk-container-id-7 div.sk-estimator:hover label.sk-toggleable__label-arrow:before {color: black;}#sk-container-id-7 div.sk-toggleable__content {max-height: 0;max-width: 0;overflow: hidden;text-align: left;background-color: #f0f8ff;}#sk-container-id-7 div.sk-toggleable__content pre {margin: 0.2em;color: black;border-radius: 0.25em;background-color: #f0f8ff;}#sk-container-id-7 input.sk-toggleable__control:checked~div.sk-toggleable__content {max-height: 200px;max-width: 100%;overflow: auto;}#sk-container-id-7 input.sk-toggleable__control:checked~label.sk-toggleable__label-arrow:before {content: \"▾\";}#sk-container-id-7 div.sk-estimator input.sk-toggleable__control:checked~label.sk-toggleable__label {background-color: #d4ebff;}#sk-container-id-7 div.sk-label input.sk-toggleable__control:checked~label.sk-toggleable__label {background-color: #d4ebff;}#sk-container-id-7 input.sk-hidden--visually {border: 0;clip: rect(1px 1px 1px 1px);clip: rect(1px, 1px, 1px, 1px);height: 1px;margin: -1px;overflow: hidden;padding: 0;position: absolute;width: 1px;}#sk-container-id-7 div.sk-estimator {font-family: monospace;background-color: #f0f8ff;border: 1px dotted black;border-radius: 0.25em;box-sizing: border-box;margin-bottom: 0.5em;}#sk-container-id-7 div.sk-estimator:hover {background-color: #d4ebff;}#sk-container-id-7 div.sk-parallel-item::after {content: \"\";width: 100%;border-bottom: 1px solid gray;flex-grow: 1;}#sk-container-id-7 div.sk-label:hover label.sk-toggleable__label {background-color: #d4ebff;}#sk-container-id-7 div.sk-serial::before {content: \"\";position: absolute;border-left: 1px solid gray;box-sizing: border-box;top: 0;bottom: 0;left: 50%;z-index: 0;}#sk-container-id-7 div.sk-serial {display: flex;flex-direction: column;align-items: center;background-color: white;padding-right: 0.2em;padding-left: 0.2em;position: relative;}#sk-container-id-7 div.sk-item {position: relative;z-index: 1;}#sk-container-id-7 div.sk-parallel {display: flex;align-items: stretch;justify-content: center;background-color: white;position: relative;}#sk-container-id-7 div.sk-item::before, #sk-container-id-7 div.sk-parallel-item::before {content: \"\";position: absolute;border-left: 1px solid gray;box-sizing: border-box;top: 0;bottom: 0;left: 50%;z-index: -1;}#sk-container-id-7 div.sk-parallel-item {display: flex;flex-direction: column;z-index: 1;position: relative;background-color: white;}#sk-container-id-7 div.sk-parallel-item:first-child::after {align-self: flex-end;width: 50%;}#sk-container-id-7 div.sk-parallel-item:last-child::after {align-self: flex-start;width: 50%;}#sk-container-id-7 div.sk-parallel-item:only-child::after {width: 0;}#sk-container-id-7 div.sk-dashed-wrapped {border: 1px dashed gray;margin: 0 0.4em 0.5em 0.4em;box-sizing: border-box;padding-bottom: 0.4em;background-color: white;}#sk-container-id-7 div.sk-label label {font-family: monospace;font-weight: bold;display: inline-block;line-height: 1.2em;}#sk-container-id-7 div.sk-label-container {text-align: center;}#sk-container-id-7 div.sk-container {/* jupyter's `normalize.less` sets `[hidden] { display: none; }` but bootstrap.min.css set `[hidden] { display: none !important; }` so we also need the `!important` here to be able to override the default hidden behavior on the sphinx rendered scikit-learn.org. See: https://github.com/scikit-learn/scikit-learn/issues/21755 */display: inline-block !important;position: relative;}#sk-container-id-7 div.sk-text-repr-fallback {display: none;}</style><div id=\"sk-container-id-7\" class=\"sk-top-container\"><div class=\"sk-text-repr-fallback\"><pre>RandomizedSearchCV(cv=5, estimator=KNeighborsClassifier(), n_iter=100,\n",
       "                   param_distributions={&#x27;algorithm&#x27;: [&#x27;auto&#x27;, &#x27;ball_tree&#x27;,\n",
       "                                                      &#x27;kd_tree&#x27;],\n",
       "                                        &#x27;leaf_size&#x27;: range(10, 61),\n",
       "                                        &#x27;metric&#x27;: [&#x27;euclidean&#x27;, &#x27;manhattan&#x27;,\n",
       "                                                   &#x27;chebyshev&#x27;],\n",
       "                                        &#x27;n_neighbors&#x27;: range(3, 21),\n",
       "                                        &#x27;weights&#x27;: [&#x27;uniform&#x27;, &#x27;distance&#x27;]},\n",
       "                   scoring=&#x27;accuracy&#x27;)</pre><b>In a Jupyter environment, please rerun this cell to show the HTML representation or trust the notebook. <br />On GitHub, the HTML representation is unable to render, please try loading this page with nbviewer.org.</b></div><div class=\"sk-container\" hidden><div class=\"sk-item sk-dashed-wrapped\"><div class=\"sk-label-container\"><div class=\"sk-label sk-toggleable\"><input class=\"sk-toggleable__control sk-hidden--visually\" id=\"sk-estimator-id-7\" type=\"checkbox\" ><label for=\"sk-estimator-id-7\" class=\"sk-toggleable__label sk-toggleable__label-arrow\">RandomizedSearchCV</label><div class=\"sk-toggleable__content\"><pre>RandomizedSearchCV(cv=5, estimator=KNeighborsClassifier(), n_iter=100,\n",
       "                   param_distributions={&#x27;algorithm&#x27;: [&#x27;auto&#x27;, &#x27;ball_tree&#x27;,\n",
       "                                                      &#x27;kd_tree&#x27;],\n",
       "                                        &#x27;leaf_size&#x27;: range(10, 61),\n",
       "                                        &#x27;metric&#x27;: [&#x27;euclidean&#x27;, &#x27;manhattan&#x27;,\n",
       "                                                   &#x27;chebyshev&#x27;],\n",
       "                                        &#x27;n_neighbors&#x27;: range(3, 21),\n",
       "                                        &#x27;weights&#x27;: [&#x27;uniform&#x27;, &#x27;distance&#x27;]},\n",
       "                   scoring=&#x27;accuracy&#x27;)</pre></div></div></div><div class=\"sk-parallel\"><div class=\"sk-parallel-item\"><div class=\"sk-item\"><div class=\"sk-label-container\"><div class=\"sk-label sk-toggleable\"><input class=\"sk-toggleable__control sk-hidden--visually\" id=\"sk-estimator-id-8\" type=\"checkbox\" ><label for=\"sk-estimator-id-8\" class=\"sk-toggleable__label sk-toggleable__label-arrow\">estimator: KNeighborsClassifier</label><div class=\"sk-toggleable__content\"><pre>KNeighborsClassifier()</pre></div></div></div><div class=\"sk-serial\"><div class=\"sk-item\"><div class=\"sk-estimator sk-toggleable\"><input class=\"sk-toggleable__control sk-hidden--visually\" id=\"sk-estimator-id-9\" type=\"checkbox\" ><label for=\"sk-estimator-id-9\" class=\"sk-toggleable__label sk-toggleable__label-arrow\">KNeighborsClassifier</label><div class=\"sk-toggleable__content\"><pre>KNeighborsClassifier()</pre></div></div></div></div></div></div></div></div></div></div>"
      ],
      "text/plain": [
       "RandomizedSearchCV(cv=5, estimator=KNeighborsClassifier(), n_iter=100,\n",
       "                   param_distributions={'algorithm': ['auto', 'ball_tree',\n",
       "                                                      'kd_tree'],\n",
       "                                        'leaf_size': range(10, 61),\n",
       "                                        'metric': ['euclidean', 'manhattan',\n",
       "                                                   'chebyshev'],\n",
       "                                        'n_neighbors': range(3, 21),\n",
       "                                        'weights': ['uniform', 'distance']},\n",
       "                   scoring='accuracy')"
      ]
     },
     "execution_count": 86,
     "metadata": {},
     "output_type": "execute_result"
    }
   ],
   "source": [
    "knn_model.fit(X_train_normal, y_train_normal)"
   ]
  },
  {
   "cell_type": "code",
   "execution_count": 87,
   "id": "ec0b49ef",
   "metadata": {},
   "outputs": [
    {
     "name": "stdout",
     "output_type": "stream",
     "text": [
      "Best parameters: {'weights': 'distance', 'n_neighbors': 4, 'metric': 'manhattan', 'leaf_size': 59, 'algorithm': 'ball_tree'}\n"
     ]
    }
   ],
   "source": [
    "best_params = knn_model.best_params_\n",
    "print(f\"Best parameters: {best_params}\")"
   ]
  },
  {
   "cell_type": "markdown",
   "id": "61396f36",
   "metadata": {},
   "source": [
    "kode di atas digunakan untuk mendapatkan parameter terbaik (best parameters) yang dihasilkan dari proses Randomized Search Cross-Validation pada model K-Nearest Neighbors (KNN). "
   ]
  },
  {
   "cell_type": "code",
   "execution_count": 88,
   "id": "73562be4",
   "metadata": {},
   "outputs": [],
   "source": [
    "y_pred_knn = knn_model.predict(X_test_normal)"
   ]
  },
  {
   "cell_type": "code",
   "execution_count": 89,
   "id": "b8b94745",
   "metadata": {},
   "outputs": [
    {
     "name": "stdout",
     "output_type": "stream",
     "text": [
      "K-Nearest Neighbors (KNN) Model:\n",
      "Accuracy: 0.93\n",
      "Classification Report:\n",
      "              precision    recall  f1-score   support\n",
      "\n",
      "         0.0       0.94      0.89      0.92        38\n",
      "         1.0       0.86      0.86      0.86        37\n",
      "         2.0       0.92      0.92      0.92        37\n",
      "         3.0       0.97      0.97      0.97        38\n",
      "         4.0       0.95      1.00      0.97        37\n",
      "\n",
      "    accuracy                           0.93       187\n",
      "   macro avg       0.93      0.93      0.93       187\n",
      "weighted avg       0.93      0.93      0.93       187\n",
      "\n"
     ]
    }
   ],
   "source": [
    "# Evaluate the KNN model\n",
    "print(\"K-Nearest Neighbors (KNN) Model:\")\n",
    "accuracy_knn_smote_normal_Tun = round(accuracy_score(y_test_normal,y_pred_knn),3)\n",
    "print(\"Accuracy:\", accuracy_knn_smote_normal_Tun)\n",
    "print(\"Classification Report:\")\n",
    "print(classification_report(y_test_normal, y_pred_knn))"
   ]
  },
  {
   "cell_type": "markdown",
   "id": "e9cbd975",
   "metadata": {},
   "source": [
    "kode di atas, dilakukan evaluasi terhadap model K-Nearest Neighbors (KNN) yang telah dituning parameter menggunakan hasil dari Randomized Search Cross-Validation. laporan klasifikasi (classification_report) ditampilkan, memberikan informasi rinci tentang precision, recall, dan f1-score untuk setiap kelas dalam data pengujian yang telah dinormalisasi. Proses ini memberikan gambaran holistik tentang kinerja model KNN yang telah disesuaikan parameter pada dataset pengujian. Dari report diatas dapat terlihat KNN model dengan metode Tunning + normalisasi + oversample mempunyai akurasi 93%"
   ]
  },
  {
   "cell_type": "code",
   "execution_count": 90,
   "id": "a05cadc5",
   "metadata": {},
   "outputs": [
    {
     "name": "stdout",
     "output_type": "stream",
     "text": [
      "{'accuracy': 0.93, 'recall': 0.93, 'F1 score': 0.93, 'Precision score': 0.93}\n"
     ]
    }
   ],
   "source": [
    "evaluation(y_test_normal,y_pred_knn)"
   ]
  },
  {
   "cell_type": "code",
   "execution_count": 91,
   "id": "907195e3",
   "metadata": {},
   "outputs": [],
   "source": [
    "cm = confusion_matrix(y_test_normal, y_pred_knn)"
   ]
  },
  {
   "cell_type": "code",
   "execution_count": 92,
   "id": "1f22dbe0",
   "metadata": {},
   "outputs": [
    {
     "data": {
      "image/png": "[encoded data removed]",
      "text/plain": [
       "<Figure size 576x432 with 2 Axes>"
      ]
     },
     "metadata": {
      "needs_background": "light"
     },
     "output_type": "display_data"
    }
   ],
   "source": [
    "plt.figure(figsize=(8, 6))\n",
    "sns.heatmap(cm, annot=True, fmt=\"d\", cmap=\"Blues\")\n",
    "plt.title('Confusion Matrix')\n",
    "plt.xlabel('True')\n",
    "plt.ylabel('Predict')\n",
    "plt.show()"
   ]
  },
  {
   "cell_type": "markdown",
   "id": "b8322a24",
   "metadata": {},
   "source": [
    "#### Random Forest"
   ]
  },
  {
   "cell_type": "code",
   "execution_count": 93,
   "id": "661ba604",
   "metadata": {},
   "outputs": [],
   "source": [
    "rf_model = RandomForestClassifier()"
   ]
  },
  {
   "cell_type": "code",
   "execution_count": 94,
   "id": "fa82132d",
   "metadata": {},
   "outputs": [],
   "source": [
    "param_grid = {\n",
    "\"n_estimators\": [100, 200],\n",
    "\"max_depth\": [ 10, 15],\n",
    "\"min_samples_leaf\": [1, 2],\n",
    "\"min_samples_split\": [2, 5],\n",
    "\"max_features\": [\"sqrt\", \"log2\"],\n",
    "# \"random_state\": [42, 100, 200]\n",
    "}"
   ]
  },
  {
   "cell_type": "markdown",
   "id": "9cb035bc",
   "metadata": {},
   "source": [
    "Coding diatas merupakan himpunan parameter yang akan dieksplorasi dalam pencarian parameter menggunakan metode Randomized Search Cross-Validation pada model Random Forest. </br>\n",
    "a. Mencakup dua nilai, yaitu 100 dan 200. Parameter ini menentukan jumlah pohon yang akan digunakan dalam pembentukan model Random Forest.</br>\n",
    "b. Mencakup dua nilai, yaitu 10 dan 15. Parameter ini menentukan kedalaman maksimum</br>\n",
    "c. Mencakup dua nilai, yaitu 1 dan 2. </br>\n",
    "d. Mencakup dua nilai, yaitu 2 dan 5. </br>\n",
    "e. Mencakup dua nilai, yaitu \"sqrt\" dan \"log2\". Parameter ini menentukan jumlah fitur maksimum yang harus dipertimbangkan dalam mencari pemisahan terbaik pada setiap simpul."
   ]
  },
  {
   "cell_type": "code",
   "execution_count": 95,
   "id": "d64cb09c",
   "metadata": {},
   "outputs": [],
   "source": [
    "rf_model = RandomizedSearchCV(rf_model, param_grid, n_iter=100, cv=5, n_jobs=-1)"
   ]
  },
  {
   "cell_type": "markdown",
   "id": "ea25f005",
   "metadata": {},
   "source": [
    "kode diatas menggunakan metode Randomized Search Cross-Validation (RandomizedSearchCV). Variabel (rf_model) dioptimalkan dengan mencari parameter terbaik dari himpunan nilai yang telah ditentukan dalam param_grid. Dalam proses ini, akan dilakukan 100 iterasi pencarian parameter secara acak, dengan validasi silang menggunakan 5 lipatan. Pengaturan n_jobs=-1 memungkinkan pemrosesan paralel untuk mempercepat proses."
   ]
  },
  {
   "cell_type": "code",
   "execution_count": 96,
   "id": "4ef30fcd",
   "metadata": {},
   "outputs": [
    {
     "name": "stderr",
     "output_type": "stream",
     "text": [
      "C:\\Users\\NEL\\anaconda3\\lib\\site-packages\\sklearn\\model_selection\\_search.py:305: UserWarning: The total space of parameters 32 is smaller than n_iter=100. Running 32 iterations. For exhaustive searches, use GridSearchCV.\n",
      "  warnings.warn(\n"
     ]
    },
    {
     "data": {
      "text/html": [
       "<style>#sk-container-id-8 {color: black;background-color: white;}#sk-container-id-8 pre{padding: 0;}#sk-container-id-8 div.sk-toggleable {background-color: white;}#sk-container-id-8 label.sk-toggleable__label {cursor: pointer;display: block;width: 100%;margin-bottom: 0;padding: 0.3em;box-sizing: border-box;text-align: center;}#sk-container-id-8 label.sk-toggleable__label-arrow:before {content: \"▸\";float: left;margin-right: 0.25em;color: #696969;}#sk-container-id-8 label.sk-toggleable__label-arrow:hover:before {color: black;}#sk-container-id-8 div.sk-estimator:hover label.sk-toggleable__label-arrow:before {color: black;}#sk-container-id-8 div.sk-toggleable__content {max-height: 0;max-width: 0;overflow: hidden;text-align: left;background-color: #f0f8ff;}#sk-container-id-8 div.sk-toggleable__content pre {margin: 0.2em;color: black;border-radius: 0.25em;background-color: #f0f8ff;}#sk-container-id-8 input.sk-toggleable__control:checked~div.sk-toggleable__content {max-height: 200px;max-width: 100%;overflow: auto;}#sk-container-id-8 input.sk-toggleable__control:checked~label.sk-toggleable__label-arrow:before {content: \"▾\";}#sk-container-id-8 div.sk-estimator input.sk-toggleable__control:checked~label.sk-toggleable__label {background-color: #d4ebff;}#sk-container-id-8 div.sk-label input.sk-toggleable__control:checked~label.sk-toggleable__label {background-color: #d4ebff;}#sk-container-id-8 input.sk-hidden--visually {border: 0;clip: rect(1px 1px 1px 1px);clip: rect(1px, 1px, 1px, 1px);height: 1px;margin: -1px;overflow: hidden;padding: 0;position: absolute;width: 1px;}#sk-container-id-8 div.sk-estimator {font-family: monospace;background-color: #f0f8ff;border: 1px dotted black;border-radius: 0.25em;box-sizing: border-box;margin-bottom: 0.5em;}#sk-container-id-8 div.sk-estimator:hover {background-color: #d4ebff;}#sk-container-id-8 div.sk-parallel-item::after {content: \"\";width: 100%;border-bottom: 1px solid gray;flex-grow: 1;}#sk-container-id-8 div.sk-label:hover label.sk-toggleable__label {background-color: #d4ebff;}#sk-container-id-8 div.sk-serial::before {content: \"\";position: absolute;border-left: 1px solid gray;box-sizing: border-box;top: 0;bottom: 0;left: 50%;z-index: 0;}#sk-container-id-8 div.sk-serial {display: flex;flex-direction: column;align-items: center;background-color: white;padding-right: 0.2em;padding-left: 0.2em;position: relative;}#sk-container-id-8 div.sk-item {position: relative;z-index: 1;}#sk-container-id-8 div.sk-parallel {display: flex;align-items: stretch;justify-content: center;background-color: white;position: relative;}#sk-container-id-8 div.sk-item::before, #sk-container-id-8 div.sk-parallel-item::before {content: \"\";position: absolute;border-left: 1px solid gray;box-sizing: border-box;top: 0;bottom: 0;left: 50%;z-index: -1;}#sk-container-id-8 div.sk-parallel-item {display: flex;flex-direction: column;z-index: 1;position: relative;background-color: white;}#sk-container-id-8 div.sk-parallel-item:first-child::after {align-self: flex-end;width: 50%;}#sk-container-id-8 div.sk-parallel-item:last-child::after {align-self: flex-start;width: 50%;}#sk-container-id-8 div.sk-parallel-item:only-child::after {width: 0;}#sk-container-id-8 div.sk-dashed-wrapped {border: 1px dashed gray;margin: 0 0.4em 0.5em 0.4em;box-sizing: border-box;padding-bottom: 0.4em;background-color: white;}#sk-container-id-8 div.sk-label label {font-family: monospace;font-weight: bold;display: inline-block;line-height: 1.2em;}#sk-container-id-8 div.sk-label-container {text-align: center;}#sk-container-id-8 div.sk-container {/* jupyter's `normalize.less` sets `[hidden] { display: none; }` but bootstrap.min.css set `[hidden] { display: none !important; }` so we also need the `!important` here to be able to override the default hidden behavior on the sphinx rendered scikit-learn.org. See: https://github.com/scikit-learn/scikit-learn/issues/21755 */display: inline-block !important;position: relative;}#sk-container-id-8 div.sk-text-repr-fallback {display: none;}</style><div id=\"sk-container-id-8\" class=\"sk-top-container\"><div class=\"sk-text-repr-fallback\"><pre>RandomizedSearchCV(cv=5, estimator=RandomForestClassifier(), n_iter=100,\n",
       "                   n_jobs=-1,\n",
       "                   param_distributions={&#x27;max_depth&#x27;: [10, 15],\n",
       "                                        &#x27;max_features&#x27;: [&#x27;sqrt&#x27;, &#x27;log2&#x27;],\n",
       "                                        &#x27;min_samples_leaf&#x27;: [1, 2],\n",
       "                                        &#x27;min_samples_split&#x27;: [2, 5],\n",
       "                                        &#x27;n_estimators&#x27;: [100, 200]})</pre><b>In a Jupyter environment, please rerun this cell to show the HTML representation or trust the notebook. <br />On GitHub, the HTML representation is unable to render, please try loading this page with nbviewer.org.</b></div><div class=\"sk-container\" hidden><div class=\"sk-item sk-dashed-wrapped\"><div class=\"sk-label-container\"><div class=\"sk-label sk-toggleable\"><input class=\"sk-toggleable__control sk-hidden--visually\" id=\"sk-estimator-id-10\" type=\"checkbox\" ><label for=\"sk-estimator-id-10\" class=\"sk-toggleable__label sk-toggleable__label-arrow\">RandomizedSearchCV</label><div class=\"sk-toggleable__content\"><pre>RandomizedSearchCV(cv=5, estimator=RandomForestClassifier(), n_iter=100,\n",
       "                   n_jobs=-1,\n",
       "                   param_distributions={&#x27;max_depth&#x27;: [10, 15],\n",
       "                                        &#x27;max_features&#x27;: [&#x27;sqrt&#x27;, &#x27;log2&#x27;],\n",
       "                                        &#x27;min_samples_leaf&#x27;: [1, 2],\n",
       "                                        &#x27;min_samples_split&#x27;: [2, 5],\n",
       "                                        &#x27;n_estimators&#x27;: [100, 200]})</pre></div></div></div><div class=\"sk-parallel\"><div class=\"sk-parallel-item\"><div class=\"sk-item\"><div class=\"sk-label-container\"><div class=\"sk-label sk-toggleable\"><input class=\"sk-toggleable__control sk-hidden--visually\" id=\"sk-estimator-id-11\" type=\"checkbox\" ><label for=\"sk-estimator-id-11\" class=\"sk-toggleable__label sk-toggleable__label-arrow\">estimator: RandomForestClassifier</label><div class=\"sk-toggleable__content\"><pre>RandomForestClassifier()</pre></div></div></div><div class=\"sk-serial\"><div class=\"sk-item\"><div class=\"sk-estimator sk-toggleable\"><input class=\"sk-toggleable__control sk-hidden--visually\" id=\"sk-estimator-id-12\" type=\"checkbox\" ><label for=\"sk-estimator-id-12\" class=\"sk-toggleable__label sk-toggleable__label-arrow\">RandomForestClassifier</label><div class=\"sk-toggleable__content\"><pre>RandomForestClassifier()</pre></div></div></div></div></div></div></div></div></div></div>"
      ],
      "text/plain": [
       "RandomizedSearchCV(cv=5, estimator=RandomForestClassifier(), n_iter=100,\n",
       "                   n_jobs=-1,\n",
       "                   param_distributions={'max_depth': [10, 15],\n",
       "                                        'max_features': ['sqrt', 'log2'],\n",
       "                                        'min_samples_leaf': [1, 2],\n",
       "                                        'min_samples_split': [2, 5],\n",
       "                                        'n_estimators': [100, 200]})"
      ]
     },
     "execution_count": 96,
     "metadata": {},
     "output_type": "execute_result"
    }
   ],
   "source": [
    "rf_model.fit(X_train_normal, y_train_normal)"
   ]
  },
  {
   "cell_type": "code",
   "execution_count": 97,
   "id": "47203981",
   "metadata": {},
   "outputs": [
    {
     "name": "stdout",
     "output_type": "stream",
     "text": [
      "Best parameters: {'n_estimators': 100, 'min_samples_split': 2, 'min_samples_leaf': 2, 'max_features': 'sqrt', 'max_depth': 15}\n"
     ]
    }
   ],
   "source": [
    "best_params = rf_model.best_params_\n",
    "print(f\"Best parameters: {best_params}\")"
   ]
  },
  {
   "cell_type": "markdown",
   "id": "caf4a628",
   "metadata": {},
   "source": [
    "kode di atas digunakan untuk mendapatkan parameter terbaik (best parameters) yang dihasilkan dari proses Randomized Search Cross-Validation pada model Random Forest."
   ]
  },
  {
   "cell_type": "code",
   "execution_count": 98,
   "id": "6ac19e7d",
   "metadata": {},
   "outputs": [],
   "source": [
    "y_pred_rf = rf_model.predict(X_test_normal)"
   ]
  },
  {
   "cell_type": "code",
   "execution_count": 99,
   "id": "d06c57bc",
   "metadata": {},
   "outputs": [
    {
     "name": "stdout",
     "output_type": "stream",
     "text": [
      "\n",
      "Random Forest Model:\n",
      "Accuracy: 0.882\n",
      "Classification Report:\n",
      "              precision    recall  f1-score   support\n",
      "\n",
      "         0.0       0.92      0.87      0.89        38\n",
      "         1.0       0.82      0.84      0.83        37\n",
      "         2.0       0.80      0.86      0.83        37\n",
      "         3.0       0.93      0.97      0.95        38\n",
      "         4.0       0.97      0.86      0.91        37\n",
      "\n",
      "    accuracy                           0.88       187\n",
      "   macro avg       0.89      0.88      0.88       187\n",
      "weighted avg       0.89      0.88      0.88       187\n",
      "\n"
     ]
    }
   ],
   "source": [
    "# Evaluate the Random Forest model\n",
    "print(\"\\nRandom Forest Model:\")\n",
    "accuracy_rf_smote_normal_Tun = round(accuracy_score(y_test_normal, y_pred_rf),3)\n",
    "print(\"Accuracy:\",accuracy_rf_smote_normal_Tun)\n",
    "print(\"Classification Report:\")\n",
    "print(classification_report(y_test_normal, y_pred_rf))"
   ]
  },
  {
   "cell_type": "markdown",
   "id": "ca187375",
   "metadata": {},
   "source": [
    "Coding di atas digunakan untuk mengevaluasi model Random Forest yang telah dituning parameter dengan hasil dari Randomized Search Cross-Validation. Akurasi model dihitung dengan membandingkan prediksi model dengan label sebenarnya. Ditampilkan, memberikan informasi rinci tentang precision, recall, dan f1-score untuk setiap kelas dalam data pengujian yang telah dinormalisasi. Proses ini memberikan gambaran tentang sejauh mana model Random Forest yang menggunakan data yang telah dituning parameter mampu melakukan klasifikasi pada dataset pengujian. Dilihat dari Report diatas Model Random FOrest dengan Metode Tunning + Normalisasi + Oversample mempunyai akurasi 88,2%"
   ]
  },
  {
   "cell_type": "code",
   "execution_count": 100,
   "id": "4aaba849",
   "metadata": {},
   "outputs": [
    {
     "name": "stdout",
     "output_type": "stream",
     "text": [
      "{'accuracy': 0.882, 'recall': 0.882, 'F1 score': 0.883, 'Precision score': 0.886}\n"
     ]
    }
   ],
   "source": [
    "evaluation(y_test_normal,y_pred_rf)"
   ]
  },
  {
   "cell_type": "code",
   "execution_count": 101,
   "id": "2d69781c",
   "metadata": {},
   "outputs": [],
   "source": [
    "cm = confusion_matrix(y_test_normal, y_pred_knn)"
   ]
  },
  {
   "cell_type": "code",
   "execution_count": 102,
   "id": "b06c5ca2",
   "metadata": {},
   "outputs": [
    {
     "data": {
      "image/png": "[encoded data removed]",
      "text/plain": [
       "<Figure size 576x432 with 2 Axes>"
      ]
     },
     "metadata": {
      "needs_background": "light"
     },
     "output_type": "display_data"
    }
   ],
   "source": [
    "plt.figure(figsize=(8, 6))\n",
    "sns.heatmap(cm, annot=True, fmt=\"d\", cmap=\"Blues\")\n",
    "plt.title('Confusion Matrix')\n",
    "plt.xlabel('True')\n",
    "plt.ylabel('Predict')\n",
    "plt.show()"
   ]
  },
  {
   "cell_type": "markdown",
   "id": "606e23eb",
   "metadata": {},
   "source": [
    "#### XGBoost"
   ]
  },
  {
   "cell_type": "code",
   "execution_count": 103,
   "id": "63aa079f",
   "metadata": {},
   "outputs": [],
   "source": [
    "xgb_model = XGBClassifier()"
   ]
  },
  {
   "cell_type": "code",
   "execution_count": 104,
   "id": "08efbb98",
   "metadata": {},
   "outputs": [],
   "source": [
    "param_grid = {\n",
    "\"max_depth\": [3, 5, 7],\n",
    "\"learning_rate\": [0.01, 0.1],\n",
    "\"n_estimators\": [100, 200],\n",
    "\"gamma\": [0, 0.1],\n",
    "\"colsample_bytree\": [0.7, 0.8],\n",
    "}"
   ]
  },
  {
   "cell_type": "markdown",
   "id": "db84f75b",
   "metadata": {},
   "source": [
    "kode diatas mendefinisikan param_grid, yang merupakan himpunan parameter yang akan dieksplorasi dalam pencarian parameter menggunakan metode Randomized Search Cross-Validation pada model XGBoost. </br>\n",
    "a. Mencakup tiga nilai, yaitu 3, 5, dan 7.</br>\n",
    "b. Mencakup dua nilai, yaitu 0.01 dan 0.1. Parameter ini menentukan tingkat pembelajaran yang mengontrol seberapa besar bobot akan diperbarui pada setiap langkah iterasi.</br>\n",
    "c. Mencakup dua nilai, yaitu 100 dan 200. Parameter ini menentukan jumlah pohon keputusan yang akan digunakan dalam model XGBoost. </br>\n",
    "d. Mencakup dua nilai, yaitu 0 dan 0.1.</br>\n",
    "e. Mencakup dua nilai, yaitu 0.7 dan 0.8. Parameter ini menentukan fraksi fitur yang akan dipertimbangkan pada setiap iterasi"
   ]
  },
  {
   "cell_type": "code",
   "execution_count": 105,
   "id": "efe8058c",
   "metadata": {},
   "outputs": [],
   "source": [
    "xgb_model = RandomizedSearchCV(xgb_model, param_grid, n_iter=10, cv=5, n_jobs=-1)"
   ]
  },
  {
   "cell_type": "markdown",
   "id": "c1eae66d",
   "metadata": {},
   "source": [
    "kode diatas menggunakan metode Randomized Search Cross-Validation (RandomizedSearchCV). Variabel (xgb_model) dioptimalkan dengan mencari parameter terbaik dari himpunan nilai yang telah ditentukan dalam param_grid. Dalam proses ini, akan dilakukan 10 iterasi pencarian parameter secara acak, dengan validasi silang menggunakan 5 lipatan. Pengaturan n_jobs=-1 memungkinkan pemrosesan paralel untuk mempercepat proses."
   ]
  },
  {
   "cell_type": "code",
   "execution_count": 106,
   "id": "5a75553e",
   "metadata": {},
   "outputs": [
    {
     "data": {
      "text/html": [
       "<style>#sk-container-id-9 {color: black;background-color: white;}#sk-container-id-9 pre{padding: 0;}#sk-container-id-9 div.sk-toggleable {background-color: white;}#sk-container-id-9 label.sk-toggleable__label {cursor: pointer;display: block;width: 100%;margin-bottom: 0;padding: 0.3em;box-sizing: border-box;text-align: center;}#sk-container-id-9 label.sk-toggleable__label-arrow:before {content: \"▸\";float: left;margin-right: 0.25em;color: #696969;}#sk-container-id-9 label.sk-toggleable__label-arrow:hover:before {color: black;}#sk-container-id-9 div.sk-estimator:hover label.sk-toggleable__label-arrow:before {color: black;}#sk-container-id-9 div.sk-toggleable__content {max-height: 0;max-width: 0;overflow: hidden;text-align: left;background-color: #f0f8ff;}#sk-container-id-9 div.sk-toggleable__content pre {margin: 0.2em;color: black;border-radius: 0.25em;background-color: #f0f8ff;}#sk-container-id-9 input.sk-toggleable__control:checked~div.sk-toggleable__content {max-height: 200px;max-width: 100%;overflow: auto;}#sk-container-id-9 input.sk-toggleable__control:checked~label.sk-toggleable__label-arrow:before {content: \"▾\";}#sk-container-id-9 div.sk-estimator input.sk-toggleable__control:checked~label.sk-toggleable__label {background-color: #d4ebff;}#sk-container-id-9 div.sk-label input.sk-toggleable__control:checked~label.sk-toggleable__label {background-color: #d4ebff;}#sk-container-id-9 input.sk-hidden--visually {border: 0;clip: rect(1px 1px 1px 1px);clip: rect(1px, 1px, 1px, 1px);height: 1px;margin: -1px;overflow: hidden;padding: 0;position: absolute;width: 1px;}#sk-container-id-9 div.sk-estimator {font-family: monospace;background-color: #f0f8ff;border: 1px dotted black;border-radius: 0.25em;box-sizing: border-box;margin-bottom: 0.5em;}#sk-container-id-9 div.sk-estimator:hover {background-color: #d4ebff;}#sk-container-id-9 div.sk-parallel-item::after {content: \"\";width: 100%;border-bottom: 1px solid gray;flex-grow: 1;}#sk-container-id-9 div.sk-label:hover label.sk-toggleable__label {background-color: #d4ebff;}#sk-container-id-9 div.sk-serial::before {content: \"\";position: absolute;border-left: 1px solid gray;box-sizing: border-box;top: 0;bottom: 0;left: 50%;z-index: 0;}#sk-container-id-9 div.sk-serial {display: flex;flex-direction: column;align-items: center;background-color: white;padding-right: 0.2em;padding-left: 0.2em;position: relative;}#sk-container-id-9 div.sk-item {position: relative;z-index: 1;}#sk-container-id-9 div.sk-parallel {display: flex;align-items: stretch;justify-content: center;background-color: white;position: relative;}#sk-container-id-9 div.sk-item::before, #sk-container-id-9 div.sk-parallel-item::before {content: \"\";position: absolute;border-left: 1px solid gray;box-sizing: border-box;top: 0;bottom: 0;left: 50%;z-index: -1;}#sk-container-id-9 div.sk-parallel-item {display: flex;flex-direction: column;z-index: 1;position: relative;background-color: white;}#sk-container-id-9 div.sk-parallel-item:first-child::after {align-self: flex-end;width: 50%;}#sk-container-id-9 div.sk-parallel-item:last-child::after {align-self: flex-start;width: 50%;}#sk-container-id-9 div.sk-parallel-item:only-child::after {width: 0;}#sk-container-id-9 div.sk-dashed-wrapped {border: 1px dashed gray;margin: 0 0.4em 0.5em 0.4em;box-sizing: border-box;padding-bottom: 0.4em;background-color: white;}#sk-container-id-9 div.sk-label label {font-family: monospace;font-weight: bold;display: inline-block;line-height: 1.2em;}#sk-container-id-9 div.sk-label-container {text-align: center;}#sk-container-id-9 div.sk-container {/* jupyter's `normalize.less` sets `[hidden] { display: none; }` but bootstrap.min.css set `[hidden] { display: none !important; }` so we also need the `!important` here to be able to override the default hidden behavior on the sphinx rendered scikit-learn.org. See: https://github.com/scikit-learn/scikit-learn/issues/21755 */display: inline-block !important;position: relative;}#sk-container-id-9 div.sk-text-repr-fallback {display: none;}</style><div id=\"sk-container-id-9\" class=\"sk-top-container\"><div class=\"sk-text-repr-fallback\"><pre>RandomizedSearchCV(cv=5,\n",
       "                   estimator=XGBClassifier(base_score=None, booster=None,\n",
       "                                           callbacks=None,\n",
       "                                           colsample_bylevel=None,\n",
       "                                           colsample_bynode=None,\n",
       "                                           colsample_bytree=None, device=None,\n",
       "                                           early_stopping_rounds=None,\n",
       "                                           enable_categorical=False,\n",
       "                                           eval_metric=None, feature_types=None,\n",
       "                                           gamma=None, grow_policy=None,\n",
       "                                           importance_type=None,\n",
       "                                           interaction_constraints=None,\n",
       "                                           learning_rate...\n",
       "                                           max_delta_step=None, max_depth=None,\n",
       "                                           max_leaves=None,\n",
       "                                           min_child_weight=None, missing=nan,\n",
       "                                           monotone_constraints=None,\n",
       "                                           multi_strategy=None,\n",
       "                                           n_estimators=None, n_jobs=None,\n",
       "                                           num_parallel_tree=None,\n",
       "                                           random_state=None, ...),\n",
       "                   n_jobs=-1,\n",
       "                   param_distributions={&#x27;colsample_bytree&#x27;: [0.7, 0.8],\n",
       "                                        &#x27;gamma&#x27;: [0, 0.1],\n",
       "                                        &#x27;learning_rate&#x27;: [0.01, 0.1],\n",
       "                                        &#x27;max_depth&#x27;: [3, 5, 7],\n",
       "                                        &#x27;n_estimators&#x27;: [100, 200]})</pre><b>In a Jupyter environment, please rerun this cell to show the HTML representation or trust the notebook. <br />On GitHub, the HTML representation is unable to render, please try loading this page with nbviewer.org.</b></div><div class=\"sk-container\" hidden><div class=\"sk-item sk-dashed-wrapped\"><div class=\"sk-label-container\"><div class=\"sk-label sk-toggleable\"><input class=\"sk-toggleable__control sk-hidden--visually\" id=\"sk-estimator-id-13\" type=\"checkbox\" ><label for=\"sk-estimator-id-13\" class=\"sk-toggleable__label sk-toggleable__label-arrow\">RandomizedSearchCV</label><div class=\"sk-toggleable__content\"><pre>RandomizedSearchCV(cv=5,\n",
       "                   estimator=XGBClassifier(base_score=None, booster=None,\n",
       "                                           callbacks=None,\n",
       "                                           colsample_bylevel=None,\n",
       "                                           colsample_bynode=None,\n",
       "                                           colsample_bytree=None, device=None,\n",
       "                                           early_stopping_rounds=None,\n",
       "                                           enable_categorical=False,\n",
       "                                           eval_metric=None, feature_types=None,\n",
       "                                           gamma=None, grow_policy=None,\n",
       "                                           importance_type=None,\n",
       "                                           interaction_constraints=None,\n",
       "                                           learning_rate...\n",
       "                                           max_delta_step=None, max_depth=None,\n",
       "                                           max_leaves=None,\n",
       "                                           min_child_weight=None, missing=nan,\n",
       "                                           monotone_constraints=None,\n",
       "                                           multi_strategy=None,\n",
       "                                           n_estimators=None, n_jobs=None,\n",
       "                                           num_parallel_tree=None,\n",
       "                                           random_state=None, ...),\n",
       "                   n_jobs=-1,\n",
       "                   param_distributions={&#x27;colsample_bytree&#x27;: [0.7, 0.8],\n",
       "                                        &#x27;gamma&#x27;: [0, 0.1],\n",
       "                                        &#x27;learning_rate&#x27;: [0.01, 0.1],\n",
       "                                        &#x27;max_depth&#x27;: [3, 5, 7],\n",
       "                                        &#x27;n_estimators&#x27;: [100, 200]})</pre></div></div></div><div class=\"sk-parallel\"><div class=\"sk-parallel-item\"><div class=\"sk-item\"><div class=\"sk-label-container\"><div class=\"sk-label sk-toggleable\"><input class=\"sk-toggleable__control sk-hidden--visually\" id=\"sk-estimator-id-14\" type=\"checkbox\" ><label for=\"sk-estimator-id-14\" class=\"sk-toggleable__label sk-toggleable__label-arrow\">estimator: XGBClassifier</label><div class=\"sk-toggleable__content\"><pre>XGBClassifier(base_score=None, booster=None, callbacks=None,\n",
       "              colsample_bylevel=None, colsample_bynode=None,\n",
       "              colsample_bytree=None, device=None, early_stopping_rounds=None,\n",
       "              enable_categorical=False, eval_metric=None, feature_types=None,\n",
       "              gamma=None, grow_policy=None, importance_type=None,\n",
       "              interaction_constraints=None, learning_rate=None, max_bin=None,\n",
       "              max_cat_threshold=None, max_cat_to_onehot=None,\n",
       "              max_delta_step=None, max_depth=None, max_leaves=None,\n",
       "              min_child_weight=None, missing=nan, monotone_constraints=None,\n",
       "              multi_strategy=None, n_estimators=None, n_jobs=None,\n",
       "              num_parallel_tree=None, random_state=None, ...)</pre></div></div></div><div class=\"sk-serial\"><div class=\"sk-item\"><div class=\"sk-estimator sk-toggleable\"><input class=\"sk-toggleable__control sk-hidden--visually\" id=\"sk-estimator-id-15\" type=\"checkbox\" ><label for=\"sk-estimator-id-15\" class=\"sk-toggleable__label sk-toggleable__label-arrow\">XGBClassifier</label><div class=\"sk-toggleable__content\"><pre>XGBClassifier(base_score=None, booster=None, callbacks=None,\n",
       "              colsample_bylevel=None, colsample_bynode=None,\n",
       "              colsample_bytree=None, device=None, early_stopping_rounds=None,\n",
       "              enable_categorical=False, eval_metric=None, feature_types=None,\n",
       "              gamma=None, grow_policy=None, importance_type=None,\n",
       "              interaction_constraints=None, learning_rate=None, max_bin=None,\n",
       "              max_cat_threshold=None, max_cat_to_onehot=None,\n",
       "              max_delta_step=None, max_depth=None, max_leaves=None,\n",
       "              min_child_weight=None, missing=nan, monotone_constraints=None,\n",
       "              multi_strategy=None, n_estimators=None, n_jobs=None,\n",
       "              num_parallel_tree=None, random_state=None, ...)</pre></div></div></div></div></div></div></div></div></div></div>"
      ],
      "text/plain": [
       "RandomizedSearchCV(cv=5,\n",
       "                   estimator=XGBClassifier(base_score=None, booster=None,\n",
       "                                           callbacks=None,\n",
       "                                           colsample_bylevel=None,\n",
       "                                           colsample_bynode=None,\n",
       "                                           colsample_bytree=None, device=None,\n",
       "                                           early_stopping_rounds=None,\n",
       "                                           enable_categorical=False,\n",
       "                                           eval_metric=None, feature_types=None,\n",
       "                                           gamma=None, grow_policy=None,\n",
       "                                           importance_type=None,\n",
       "                                           interaction_constraints=None,\n",
       "                                           learning_rate...\n",
       "                                           max_delta_step=None, max_depth=None,\n",
       "                                           max_leaves=None,\n",
       "                                           min_child_weight=None, missing=nan,\n",
       "                                           monotone_constraints=None,\n",
       "                                           multi_strategy=None,\n",
       "                                           n_estimators=None, n_jobs=None,\n",
       "                                           num_parallel_tree=None,\n",
       "                                           random_state=None, ...),\n",
       "                   n_jobs=-1,\n",
       "                   param_distributions={'colsample_bytree': [0.7, 0.8],\n",
       "                                        'gamma': [0, 0.1],\n",
       "                                        'learning_rate': [0.01, 0.1],\n",
       "                                        'max_depth': [3, 5, 7],\n",
       "                                        'n_estimators': [100, 200]})"
      ]
     },
     "execution_count": 106,
     "metadata": {},
     "output_type": "execute_result"
    }
   ],
   "source": [
    "xgb_model.fit(X_train_normal, y_train_normal)"
   ]
  },
  {
   "cell_type": "code",
   "execution_count": 107,
   "id": "03ef4cca",
   "metadata": {},
   "outputs": [
    {
     "name": "stdout",
     "output_type": "stream",
     "text": [
      "Best parameters: {'n_estimators': 200, 'max_depth': 7, 'learning_rate': 0.1, 'gamma': 0, 'colsample_bytree': 0.8}\n"
     ]
    }
   ],
   "source": [
    "best_params = xgb_model.best_params_\n",
    "print(f\"Best parameters: {best_params}\")"
   ]
  },
  {
   "cell_type": "markdown",
   "id": "85313166",
   "metadata": {},
   "source": [
    "kode di atas digunakan untuk mendapatkan parameter terbaik (best parameters) yang dihasilkan dari proses Randomized Search Cross-Validation pada model XBoost."
   ]
  },
  {
   "cell_type": "code",
   "execution_count": 108,
   "id": "e0dd7d19",
   "metadata": {},
   "outputs": [],
   "source": [
    "y_pred_xgb = xgb_model.predict(X_test_normal)"
   ]
  },
  {
   "cell_type": "code",
   "execution_count": 109,
   "id": "0429e567",
   "metadata": {},
   "outputs": [
    {
     "name": "stdout",
     "output_type": "stream",
     "text": [
      "\n",
      "XGBoost Model:\n",
      "Accuracy: 0.909\n",
      "Classification Report:\n",
      "              precision    recall  f1-score   support\n",
      "\n",
      "         0.0       0.88      0.95      0.91        38\n",
      "         1.0       0.88      0.81      0.85        37\n",
      "         2.0       0.86      0.86      0.86        37\n",
      "         3.0       0.95      1.00      0.97        38\n",
      "         4.0       0.97      0.92      0.94        37\n",
      "\n",
      "    accuracy                           0.91       187\n",
      "   macro avg       0.91      0.91      0.91       187\n",
      "weighted avg       0.91      0.91      0.91       187\n",
      "\n"
     ]
    }
   ],
   "source": [
    "#Evaluate the XGBoost model\n",
    "print(\"\\nXGBoost Model:\")\n",
    "accuracy_xgb_smote_normal_Tun = round(accuracy_score(y_test_normal, y_pred_xgb),3)\n",
    "print(\"Accuracy:\",accuracy_xgb_smote_normal_Tun)\n",
    "print(\"Classification Report:\")\n",
    "print(classification_report(y_test_normal, y_pred_xgb))"
   ]
  },
  {
   "cell_type": "markdown",
   "id": "f448e1d2",
   "metadata": {},
   "source": [
    "kode di atas digunakan untuk mengevaluasi model XGBoost yang telah dituning parameter dengan hasil dari Randomized Search Cross-Validation.  Akurasi model dihitung dengan membandingkan prediksi model  dengan label sebenarnya . Ditampilkan memberikan informasi rinci tentang precision, recall, dan f1-score untuk setiap kelas dalam data pengujian yang telah dinormalisasi. Proses ini memberikan gambaran tentang sejauh mana model XGBoost yang menggunakan data yang telah dituning parameter mampu melakukan klasifikasi pada dataset pengujian. Terlihat dari report diatas Model XBoost dengan metode Tuning + normalisasi + Oversample mempunyai akurasi 90,9%"
   ]
  },
  {
   "cell_type": "code",
   "execution_count": 110,
   "id": "49202ae6",
   "metadata": {},
   "outputs": [
    {
     "name": "stdout",
     "output_type": "stream",
     "text": [
      "{'accuracy': 0.909, 'recall': 0.909, 'F1 score': 0.908, 'Precision score': 0.909}\n"
     ]
    }
   ],
   "source": [
    "evaluation(y_test_normal,y_pred_xgb)"
   ]
  },
  {
   "cell_type": "code",
   "execution_count": 111,
   "id": "a4a690cc",
   "metadata": {},
   "outputs": [],
   "source": [
    "cm = confusion_matrix(y_test_normal, y_pred_xgb)"
   ]
  },
  {
   "cell_type": "code",
   "execution_count": 112,
   "id": "561b6b84",
   "metadata": {},
   "outputs": [
    {
     "data": {
      "image/png": "[encoded data removed]",
      "text/plain": [
       "<Figure size 576x432 with 2 Axes>"
      ]
     },
     "metadata": {
      "needs_background": "light"
     },
     "output_type": "display_data"
    }
   ],
   "source": [
    "plt.figure(figsize=(8, 6))\n",
    "sns.heatmap(cm, annot=True, fmt=\"d\", cmap=\"Blues\")\n",
    "plt.title('Confusion Matrix')\n",
    "plt.xlabel('True')\n",
    "plt.ylabel('Predict')\n",
    "plt.show()"
   ]
  },
  {
   "cell_type": "markdown",
   "id": "4d288732",
   "metadata": {},
   "source": [
    "## Evaluasi "
   ]
  },
  {
   "cell_type": "markdown",
   "id": "c6a4facd",
   "metadata": {},
   "source": [
    "Selanjutnya kita akan melakukan evaluasi data sekaligus membandingkan antar algoritma guna dengan tujuan mengetahui jenis model\n",
    "algoritma yang menghasilkan hasil akurasi terbaik."
   ]
  },
  {
   "cell_type": "code",
   "execution_count": 113,
   "id": "f3201e91",
   "metadata": {},
   "outputs": [],
   "source": [
    "import matplotlib.pyplot as plt"
   ]
  },
  {
   "cell_type": "markdown",
   "id": "d668c92e",
   "metadata": {},
   "source": [
    "Coding diatas mengimpor modul matplotlib.pyplot sebagai plt, yang digunakan untuk membuat visualisasi grafis. "
   ]
  },
  {
   "cell_type": "code",
   "execution_count": 114,
   "id": "af596db4",
   "metadata": {},
   "outputs": [
    {
     "data": {
      "text/html": [
       "<div>\n",
       "<style scoped>\n",
       "    .dataframe tbody tr th:only-of-type {\n",
       "        vertical-align: middle;\n",
       "    }\n",
       "\n",
       "    .dataframe tbody tr th {\n",
       "        vertical-align: top;\n",
       "    }\n",
       "\n",
       "    .dataframe thead th {\n",
       "        text-align: right;\n",
       "    }\n",
       "</style>\n",
       "<table border=\"1\" class=\"dataframe\">\n",
       "  <thead>\n",
       "    <tr style=\"text-align: right;\">\n",
       "      <th></th>\n",
       "      <th>Model</th>\n",
       "      <th>Accuracy</th>\n",
       "    </tr>\n",
       "  </thead>\n",
       "  <tbody>\n",
       "    <tr>\n",
       "      <th>0</th>\n",
       "      <td>K-Nearest Neighbour</td>\n",
       "      <td>75.4</td>\n",
       "    </tr>\n",
       "    <tr>\n",
       "      <th>1</th>\n",
       "      <td>Random Forest</td>\n",
       "      <td>92.0</td>\n",
       "    </tr>\n",
       "    <tr>\n",
       "      <th>2</th>\n",
       "      <td>XGBoost</td>\n",
       "      <td>90.4</td>\n",
       "    </tr>\n",
       "  </tbody>\n",
       "</table>\n",
       "</div>"
      ],
      "text/plain": [
       "                 Model  Accuracy\n",
       "0  K-Nearest Neighbour      75.4\n",
       "1        Random Forest      92.0\n",
       "2              XGBoost      90.4"
      ]
     },
     "execution_count": 114,
     "metadata": {},
     "output_type": "execute_result"
    }
   ],
   "source": [
    "model_comp1 = pd.DataFrame({'Model': ['K-Nearest Neighbour','Random Forest',\n",
    "'XGBoost'], 'Accuracy': [accuracy_knn_smote*100,\n",
    "accuracy_rf_smote*100,accuracy_xgb_smote*100]})\n",
    "\n",
    "model_comp1.head()"
   ]
  },
  {
   "cell_type": "markdown",
   "id": "45d9539e",
   "metadata": {},
   "source": [
    "Coding diatas untuk menampilkan hasil Model dan berapa akurasinya secara numerik dalam tabel dari Metode Oversampel. Terlihat dari report langsung perbandingan KNN mempunyai akurasi 75,4% RF 92% dan Xboost 90,4%"
   ]
  },
  {
   "cell_type": "code",
   "execution_count": 115,
   "id": "a82138a5",
   "metadata": {},
   "outputs": [
    {
     "data": {
      "image/png": "[encoded data removed]",
      "text/plain": [
       "<Figure size 432x288 with 1 Axes>"
      ]
     },
     "metadata": {
      "needs_background": "light"
     },
     "output_type": "display_data"
    }
   ],
   "source": [
    "# Membuat bar plot dengan keterangan jumlah\n",
    "fig, ax = plt.subplots()\n",
    "bars = plt.bar(model_comp1['Model'], model_comp1['Accuracy'], color=['red', 'green', 'blue'])\n",
    "plt.xlabel('Model')\n",
    "plt.ylabel('Accuracy (%)')\n",
    "plt.title('Oversample')\n",
    "plt.xticks(rotation=45, ha='right') # Untuk memutar label sumbu x agar lebih mudah dibaca\n",
    "\n",
    "# Menambahkan keterangan jumlah di atas setiap bar\n",
    "for bar in bars:\n",
    "    yval = bar.get_height()\n",
    "    plt.text(bar.get_x() + bar.get_width()/2, yval, round(yval, 2), ha='center', va='bottom')\n",
    "plt.show()"
   ]
  },
  {
   "cell_type": "markdown",
   "id": "7920438a",
   "metadata": {},
   "source": [
    "Coding diatas untuk menampilkan hasil Model dan berapa akurasinya secara visual dengan grafik dari Metode Oversampel. Terlihat dari report langsung perbandingan KNN mempunyai akurasi 75,4% RF 92% dan Xboost 90,4%"
   ]
  },
  {
   "cell_type": "code",
   "execution_count": 116,
   "id": "b6b0a9fc",
   "metadata": {},
   "outputs": [
    {
     "data": {
      "text/html": [
       "<div>\n",
       "<style scoped>\n",
       "    .dataframe tbody tr th:only-of-type {\n",
       "        vertical-align: middle;\n",
       "    }\n",
       "\n",
       "    .dataframe tbody tr th {\n",
       "        vertical-align: top;\n",
       "    }\n",
       "\n",
       "    .dataframe thead th {\n",
       "        text-align: right;\n",
       "    }\n",
       "</style>\n",
       "<table border=\"1\" class=\"dataframe\">\n",
       "  <thead>\n",
       "    <tr style=\"text-align: right;\">\n",
       "      <th></th>\n",
       "      <th>Model</th>\n",
       "      <th>Accuracy</th>\n",
       "    </tr>\n",
       "  </thead>\n",
       "  <tbody>\n",
       "    <tr>\n",
       "      <th>0</th>\n",
       "      <td>K-Nearest Neighbour</td>\n",
       "      <td>86.1</td>\n",
       "    </tr>\n",
       "    <tr>\n",
       "      <th>1</th>\n",
       "      <td>Random Forest</td>\n",
       "      <td>92.0</td>\n",
       "    </tr>\n",
       "    <tr>\n",
       "      <th>2</th>\n",
       "      <td>XGBoost</td>\n",
       "      <td>90.4</td>\n",
       "    </tr>\n",
       "  </tbody>\n",
       "</table>\n",
       "</div>"
      ],
      "text/plain": [
       "                 Model  Accuracy\n",
       "0  K-Nearest Neighbour      86.1\n",
       "1        Random Forest      92.0\n",
       "2              XGBoost      90.4"
      ]
     },
     "execution_count": 116,
     "metadata": {},
     "output_type": "execute_result"
    }
   ],
   "source": [
    "model_comp2 = pd.DataFrame({'Model': ['K-Nearest Neighbour','Random Forest',\n",
    "'XGBoost'], 'Accuracy': [accuracy_knn_smote_normal*100,\n",
    "accuracy_rf_smote_normal*100,accuracy_xgb_smote_normal*100]})\n",
    "\n",
    "model_comp2.head()"
   ]
  },
  {
   "cell_type": "markdown",
   "id": "b85f649c",
   "metadata": {},
   "source": [
    "Coding diatas untuk menampilkan hasil Model dan berapa akurasinya secara numerik dalam tabel dari Metode Normalisasi + Oversampel. Terlihat dari report langsung perbandingan KNN mempunyai akurasi 86,1% RF 92% dan Xboost 90,4%"
   ]
  },
  {
   "cell_type": "code",
   "execution_count": 117,
   "id": "486599bf",
   "metadata": {},
   "outputs": [
    {
     "data": {
      "image/png": "[encoded data removed]",
      "text/plain": [
       "<Figure size 432x288 with 1 Axes>"
      ]
     },
     "metadata": {
      "needs_background": "light"
     },
     "output_type": "display_data"
    }
   ],
   "source": [
    "# Membuat bar plot dengan keterangan jumlah\n",
    "fig, ax = plt.subplots()\n",
    "bars = plt.bar(model_comp2['Model'], model_comp2['Accuracy'], color=['red', 'green', 'blue'])\n",
    "plt.xlabel('Model')\n",
    "plt.ylabel('Accuracy (%)')\n",
    "plt.title('Normalization + Oversampling')\n",
    "plt.xticks(rotation=45, ha='right') # Untuk memutar label sumbu x agar lebih mudah dibaca\n",
    "\n",
    "# Menambahkan keterangan jumlah di atas setiap bar\n",
    "for bar in bars:\n",
    "    yval = bar.get_height()\n",
    "    plt.text(bar.get_x() + bar.get_width()/2, yval, round(yval, 2), ha='center', va='bottom')\n",
    "plt.show()"
   ]
  },
  {
   "cell_type": "markdown",
   "id": "22dde291",
   "metadata": {},
   "source": [
    "Coding diatas untuk menampilkan hasil Model dan berapa akurasinya secara visual dalam grafik dari Metode Normalisasi + Oversampel. Terlihat dari report langsung perbandingan KNN mempunyai akurasi 86,1% RF 92% dan Xboost 90,4%"
   ]
  },
  {
   "cell_type": "code",
   "execution_count": 118,
   "id": "21af2898",
   "metadata": {},
   "outputs": [
    {
     "data": {
      "text/html": [
       "<div>\n",
       "<style scoped>\n",
       "    .dataframe tbody tr th:only-of-type {\n",
       "        vertical-align: middle;\n",
       "    }\n",
       "\n",
       "    .dataframe tbody tr th {\n",
       "        vertical-align: top;\n",
       "    }\n",
       "\n",
       "    .dataframe thead th {\n",
       "        text-align: right;\n",
       "    }\n",
       "</style>\n",
       "<table border=\"1\" class=\"dataframe\">\n",
       "  <thead>\n",
       "    <tr style=\"text-align: right;\">\n",
       "      <th></th>\n",
       "      <th>Model</th>\n",
       "      <th>Accuracy</th>\n",
       "    </tr>\n",
       "  </thead>\n",
       "  <tbody>\n",
       "    <tr>\n",
       "      <th>0</th>\n",
       "      <td>K-Nearest Neighbour</td>\n",
       "      <td>93.0</td>\n",
       "    </tr>\n",
       "    <tr>\n",
       "      <th>1</th>\n",
       "      <td>Random Forest</td>\n",
       "      <td>88.2</td>\n",
       "    </tr>\n",
       "    <tr>\n",
       "      <th>2</th>\n",
       "      <td>XGBoost</td>\n",
       "      <td>90.9</td>\n",
       "    </tr>\n",
       "  </tbody>\n",
       "</table>\n",
       "</div>"
      ],
      "text/plain": [
       "                 Model  Accuracy\n",
       "0  K-Nearest Neighbour      93.0\n",
       "1        Random Forest      88.2\n",
       "2              XGBoost      90.9"
      ]
     },
     "execution_count": 118,
     "metadata": {},
     "output_type": "execute_result"
    }
   ],
   "source": [
    "model_comp3 = pd.DataFrame({'Model': ['K-Nearest Neighbour','Random Forest',\n",
    "'XGBoost'], 'Accuracy': [accuracy_knn_smote_normal_Tun*100,\n",
    "accuracy_rf_smote_normal_Tun*100,accuracy_xgb_smote_normal_Tun*100]})\n",
    "\n",
    "model_comp3.head()"
   ]
  },
  {
   "cell_type": "markdown",
   "id": "4f431a9c",
   "metadata": {},
   "source": [
    "Coding diatas untuk menampilkan hasil Model dan berapa akurasinya secara numerik dalam tabel dari Metode Normalisasi + Tunning + Oversampel. Terlihat dari report langsung perbandingan KNN mempunyai akurasi 93% RF 88,2% dan Xboost 90,9%"
   ]
  },
  {
   "cell_type": "code",
   "execution_count": 119,
   "id": "10d9ad78",
   "metadata": {},
   "outputs": [
    {
     "data": {
      "image/png": "[encoded data removed]",
      "text/plain": [
       "<Figure size 432x288 with 1 Axes>"
      ]
     },
     "metadata": {
      "needs_background": "light"
     },
     "output_type": "display_data"
    }
   ],
   "source": [
    "# Membuat bar plot dengan keterangan jumlah\n",
    "fig, ax = plt.subplots()\n",
    "bars = plt.bar(model_comp3['Model'], model_comp3['Accuracy'], color=['red', 'green', 'blue'])\n",
    "plt.xlabel('Model')\n",
    "plt.ylabel('Accuracy (%)')\n",
    "plt.title('Normalization + Oversampling + Tunning')\n",
    "plt.xticks(rotation=45, ha='right') # Untuk memutar label sumbu x agar lebih mudah dibaca\n",
    "# Menambahkan keterangan jumlah di atas setiap bar\n",
    "for bar in bars:\n",
    "    yval = bar.get_height()\n",
    "    plt.text(bar.get_x() + bar.get_width()/2, yval, round(yval, 2), ha='center', va='bottom')\n",
    "plt.show()"
   ]
  },
  {
   "cell_type": "markdown",
   "id": "f6a4ae64",
   "metadata": {},
   "source": [
    "Coding diatas untuk menampilkan hasil Model dan berapa akurasinya secara visual dalam grafik dari Metode Normalisasi + tunning + Oversampel. Terlihat dari report langsung perbandingan KNN mempunyai akurasi 93% RF 88,2% dan Xboost 90,9%"
   ]
  },
  {
   "cell_type": "code",
   "execution_count": 122,
   "id": "88a78201",
   "metadata": {},
   "outputs": [],
   "source": [
    "# Data frame\n",
    "model_compBest = pd.DataFrame({\n",
    "'Model': ['K-Nearest Neighbour Normalization + Oversampling + Tunning', 'Random Forest OverSample',\n",
    "'XGB Normalization + Oversampling + Tunning'],\n",
    "'Accuracy': [accuracy_knn_smote_normal_Tun*100, accuracy_rf_smote_normal*100,\n",
    "accuracy_xgb_smote_normal_Tun*100]\n",
    "})"
   ]
  },
  {
   "cell_type": "code",
   "execution_count": 123,
   "id": "49d27649",
   "metadata": {},
   "outputs": [
    {
     "data": {
      "image/png": "[encoded data removed]",
      "text/plain": [
       "<Figure size 432x288 with 1 Axes>"
      ]
     },
     "metadata": {
      "needs_background": "light"
     },
     "output_type": "display_data"
    }
   ],
   "source": [
    "# Membuat bar plot dengan keterangan jumlah\n",
    "fig, ax = plt.subplots()\n",
    "bars = plt.bar(model_compBest['Model'], model_compBest['Accuracy'], color=['red', 'green', 'blue'])\n",
    "plt.xlabel('Model')\n",
    "plt.ylabel('Accuracy (%)')\n",
    "plt.title('Best Model Comparison')\n",
    "plt.xticks(rotation=45, ha='right') # Untuk memutar label sumbu x agar lebih mudah dibaca\n",
    "\n",
    "# Menambahkan keterangan jumlah di atas setiap bar\n",
    "for bar in bars:\n",
    "    yval = bar.get_height()\n",
    "    plt.text(bar.get_x() + bar.get_width()/2, yval, round(yval, 2), ha='center', va='bottom')\n",
    "plt.show()"
   ]
  },
  {
   "cell_type": "markdown",
   "id": "50ff5486",
   "metadata": {},
   "source": [
    "Dari coding diatas menampilkan hasilvisual dalam grafik dengan melakukan comparasi antara metode Oversample, metode Normalisasi + oversample, metode Tunning + normalisasi + oversample. Terlihat bahwa model KNN terbaik dengan metode Normalisasi + Oversample + Tunning. Model RF terbaik pada metode Oversample. Model XBoost terbaik pada metode Oversample + normalisasi+ Tunning"
   ]
  },
  {
   "cell_type": "markdown",
   "id": "adf77382",
   "metadata": {},
   "source": [
    "## Streamlit"
   ]
  },
  {
   "cell_type": "markdown",
   "id": "8faaab39",
   "metadata": {},
   "source": [
    "## Kesimpulan"
   ]
  },
  {
   "cell_type": "markdown",
   "id": "b6d040a5",
   "metadata": {},
   "source": [
    "Dari hasil penelitian, dapat disimpulkan bahwa penerapan model klasifikasi menggunakan algoritma KNN, Random Forest, dan XGBoost dengan penanganan data yang mencakup random oversampling SMOTE, tunning dengan RandomizedSearchCV, dan normalisasi memberikan hasil yang beragam. Pada kasus klasifikasi dengan menggunakan metode Random Oversampling SMOTE, model KNN mencapai akurasi sebesar 75.4%, sementara model Random Forest dan XGBoost memiliki akurasi masing-masing sebesar 92% dan 90.4%. Pada percobaan selanjutnya dengan normalisasi data, akurasi model KNN meningkat menjadi 86.1%, sementara model Random Forest dan XGBoost tetap pada tingkat akurasi sebelumnya, yaitu 92% dan 90.4%. Selanjutnya, setelah melakukan tunning dengan RandomizedSearchCV, normalisasi, dan Random Oversampling SMOTE, model KNN mencapai akurasi tertinggi sebesar 93%, sementara model Random Forest mengalami penurunan akurasi menjadi 88.2%, dan model XGBoost mencapai akurasi 90.9%. Secara keseluruhan, dapat disimpulkan bahwa penanganan ketidakseimbangan data dengan tunning parameter, normalisasi, dan oversampling memiliki dampak yang signifikan terhadap performa model klasifikasi. Pemilihan model terbaik dan penyesuaian parameter optimal dapat meningkatkan akurasi dan kinerja model secara keseluruhan."
   ]
  },
  {
   "cell_type": "code",
   "execution_count": null,
   "id": "181a02ce",
   "metadata": {},
   "outputs": [],
   "source": []
  }
 ],
 "metadata": {
  "kernelspec": {
   "display_name": "Python 3 (ipykernel)",
   "language": "python",
   "name": "python3"
  },
  "language_info": {
   "codemirror_mode": {
    "name": "ipython",
    "version": 3
   },
   "file_extension": ".py",
   "mimetype": "text/x-python",
   "name": "python",
   "nbconvert_exporter": "python",
   "pygments_lexer": "ipython3",
   "version": "3.9.12"
  },
  "toc": {
   "base_numbering": 1,
   "nav_menu": {},
   "number_sections": true,
   "sideBar": true,
   "skip_h1_title": false,
   "title_cell": "Table of Contents",
   "title_sidebar": "Contents",
   "toc_cell": false,
   "toc_position": {},
   "toc_section_display": true,
   "toc_window_display": true
  }
 },
 "nbformat": 4,
 "nbformat_minor": 5
}
